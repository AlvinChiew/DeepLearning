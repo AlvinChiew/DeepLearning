{
  "nbformat": 4,
  "nbformat_minor": 0,
  "metadata": {
    "colab": {
      "name": "TF2.0_NLP_RNN_CNN_SpamDetection.ipynb",
      "provenance": [],
      "collapsed_sections": [],
      "toc_visible": true,
      "authorship_tag": "ABX9TyOExGyusHAt3lMCtD88U47M",
      "include_colab_link": true
    },
    "kernelspec": {
      "name": "python3",
      "display_name": "Python 3"
    }
  },
  "cells": [
    {
      "cell_type": "markdown",
      "metadata": {
        "id": "view-in-github",
        "colab_type": "text"
      },
      "source": [
        "<a href=\"https://colab.research.google.com/github/AlvinChiew/DeepLearning/blob/main/TF2_0_NLP_RNN_CNN_SpamDetection.ipynb\" target=\"_parent\"><img src=\"https://colab.research.google.com/assets/colab-badge.svg\" alt=\"Open In Colab\"/></a>"
      ]
    },
    {
      "cell_type": "code",
      "metadata": {
        "id": "R_IXjVRbiV4w"
      },
      "source": [
        "# possible applications : sentimental analysis, documentation classification, etc"
      ],
      "execution_count": null,
      "outputs": []
    },
    {
      "cell_type": "markdown",
      "metadata": {
        "id": "GUnfSWfTi95G"
      },
      "source": [
        "# Module Import"
      ]
    },
    {
      "cell_type": "code",
      "metadata": {
        "id": "QcQ-gPn9jCbx"
      },
      "source": [
        "import numpy as py\r\n",
        "import pandas as pd\r\n",
        "import matplotlib.pyplot as plt\r\n",
        "\r\n",
        "from sklearn.model_selection import train_test_split\r\n",
        "from tensorflow.keras.preprocessing.text import Tokenizer\r\n",
        "from tensorflow.keras.preprocessing.sequence import pad_sequences\r\n",
        "from tensorflow.keras.layers import Dense, Input, GlobalMaxPooling1D, Embedding, LSTM\r\n",
        "from tensorflow.keras.models import Model"
      ],
      "execution_count": null,
      "outputs": []
    },
    {
      "cell_type": "markdown",
      "metadata": {
        "id": "vJF8rxytlkeG"
      },
      "source": [
        "# Load Data"
      ]
    },
    {
      "cell_type": "code",
      "metadata": {
        "colab": {
          "base_uri": "https://localhost:8080/"
        },
        "id": "VLgkI_sQlkAa",
        "outputId": "74c7fc4a-7210-4be0-88a1-ccfc065d4f19"
      },
      "source": [
        "!wget https://raw.githubusercontent.com/AlvinChiew/DeepLearning/main/raw_data/TF2.0_NLP_LSTM_spam.csv"
      ],
      "execution_count": null,
      "outputs": [
        {
          "output_type": "stream",
          "text": [
            "--2020-12-20 10:58:01--  https://raw.githubusercontent.com/AlvinChiew/DeepLearning/main/raw_data/TF2.0_NLP_LSTM_spam.csv\n",
            "Resolving raw.githubusercontent.com (raw.githubusercontent.com)... 151.101.0.133, 151.101.64.133, 151.101.128.133, ...\n",
            "Connecting to raw.githubusercontent.com (raw.githubusercontent.com)|151.101.0.133|:443... connected.\n",
            "HTTP request sent, awaiting response... 200 OK\n",
            "Length: 503663 (492K) [text/plain]\n",
            "Saving to: ‘TF2.0_NLP_LSTM_spam.csv’\n",
            "\n",
            "TF2.0_NLP_LSTM_spam 100%[===================>] 491.86K  --.-KB/s    in 0.04s   \n",
            "\n",
            "2020-12-20 10:58:01 (10.7 MB/s) - ‘TF2.0_NLP_LSTM_spam.csv’ saved [503663/503663]\n",
            "\n"
          ],
          "name": "stdout"
        }
      ]
    },
    {
      "cell_type": "code",
      "metadata": {
        "colab": {
          "base_uri": "https://localhost:8080/",
          "height": 204
        },
        "id": "u2Hknlc3lxnG",
        "outputId": "b4d77e38-0646-43aa-da3d-21c823a66617"
      },
      "source": [
        " df = pd.read_csv('TF2.0_NLP_LSTM_spam.csv', encoding='ISO-8859-1')\r\n",
        " df.head()"
      ],
      "execution_count": null,
      "outputs": [
        {
          "output_type": "execute_result",
          "data": {
            "text/html": [
              "<div>\n",
              "<style scoped>\n",
              "    .dataframe tbody tr th:only-of-type {\n",
              "        vertical-align: middle;\n",
              "    }\n",
              "\n",
              "    .dataframe tbody tr th {\n",
              "        vertical-align: top;\n",
              "    }\n",
              "\n",
              "    .dataframe thead th {\n",
              "        text-align: right;\n",
              "    }\n",
              "</style>\n",
              "<table border=\"1\" class=\"dataframe\">\n",
              "  <thead>\n",
              "    <tr style=\"text-align: right;\">\n",
              "      <th></th>\n",
              "      <th>v1</th>\n",
              "      <th>v2</th>\n",
              "      <th>Unnamed: 2</th>\n",
              "      <th>Unnamed: 3</th>\n",
              "      <th>Unnamed: 4</th>\n",
              "    </tr>\n",
              "  </thead>\n",
              "  <tbody>\n",
              "    <tr>\n",
              "      <th>0</th>\n",
              "      <td>ham</td>\n",
              "      <td>Go until jurong point, crazy.. Available only ...</td>\n",
              "      <td>NaN</td>\n",
              "      <td>NaN</td>\n",
              "      <td>NaN</td>\n",
              "    </tr>\n",
              "    <tr>\n",
              "      <th>1</th>\n",
              "      <td>ham</td>\n",
              "      <td>Ok lar... Joking wif u oni...</td>\n",
              "      <td>NaN</td>\n",
              "      <td>NaN</td>\n",
              "      <td>NaN</td>\n",
              "    </tr>\n",
              "    <tr>\n",
              "      <th>2</th>\n",
              "      <td>spam</td>\n",
              "      <td>Free entry in 2 a wkly comp to win FA Cup fina...</td>\n",
              "      <td>NaN</td>\n",
              "      <td>NaN</td>\n",
              "      <td>NaN</td>\n",
              "    </tr>\n",
              "    <tr>\n",
              "      <th>3</th>\n",
              "      <td>ham</td>\n",
              "      <td>U dun say so early hor... U c already then say...</td>\n",
              "      <td>NaN</td>\n",
              "      <td>NaN</td>\n",
              "      <td>NaN</td>\n",
              "    </tr>\n",
              "    <tr>\n",
              "      <th>4</th>\n",
              "      <td>ham</td>\n",
              "      <td>Nah I don't think he goes to usf, he lives aro...</td>\n",
              "      <td>NaN</td>\n",
              "      <td>NaN</td>\n",
              "      <td>NaN</td>\n",
              "    </tr>\n",
              "  </tbody>\n",
              "</table>\n",
              "</div>"
            ],
            "text/plain": [
              "     v1  ... Unnamed: 4\n",
              "0   ham  ...        NaN\n",
              "1   ham  ...        NaN\n",
              "2  spam  ...        NaN\n",
              "3   ham  ...        NaN\n",
              "4   ham  ...        NaN\n",
              "\n",
              "[5 rows x 5 columns]"
            ]
          },
          "metadata": {
            "tags": []
          },
          "execution_count": 4
        }
      ]
    },
    {
      "cell_type": "markdown",
      "metadata": {
        "id": "L_ThmsfMmGxL"
      },
      "source": [
        "# Data Pre-Processing"
      ]
    },
    {
      "cell_type": "code",
      "metadata": {
        "colab": {
          "base_uri": "https://localhost:8080/",
          "height": 204
        },
        "id": "E3fIHtRemI08",
        "outputId": "09eab733-15fe-4c95-f8c7-ce8f107b6f74"
      },
      "source": [
        "df.drop(columns=df.columns[2:], inplace=True)               # remove uselss columns\r\n",
        "df.columns = ['labels', 'data']                             # rename column headers\r\n",
        "df['labels_idx'] = df['labels'].map({'ham':0,'spam':1})     # relabel target values to index (binary in this case)\r\n",
        "df.head()"
      ],
      "execution_count": null,
      "outputs": [
        {
          "output_type": "execute_result",
          "data": {
            "text/html": [
              "<div>\n",
              "<style scoped>\n",
              "    .dataframe tbody tr th:only-of-type {\n",
              "        vertical-align: middle;\n",
              "    }\n",
              "\n",
              "    .dataframe tbody tr th {\n",
              "        vertical-align: top;\n",
              "    }\n",
              "\n",
              "    .dataframe thead th {\n",
              "        text-align: right;\n",
              "    }\n",
              "</style>\n",
              "<table border=\"1\" class=\"dataframe\">\n",
              "  <thead>\n",
              "    <tr style=\"text-align: right;\">\n",
              "      <th></th>\n",
              "      <th>labels</th>\n",
              "      <th>data</th>\n",
              "      <th>labels_idx</th>\n",
              "    </tr>\n",
              "  </thead>\n",
              "  <tbody>\n",
              "    <tr>\n",
              "      <th>0</th>\n",
              "      <td>ham</td>\n",
              "      <td>Go until jurong point, crazy.. Available only ...</td>\n",
              "      <td>0</td>\n",
              "    </tr>\n",
              "    <tr>\n",
              "      <th>1</th>\n",
              "      <td>ham</td>\n",
              "      <td>Ok lar... Joking wif u oni...</td>\n",
              "      <td>0</td>\n",
              "    </tr>\n",
              "    <tr>\n",
              "      <th>2</th>\n",
              "      <td>spam</td>\n",
              "      <td>Free entry in 2 a wkly comp to win FA Cup fina...</td>\n",
              "      <td>1</td>\n",
              "    </tr>\n",
              "    <tr>\n",
              "      <th>3</th>\n",
              "      <td>ham</td>\n",
              "      <td>U dun say so early hor... U c already then say...</td>\n",
              "      <td>0</td>\n",
              "    </tr>\n",
              "    <tr>\n",
              "      <th>4</th>\n",
              "      <td>ham</td>\n",
              "      <td>Nah I don't think he goes to usf, he lives aro...</td>\n",
              "      <td>0</td>\n",
              "    </tr>\n",
              "  </tbody>\n",
              "</table>\n",
              "</div>"
            ],
            "text/plain": [
              "  labels                                               data  labels_idx\n",
              "0    ham  Go until jurong point, crazy.. Available only ...           0\n",
              "1    ham                      Ok lar... Joking wif u oni...           0\n",
              "2   spam  Free entry in 2 a wkly comp to win FA Cup fina...           1\n",
              "3    ham  U dun say so early hor... U c already then say...           0\n",
              "4    ham  Nah I don't think he goes to usf, he lives aro...           0"
            ]
          },
          "metadata": {
            "tags": []
          },
          "execution_count": 5
        }
      ]
    },
    {
      "cell_type": "code",
      "metadata": {
        "id": "0DCbzR59ourR"
      },
      "source": [
        "X = df['data']\r\n",
        "y = df['labels_idx'].values"
      ],
      "execution_count": null,
      "outputs": []
    },
    {
      "cell_type": "code",
      "metadata": {
        "id": "CnXS_jInpEKM"
      },
      "source": [
        "X_train, X_test, y_train, y_test = train_test_split(X, y,test_size=0.33, random_state=0)"
      ],
      "execution_count": null,
      "outputs": []
    },
    {
      "cell_type": "markdown",
      "metadata": {
        "id": "dSurDhgatd9r"
      },
      "source": [
        "## Train Set"
      ]
    },
    {
      "cell_type": "code",
      "metadata": {
        "id": "uyUzEouQpU6N"
      },
      "source": [
        "# convert sentences to vectors\r\n",
        "\r\n",
        "MAX_VOCAB_SIZE = 20000\r\n",
        "tokenizer = Tokenizer(num_words=MAX_VOCAB_SIZE)\r\n",
        "tokenizer.fit_on_texts(X_train)                             # train tokenizing model\r\n",
        "\r\n",
        "X_train_sequence = tokenizer.texts_to_sequences(X_train)     # fit tokenizing model"
      ],
      "execution_count": null,
      "outputs": []
    },
    {
      "cell_type": "code",
      "metadata": {
        "colab": {
          "base_uri": "https://localhost:8080/"
        },
        "id": "erxa_jrcrQOA",
        "outputId": "fcae364f-d322-4fe7-e81e-419192c9cad9"
      },
      "source": [
        "word_idx = tokenizer.word_index\r\n",
        "V = len(word_idx)  \r\n",
        "print(f'# tokens of word : {V}')        # V = 7,150, # tokens"
      ],
      "execution_count": null,
      "outputs": [
        {
          "output_type": "stream",
          "text": [
            "# tokens of word : 7150\n"
          ],
          "name": "stdout"
        }
      ]
    },
    {
      "cell_type": "code",
      "metadata": {
        "colab": {
          "base_uri": "https://localhost:8080/"
        },
        "id": "KuzDsQi2sF7n",
        "outputId": "c89fe031-848b-4ed5-e8d6-c4046c9d9f38"
      },
      "source": [
        "X_train_padded = pad_sequences(X_train_sequence)\r\n",
        "X_train_padded"
      ],
      "execution_count": null,
      "outputs": [
        {
          "output_type": "execute_result",
          "data": {
            "text/plain": [
              "array([[   0,    0,    0, ...,   58,  188,  117],\n",
              "       [   0,    0,    0, ..., 2295, 3374,  257],\n",
              "       [   0,    0,    0, ...,  267,   14, 1273],\n",
              "       ...,\n",
              "       [   0,    0,    0, ...,   80,  102,   21],\n",
              "       [   0,    0,    0, ..., 1376,   56,    3],\n",
              "       [   0,    0,    0, ...,  279,    2,    3]], dtype=int32)"
            ]
          },
          "metadata": {
            "tags": []
          },
          "execution_count": 10
        }
      ]
    },
    {
      "cell_type": "code",
      "metadata": {
        "colab": {
          "base_uri": "https://localhost:8080/"
        },
        "id": "lMm4BwIsuZt3",
        "outputId": "48801915-27e8-460a-d659-2e807b97aa31"
      },
      "source": [
        "X_train_padded.shape"
      ],
      "execution_count": null,
      "outputs": [
        {
          "output_type": "execute_result",
          "data": {
            "text/plain": [
              "(3733, 162)"
            ]
          },
          "metadata": {
            "tags": []
          },
          "execution_count": 11
        }
      ]
    },
    {
      "cell_type": "code",
      "metadata": {
        "colab": {
          "base_uri": "https://localhost:8080/"
        },
        "id": "Ngjb_C6hsg7L",
        "outputId": "42db1d43-bc07-4d40-9934-54f1089603d3"
      },
      "source": [
        "T = X_train_padded.shape[1]\r\n",
        "print(f'length of sequence : {T}')      # T = 162, vector lenght "
      ],
      "execution_count": null,
      "outputs": [
        {
          "output_type": "stream",
          "text": [
            "length of sequence : 162\n"
          ],
          "name": "stdout"
        }
      ]
    },
    {
      "cell_type": "markdown",
      "metadata": {
        "id": "wd3L5Fdcth-f"
      },
      "source": [
        "## Test set"
      ]
    },
    {
      "cell_type": "code",
      "metadata": {
        "colab": {
          "base_uri": "https://localhost:8080/"
        },
        "id": "NwcgHuP7tu46",
        "outputId": "2e753043-c30c-4050-9861-6176d404ef4c"
      },
      "source": [
        "X_test_sequence = tokenizer.texts_to_sequences(X_test)\r\n",
        "X_test_padded = pad_sequences(X_test_sequence, maxlen=T)      # truncate sentence if longer than max length in train set\r\n",
        "X_test_padded.shape"
      ],
      "execution_count": null,
      "outputs": [
        {
          "output_type": "execute_result",
          "data": {
            "text/plain": [
              "(1839, 162)"
            ]
          },
          "metadata": {
            "tags": []
          },
          "execution_count": 13
        }
      ]
    },
    {
      "cell_type": "markdown",
      "metadata": {
        "id": "VsS6iatuuf2q"
      },
      "source": [
        "# Train Model"
      ]
    },
    {
      "cell_type": "markdown",
      "metadata": {
        "id": "IDgW1TxCA7Nf"
      },
      "source": [
        "## RNN - LSTM"
      ]
    },
    {
      "cell_type": "code",
      "metadata": {
        "id": "wd4z0Sd2up56"
      },
      "source": [
        "D = 20      # embedded dimensionality / word vector size, trial and error input\r\n",
        "M = 15      # hidden state vector size\r\n",
        "\r\n",
        "i = Input(shape=(T,))       # vector length / sentence input length\r\n",
        "x = Embedding(V+1, D)(i)    # ( # word tokens + 0 for padding) \r\n",
        "\r\n",
        "# Applies RNN\r\n",
        "x = LSTM(M, return_sequences=True)(x)   # return  hidden state output for each input time step - works well with long term dependencies (trial & error)\r\n",
        "x = GlobalMaxPooling1D()(x)             # works well with long term dependencies (trial & error)\r\n",
        "\r\n",
        "# Logistic Regression\r\n",
        "x = Dense(1, activation='sigmoid')(x)   \r\n",
        "\r\n",
        "model = Model(i,x)"
      ],
      "execution_count": null,
      "outputs": []
    },
    {
      "cell_type": "code",
      "metadata": {
        "colab": {
          "base_uri": "https://localhost:8080/"
        },
        "id": "zYkMK8EHxFBL",
        "outputId": "6c400548-a93f-47c7-eba9-a2e44358e3bb"
      },
      "source": [
        "model.compile(\r\n",
        "    loss = 'binary_crossentropy',\r\n",
        "    optimizer = 'adam',\r\n",
        "    metrics = ['accuracy']   \r\n",
        ")\r\n",
        "\r\n",
        "result = model.fit(\r\n",
        "    X_train_padded, y_train,\r\n",
        "    epochs = 10,\r\n",
        "    validation_data = (X_test_padded, y_test)\r\n",
        ") "
      ],
      "execution_count": null,
      "outputs": [
        {
          "output_type": "stream",
          "text": [
            "Epoch 1/10\n",
            "117/117 [==============================] - 10s 67ms/step - loss: 0.5824 - accuracy: 0.8007 - val_loss: 0.3735 - val_accuracy: 0.8581\n",
            "Epoch 2/10\n",
            "117/117 [==============================] - 7s 62ms/step - loss: 0.3401 - accuracy: 0.8680 - val_loss: 0.3316 - val_accuracy: 0.8581\n",
            "Epoch 3/10\n",
            "117/117 [==============================] - 7s 63ms/step - loss: 0.3075 - accuracy: 0.8653 - val_loss: 0.2983 - val_accuracy: 0.8581\n",
            "Epoch 4/10\n",
            "117/117 [==============================] - 7s 62ms/step - loss: 0.2548 - accuracy: 0.8794 - val_loss: 0.2574 - val_accuracy: 0.8581\n",
            "Epoch 5/10\n",
            "117/117 [==============================] - 7s 61ms/step - loss: 0.2177 - accuracy: 0.8783 - val_loss: 0.2179 - val_accuracy: 0.8581\n",
            "Epoch 6/10\n",
            "117/117 [==============================] - 7s 61ms/step - loss: 0.1913 - accuracy: 0.8734 - val_loss: 0.1909 - val_accuracy: 0.8603\n",
            "Epoch 7/10\n",
            "117/117 [==============================] - 7s 61ms/step - loss: 0.1575 - accuracy: 0.9047 - val_loss: 0.1656 - val_accuracy: 0.9734\n",
            "Epoch 8/10\n",
            "117/117 [==============================] - 7s 62ms/step - loss: 0.1344 - accuracy: 0.9867 - val_loss: 0.1477 - val_accuracy: 0.9793\n",
            "Epoch 9/10\n",
            "117/117 [==============================] - 7s 62ms/step - loss: 0.1239 - accuracy: 0.9919 - val_loss: 0.1321 - val_accuracy: 0.9804\n",
            "Epoch 10/10\n",
            "117/117 [==============================] - 7s 62ms/step - loss: 0.1058 - accuracy: 0.9928 - val_loss: 0.1201 - val_accuracy: 0.9831\n"
          ],
          "name": "stdout"
        }
      ]
    },
    {
      "cell_type": "markdown",
      "metadata": {
        "id": "5E9Mxk4Vzvdj"
      },
      "source": [
        "### Model Evaluation"
      ]
    },
    {
      "cell_type": "code",
      "metadata": {
        "colab": {
          "base_uri": "https://localhost:8080/",
          "height": 282
        },
        "id": "bWbGv6_3z0_8",
        "outputId": "20a06451-38cd-48e7-d879-5d962a6479f7"
      },
      "source": [
        "plt.plot(result.history['accuracy'], label='train_acc')\r\n",
        "plt.plot(result.history['val_accuracy'], label='test_acc')\r\n",
        "plt.legend()"
      ],
      "execution_count": null,
      "outputs": [
        {
          "output_type": "execute_result",
          "data": {
            "text/plain": [
              "<matplotlib.legend.Legend at 0x7f51097d3630>"
            ]
          },
          "metadata": {
            "tags": []
          },
          "execution_count": 19
        },
        {
          "output_type": "display_data",
          "data": {
            "image/png": "[encoded data removed]",
            "text/plain": [
              "<Figure size 432x288 with 1 Axes>"
            ]
          },
          "metadata": {
            "tags": [],
            "needs_background": "light"
          }
        }
      ]
    },
    {
      "cell_type": "code",
      "metadata": {
        "colab": {
          "base_uri": "https://localhost:8080/"
        },
        "id": "wmjmXKOV0b1o",
        "outputId": "b749cd32-4a10-4cf7-f977-8d4a82fec150"
      },
      "source": [
        "sample = ['Enter to win $25,000 and get a Free Hotel Night! Just click here for a $1 trial membership in NetMarket', 'Dear Samantha, please meet me in my office before you leave.']\r\n",
        "sample_sequence = tokenizer.texts_to_sequences(sample)\r\n",
        "sample_padded = pad_sequences(sample_sequence, maxlen=T)\r\n",
        "sample_padded[0]"
      ],
      "execution_count": null,
      "outputs": [
        {
          "output_type": "execute_result",
          "data": {
            "text/plain": [
              "array([   0,    0,    0,    0,    0,    0,    0,    0,    0,    0,    0,\n",
              "          0,    0,    0,    0,    0,    0,    0,    0,    0,    0,    0,\n",
              "          0,    0,    0,    0,    0,    0,    0,    0,    0,    0,    0,\n",
              "          0,    0,    0,    0,    0,    0,    0,    0,    0,    0,    0,\n",
              "          0,    0,    0,    0,    0,    0,    0,    0,    0,    0,    0,\n",
              "          0,    0,    0,    0,    0,    0,    0,    0,    0,    0,    0,\n",
              "          0,    0,    0,    0,    0,    0,    0,    0,    0,    0,    0,\n",
              "          0,    0,    0,    0,    0,    0,    0,    0,    0,    0,    0,\n",
              "          0,    0,    0,    0,    0,    0,    0,    0,    0,    0,    0,\n",
              "          0,    0,    0,    0,    0,    0,    0,    0,    0,    0,    0,\n",
              "          0,    0,    0,    0,    0,    0,    0,    0,    0,    0,    0,\n",
              "          0,    0,    0,    0,    0,    0,    0,    0,    0,    0,    0,\n",
              "          0,    0,    0,    0,    0,    0,    0,    0,    0,    0,    0,\n",
              "        917,    2,  164, 1325,  564,    8,   31,    4,   51, 1273,  133,\n",
              "         36, 6516,  104,   12,    4,  119, 3073,    7], dtype=int32)"
            ]
          },
          "metadata": {
            "tags": []
          },
          "execution_count": 36
        }
      ]
    },
    {
      "cell_type": "code",
      "metadata": {
        "colab": {
          "base_uri": "https://localhost:8080/"
        },
        "id": "cgvbcG6D1xr2",
        "outputId": "7d88ddda-d7d7-4024-c729-b604637dbbbb"
      },
      "source": [
        "sample_predict = model.predict(sample_padded)\r\n",
        "\r\n",
        "for result in sample_predict:\r\n",
        "    print('Spam') if result > 0.5 else print('Not Spam')"
      ],
      "execution_count": null,
      "outputs": [
        {
          "output_type": "stream",
          "text": [
            "Spam\n",
            "Not Spam\n"
          ],
          "name": "stdout"
        }
      ]
    },
    {
      "cell_type": "markdown",
      "metadata": {
        "id": "yDZQUCLjBKKe"
      },
      "source": [
        "## CNN (1D)"
      ]
    },
    {
      "cell_type": "code",
      "metadata": {
        "id": "89pTpjdrCo3s"
      },
      "source": [
        "from tensorflow.keras.layers import Conv1D, MaxPooling1D"
      ],
      "execution_count": 39,
      "outputs": []
    },
    {
      "cell_type": "code",
      "metadata": {
        "id": "tDQXSOLABN_I"
      },
      "source": [
        "D = 20      # Embedding dimensionality (trial&error)\r\n",
        "\r\n",
        "i = Input(shape=(T,))       # vector length / sentence input length\r\n",
        "x = Embedding(V+1, D)(i)    # ( # word tokens + 0 for padding) \r\n",
        "\r\n",
        "# Applies CNN\r\n",
        "# use max-pooling to have wider comparison per step while focusing only on key pattern\r\n",
        "\r\n",
        "x = Conv1D(32, 3, activation='relu')(x)\r\n",
        "x = MaxPooling1D(3)(x)\r\n",
        "x = Conv1D(64, 3, activation='relu')(x)\r\n",
        "x = MaxPooling1D(3)(x)\r\n",
        "x = Conv1D(128, 3, activation='relu')(x)\r\n",
        "x = GlobalMaxPooling1D()(x)\r\n",
        "\r\n",
        "# Logistic Regression\r\n",
        "x = Dense(1, activation='sigmoid')(x)\r\n",
        "\r\n",
        "model = Model(i,x)"
      ],
      "execution_count": 40,
      "outputs": []
    },
    {
      "cell_type": "code",
      "metadata": {
        "colab": {
          "base_uri": "https://localhost:8080/"
        },
        "id": "7t7CvRD4CzdE",
        "outputId": "8386bd4a-1774-4a8b-e483-f3cc6dd5b60e"
      },
      "source": [
        "model.compile(\r\n",
        "    loss = 'binary_crossentropy',\r\n",
        "    optimizer = 'adam',\r\n",
        "    metrics = ['accuracy']   \r\n",
        ")\r\n",
        "\r\n",
        "result = model.fit(\r\n",
        "    X_train_padded, y_train,\r\n",
        "    epochs = 10,\r\n",
        "    validation_data = (X_test_padded, y_test)\r\n",
        ") "
      ],
      "execution_count": 41,
      "outputs": [
        {
          "output_type": "stream",
          "text": [
            "Epoch 1/10\n",
            "117/117 [==============================] - 3s 20ms/step - loss: 0.4712 - accuracy: 0.8359 - val_loss: 0.2858 - val_accuracy: 0.8581\n",
            "Epoch 2/10\n",
            "117/117 [==============================] - 2s 18ms/step - loss: 0.1958 - accuracy: 0.8986 - val_loss: 0.1120 - val_accuracy: 0.9576\n",
            "Epoch 3/10\n",
            "117/117 [==============================] - 2s 19ms/step - loss: 0.0357 - accuracy: 0.9864 - val_loss: 0.0986 - val_accuracy: 0.9810\n",
            "Epoch 4/10\n",
            "117/117 [==============================] - 2s 18ms/step - loss: 0.0114 - accuracy: 0.9973 - val_loss: 0.0675 - val_accuracy: 0.9831\n",
            "Epoch 5/10\n",
            "117/117 [==============================] - 2s 18ms/step - loss: 0.0043 - accuracy: 0.9998 - val_loss: 0.1014 - val_accuracy: 0.9853\n",
            "Epoch 6/10\n",
            "117/117 [==============================] - 2s 18ms/step - loss: 0.0014 - accuracy: 1.0000 - val_loss: 0.0756 - val_accuracy: 0.9837\n",
            "Epoch 7/10\n",
            "117/117 [==============================] - 2s 18ms/step - loss: 0.0014 - accuracy: 0.9999 - val_loss: 0.0814 - val_accuracy: 0.9848\n",
            "Epoch 8/10\n",
            "117/117 [==============================] - 2s 18ms/step - loss: 0.0017 - accuracy: 0.9995 - val_loss: 0.1036 - val_accuracy: 0.9853\n",
            "Epoch 9/10\n",
            "117/117 [==============================] - 2s 18ms/step - loss: 8.2337e-04 - accuracy: 0.9997 - val_loss: 0.1059 - val_accuracy: 0.9859\n",
            "Epoch 10/10\n",
            "117/117 [==============================] - 2s 18ms/step - loss: 3.8228e-04 - accuracy: 0.9999 - val_loss: 0.1086 - val_accuracy: 0.9848\n"
          ],
          "name": "stdout"
        }
      ]
    },
    {
      "cell_type": "markdown",
      "metadata": {
        "id": "W5preB0GDLUw"
      },
      "source": [
        "### Model Evaluation"
      ]
    },
    {
      "cell_type": "code",
      "metadata": {
        "colab": {
          "base_uri": "https://localhost:8080/",
          "height": 282
        },
        "id": "ME1L_t1UDO4d",
        "outputId": "442d78b7-a8b5-4b90-aadc-4bf5c53aa347"
      },
      "source": [
        "plt.plot(result.history['accuracy'], label='train_acc')\r\n",
        "plt.plot(result.history['val_accuracy'], label='test_acc')\r\n",
        "plt.legend()"
      ],
      "execution_count": 42,
      "outputs": [
        {
          "output_type": "execute_result",
          "data": {
            "text/plain": [
              "<matplotlib.legend.Legend at 0x7f511840cdd8>"
            ]
          },
          "metadata": {
            "tags": []
          },
          "execution_count": 42
        },
        {
          "output_type": "display_data",
          "data": {
            "image/png": "[encoded data removed]",
            "text/plain": [
              "<Figure size 432x288 with 1 Axes>"
            ]
          },
          "metadata": {
            "tags": [],
            "needs_background": "light"
          }
        }
      ]
    },
    {
      "cell_type": "code",
      "metadata": {
        "colab": {
          "base_uri": "https://localhost:8080/"
        },
        "id": "3lY9cOHCDxHf",
        "outputId": "caddbff8-a71e-4567-905b-bed581135dd6"
      },
      "source": [
        "sample = ['Enter to win $25,000 and get a Free Hotel Night! Just click here for a $1 trial membership in NetMarket', 'Dear Samantha, please meet me in my office before you leave.']\r\n",
        "sample_sequence = tokenizer.texts_to_sequences(sample)\r\n",
        "sample_padded = pad_sequences(sample_sequence, maxlen=T)\r\n",
        "sample_padded[0]"
      ],
      "execution_count": 43,
      "outputs": [
        {
          "output_type": "execute_result",
          "data": {
            "text/plain": [
              "array([   0,    0,    0,    0,    0,    0,    0,    0,    0,    0,    0,\n",
              "          0,    0,    0,    0,    0,    0,    0,    0,    0,    0,    0,\n",
              "          0,    0,    0,    0,    0,    0,    0,    0,    0,    0,    0,\n",
              "          0,    0,    0,    0,    0,    0,    0,    0,    0,    0,    0,\n",
              "          0,    0,    0,    0,    0,    0,    0,    0,    0,    0,    0,\n",
              "          0,    0,    0,    0,    0,    0,    0,    0,    0,    0,    0,\n",
              "          0,    0,    0,    0,    0,    0,    0,    0,    0,    0,    0,\n",
              "          0,    0,    0,    0,    0,    0,    0,    0,    0,    0,    0,\n",
              "          0,    0,    0,    0,    0,    0,    0,    0,    0,    0,    0,\n",
              "          0,    0,    0,    0,    0,    0,    0,    0,    0,    0,    0,\n",
              "          0,    0,    0,    0,    0,    0,    0,    0,    0,    0,    0,\n",
              "          0,    0,    0,    0,    0,    0,    0,    0,    0,    0,    0,\n",
              "          0,    0,    0,    0,    0,    0,    0,    0,    0,    0,    0,\n",
              "        917,    2,  164, 1325,  564,    8,   31,    4,   51, 1273,  133,\n",
              "         36, 6516,  104,   12,    4,  119, 3073,    7], dtype=int32)"
            ]
          },
          "metadata": {
            "tags": []
          },
          "execution_count": 43
        }
      ]
    },
    {
      "cell_type": "code",
      "metadata": {
        "colab": {
          "base_uri": "https://localhost:8080/"
        },
        "id": "CJzmohDeDzVD",
        "outputId": "76403ae0-86dc-4f90-aa0e-c38ed385dd19"
      },
      "source": [
        "sample_predict = model.predict(sample_padded)\r\n",
        "\r\n",
        "for result in sample_predict:\r\n",
        "    print('Spam') if result > 0.5 else print('Not Spam')"
      ],
      "execution_count": 44,
      "outputs": [
        {
          "output_type": "stream",
          "text": [
            "Spam\n",
            "Not Spam\n"
          ],
          "name": "stdout"
        }
      ]
    }
  ]
}