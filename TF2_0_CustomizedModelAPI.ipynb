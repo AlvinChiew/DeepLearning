{
  "nbformat": 4,
  "nbformat_minor": 0,
  "metadata": {
    "colab": {
      "name": "TF2.0_CustomizedModelAPI.ipynb",
      "provenance": [],
      "collapsed_sections": [],
      "toc_visible": true,
      "authorship_tag": "ABX9TyP4Z0cg4F1N48dJQ16+j2Kx"
    },
    "kernelspec": {
      "name": "python3",
      "display_name": "Python 3"
    },
    "language_info": {
      "name": "python"
    }
  },
  "cells": [
    {
      "cell_type": "markdown",
      "metadata": {
        "id": "mws9U_PjoRep"
      },
      "source": [
        "# Import Modules"
      ]
    },
    {
      "cell_type": "code",
      "metadata": {
        "id": "5nLjl_9_ZmIH"
      },
      "source": [
        "import tensorflow as tf\n",
        "import numpy as np\n",
        "import matplotlib.pyplot as plt"
      ],
      "execution_count": 4,
      "outputs": []
    },
    {
      "cell_type": "markdown",
      "metadata": {
        "id": "d3gCyWsGoPWc"
      },
      "source": [
        "# Create Dataset"
      ]
    },
    {
      "cell_type": "code",
      "metadata": {
        "colab": {
          "base_uri": "https://localhost:8080/",
          "height": 264
        },
        "id": "_POHjr4clmau",
        "outputId": "431412bf-6641-45e6-fe1f-4e9aa2a1f549"
      },
      "source": [
        "N, D, K = 100, 1, 1     # samples, dimensions/features\n",
        "\n",
        "X = np.random.random((N, D)) * 2 - 1\n",
        "w = np.random.randn(D, K)\n",
        "b = np.random.randn()\n",
        "Y = X.dot(w) + b + np.random.randn(N, 1) * 0.1\n",
        "\n",
        "X = X.astype(np.float32)\n",
        "Y = Y.astype(np.float32)\n",
        "\n",
        "plt.scatter(X, Y);"
      ],
      "execution_count": 29,
      "outputs": [
        {
          "output_type": "display_data",
          "data": {
            "image/png": "[encoded data removed]",
            "text/plain": [
              "<Figure size 432x288 with 1 Axes>"
            ]
          },
          "metadata": {
            "tags": [],
            "needs_background": "light"
          }
        }
      ]
    },
    {
      "cell_type": "markdown",
      "metadata": {
        "id": "6ANGtnppp1-S"
      },
      "source": [
        "# Custom Model"
      ]
    },
    {
      "cell_type": "code",
      "metadata": {
        "id": "NFJZjx11lq4N"
      },
      "source": [
        "class CustomLinearRegression(tf.keras.Model):\n",
        "    def __init__(self, num_inputs, num_outputs):\n",
        "        super(CustomLinearRegression, self).__init__()\n",
        "        self.W = tf.Variable(\n",
        "            tf.random_normal_initializer()((num_inputs, num_outputs)))\n",
        "        self.b = tf.Variable(tf.zeros(num_outputs))\n",
        "        self.params = [self.W, self.b]\n",
        "\n",
        "    def call(self, inputs):\n",
        "        return tf.matmul(inputs, self.W) + self.b\n",
        "\n",
        "\n",
        "def get_loss(model, inputs, targets):\n",
        "    predictions = model(inputs)\n",
        "    error = targets - predictions\n",
        "    return tf.reduce_mean(tf.square(error))\n",
        "\n",
        "\n",
        "def get_grad(model, inputs, targets):\n",
        "    with tf.GradientTape() as tape:\n",
        "        loss_value = get_loss(model, inputs, targets)    \n",
        "    return tape.gradient(loss_value, model.params)  "
      ],
      "execution_count": 41,
      "outputs": []
    },
    {
      "cell_type": "code",
      "metadata": {
        "colab": {
          "base_uri": "https://localhost:8080/"
        },
        "id": "FpiQvkS_qG1Z",
        "outputId": "55ba9a2d-1f3d-4e7c-c207-6c758d9263c4"
      },
      "source": [
        "model = CustomLinearRegression(D, K)\n",
        "\n",
        "# Initial params\n",
        "print(model.W, \"\\n\", model.b)"
      ],
      "execution_count": 45,
      "outputs": [
        {
          "output_type": "stream",
          "text": [
            "<tf.Variable 'Variable:0' shape=(1, 1) dtype=float32, numpy=array([[0.04483846]], dtype=float32)> \n",
            " <tf.Variable 'Variable:0' shape=(1,) dtype=float32, numpy=array([0.], dtype=float32)>\n"
          ],
          "name": "stdout"
        }
      ]
    },
    {
      "cell_type": "code",
      "metadata": {
        "colab": {
          "base_uri": "https://localhost:8080/",
          "height": 264
        },
        "id": "xueGpMQ4qwGt",
        "outputId": "5cbdf509-7308-42ea-8321-5dc762ceb99c"
      },
      "source": [
        "losses = []\n",
        "optimizer = tf.keras.optimizers.SGD(learning_rate=0.2)\n",
        "\n",
        "for i in range(100):\n",
        "    grads = get_grad(model, X, Y)\n",
        "    optimizer.apply_gradients(zip(grads, model.params))    # One step of gradient descent: param - lr * grad\n",
        "    loss = get_loss(model, X, Y)\n",
        "    losses.append(loss)\n",
        "\n",
        "plt.plot(losses);"
      ],
      "execution_count": 46,
      "outputs": [
        {
          "output_type": "display_data",
          "data": {
            "image/png": "[encoded data removed]",
            "text/plain": [
              "<Figure size 432x288 with 1 Axes>"
            ]
          },
          "metadata": {
            "tags": [],
            "needs_background": "light"
          }
        }
      ]
    },
    {
      "cell_type": "markdown",
      "metadata": {
        "id": "KTzpykETtSdB"
      },
      "source": [
        "# Evaluate"
      ]
    },
    {
      "cell_type": "code",
      "metadata": {
        "colab": {
          "base_uri": "https://localhost:8080/",
          "height": 300
        },
        "id": "v-S2h-S-sZpr",
        "outputId": "cda56681-0610-47d6-f23e-fc8043de687a"
      },
      "source": [
        "X_ = np.linspace(X.min(), X.max(), 100)\n",
        "y_pred = model.predict(X_.reshape(-1, 1)).flatten()\n",
        "\n",
        "print(\"Predicted params:\", model.W.numpy(), model.b.numpy())\n",
        "print(\"True params:\", w, b)\n",
        "\n",
        "plt.scatter(X, Y);\n",
        "plt.plot(X_, y_pred, color=\"red\");"
      ],
      "execution_count": 52,
      "outputs": [
        {
          "output_type": "stream",
          "text": [
            "Predicted params: [[1.495047]] [0.38656852]\n",
            "True params: [[1.49518409]] 0.4029976607036656\n"
          ],
          "name": "stdout"
        },
        {
          "output_type": "display_data",
          "data": {
            "image/png": "[encoded data removed]",
            "text/plain": [
              "<Figure size 432x288 with 1 Axes>"
            ]
          },
          "metadata": {
            "tags": [],
            "needs_background": "light"
          }
        }
      ]
    }
  ]
}