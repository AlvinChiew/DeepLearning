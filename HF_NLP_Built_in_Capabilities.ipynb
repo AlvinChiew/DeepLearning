{
  "nbformat": 4,
  "nbformat_minor": 0,
  "metadata": {
    "colab": {
      "name": "HuggingFace_NLP_Built-in_Capabilities.ipynb",
      "provenance": [],
      "collapsed_sections": [
        "GQjIFjOkKyz4",
        "F0HiliRmDK-y",
        "o9113Ah7DWx9",
        "UJrCMYVwDEjm",
        "2P1QWvERC9n7",
        "-U3czT_nLNIt",
        "4PmrhBdsKRmr",
        "2tIa5tpIMgR4",
        "y57aFc3wOlv6",
        "ht_pp1GCPQM-",
        "QMTFWRQpPvEH",
        "p0VoRphzQo9X",
        "zuGsazr6SR6n",
        "mQNccpsitffc",
        "37X2TWNHu6Dr",
        "1dd3_kjdxUlQ",
        "-5DfXrC51972",
        "sjGEU_uPzXJW"
      ],
      "toc_visible": true,
      "authorship_tag": "ABX9TyNYa4FJaLLvkMWE5+nm/z1p"
    },
    "kernelspec": {
      "name": "python3",
      "display_name": "Python 3"
    },
    "language_info": {
      "name": "python"
    },
    "widgets": {
      "application/vnd.jupyter.widget-state+json": {
        "4342c167acea47fe916957b7b750f242": {
          "model_module": "@jupyter-widgets/controls",
          "model_name": "HBoxModel",
          "state": {
            "_view_name": "HBoxView",
            "_dom_classes": [],
            "_model_name": "HBoxModel",
            "_view_module": "@jupyter-widgets/controls",
            "_model_module_version": "1.5.0",
            "_view_count": null,
            "_view_module_version": "1.5.0",
            "box_style": "",
            "layout": "IPY_MODEL_7a6d9aa1bfc14eb0b5de52c795a16781",
            "_model_module": "@jupyter-widgets/controls",
            "children": [
              "IPY_MODEL_2069974ed2c846c597ed4b336d10f56f",
              "IPY_MODEL_2dda0cb65ebe4824b82c7b59afaef378"
            ]
          }
        },
        "7a6d9aa1bfc14eb0b5de52c795a16781": {
          "model_module": "@jupyter-widgets/base",
          "model_name": "LayoutModel",
          "state": {
            "_view_name": "LayoutView",
            "grid_template_rows": null,
            "right": null,
            "justify_content": null,
            "_view_module": "@jupyter-widgets/base",
            "overflow": null,
            "_model_module_version": "1.2.0",
            "_view_count": null,
            "flex_flow": null,
            "width": null,
            "min_width": null,
            "border": null,
            "align_items": null,
            "bottom": null,
            "_model_module": "@jupyter-widgets/base",
            "top": null,
            "grid_column": null,
            "overflow_y": null,
            "overflow_x": null,
            "grid_auto_flow": null,
            "grid_area": null,
            "grid_template_columns": null,
            "flex": null,
            "_model_name": "LayoutModel",
            "justify_items": null,
            "grid_row": null,
            "max_height": null,
            "align_content": null,
            "visibility": null,
            "align_self": null,
            "height": null,
            "min_height": null,
            "padding": null,
            "grid_auto_rows": null,
            "grid_gap": null,
            "max_width": null,
            "order": null,
            "_view_module_version": "1.2.0",
            "grid_template_areas": null,
            "object_position": null,
            "object_fit": null,
            "grid_auto_columns": null,
            "margin": null,
            "display": null,
            "left": null
          }
        },
        "2069974ed2c846c597ed4b336d10f56f": {
          "model_module": "@jupyter-widgets/controls",
          "model_name": "FloatProgressModel",
          "state": {
            "_view_name": "ProgressView",
            "style": "IPY_MODEL_034e823f59594c1e913e0877830a044f",
            "_dom_classes": [],
            "description": "Downloading: 100%",
            "_model_name": "FloatProgressModel",
            "bar_style": "success",
            "max": 570,
            "_view_module": "@jupyter-widgets/controls",
            "_model_module_version": "1.5.0",
            "value": 570,
            "_view_count": null,
            "_view_module_version": "1.5.0",
            "orientation": "horizontal",
            "min": 0,
            "description_tooltip": null,
            "_model_module": "@jupyter-widgets/controls",
            "layout": "IPY_MODEL_c04847e8e9ac4491b271976f996556ab"
          }
        },
        "2dda0cb65ebe4824b82c7b59afaef378": {
          "model_module": "@jupyter-widgets/controls",
          "model_name": "HTMLModel",
          "state": {
            "_view_name": "HTMLView",
            "style": "IPY_MODEL_b0437ef1515345959ff9f19c9aa656d1",
            "_dom_classes": [],
            "description": "",
            "_model_name": "HTMLModel",
            "placeholder": "​",
            "_view_module": "@jupyter-widgets/controls",
            "_model_module_version": "1.5.0",
            "value": " 570/570 [00:11&lt;00:00, 49.8B/s]",
            "_view_count": null,
            "_view_module_version": "1.5.0",
            "description_tooltip": null,
            "_model_module": "@jupyter-widgets/controls",
            "layout": "IPY_MODEL_e2039c83dd364099a49cbe0d1009063b"
          }
        },
        "034e823f59594c1e913e0877830a044f": {
          "model_module": "@jupyter-widgets/controls",
          "model_name": "ProgressStyleModel",
          "state": {
            "_view_name": "StyleView",
            "_model_name": "ProgressStyleModel",
            "description_width": "initial",
            "_view_module": "@jupyter-widgets/base",
            "_model_module_version": "1.5.0",
            "_view_count": null,
            "_view_module_version": "1.2.0",
            "bar_color": null,
            "_model_module": "@jupyter-widgets/controls"
          }
        },
        "c04847e8e9ac4491b271976f996556ab": {
          "model_module": "@jupyter-widgets/base",
          "model_name": "LayoutModel",
          "state": {
            "_view_name": "LayoutView",
            "grid_template_rows": null,
            "right": null,
            "justify_content": null,
            "_view_module": "@jupyter-widgets/base",
            "overflow": null,
            "_model_module_version": "1.2.0",
            "_view_count": null,
            "flex_flow": null,
            "width": null,
            "min_width": null,
            "border": null,
            "align_items": null,
            "bottom": null,
            "_model_module": "@jupyter-widgets/base",
            "top": null,
            "grid_column": null,
            "overflow_y": null,
            "overflow_x": null,
            "grid_auto_flow": null,
            "grid_area": null,
            "grid_template_columns": null,
            "flex": null,
            "_model_name": "LayoutModel",
            "justify_items": null,
            "grid_row": null,
            "max_height": null,
            "align_content": null,
            "visibility": null,
            "align_self": null,
            "height": null,
            "min_height": null,
            "padding": null,
            "grid_auto_rows": null,
            "grid_gap": null,
            "max_width": null,
            "order": null,
            "_view_module_version": "1.2.0",
            "grid_template_areas": null,
            "object_position": null,
            "object_fit": null,
            "grid_auto_columns": null,
            "margin": null,
            "display": null,
            "left": null
          }
        },
        "b0437ef1515345959ff9f19c9aa656d1": {
          "model_module": "@jupyter-widgets/controls",
          "model_name": "DescriptionStyleModel",
          "state": {
            "_view_name": "StyleView",
            "_model_name": "DescriptionStyleModel",
            "description_width": "",
            "_view_module": "@jupyter-widgets/base",
            "_model_module_version": "1.5.0",
            "_view_count": null,
            "_view_module_version": "1.2.0",
            "_model_module": "@jupyter-widgets/controls"
          }
        },
        "e2039c83dd364099a49cbe0d1009063b": {
          "model_module": "@jupyter-widgets/base",
          "model_name": "LayoutModel",
          "state": {
            "_view_name": "LayoutView",
            "grid_template_rows": null,
            "right": null,
            "justify_content": null,
            "_view_module": "@jupyter-widgets/base",
            "overflow": null,
            "_model_module_version": "1.2.0",
            "_view_count": null,
            "flex_flow": null,
            "width": null,
            "min_width": null,
            "border": null,
            "align_items": null,
            "bottom": null,
            "_model_module": "@jupyter-widgets/base",
            "top": null,
            "grid_column": null,
            "overflow_y": null,
            "overflow_x": null,
            "grid_auto_flow": null,
            "grid_area": null,
            "grid_template_columns": null,
            "flex": null,
            "_model_name": "LayoutModel",
            "justify_items": null,
            "grid_row": null,
            "max_height": null,
            "align_content": null,
            "visibility": null,
            "align_self": null,
            "height": null,
            "min_height": null,
            "padding": null,
            "grid_auto_rows": null,
            "grid_gap": null,
            "max_width": null,
            "order": null,
            "_view_module_version": "1.2.0",
            "grid_template_areas": null,
            "object_position": null,
            "object_fit": null,
            "grid_auto_columns": null,
            "margin": null,
            "display": null,
            "left": null
          }
        },
        "596dc4d03cb0423ea8a5dfbdfc3a7558": {
          "model_module": "@jupyter-widgets/controls",
          "model_name": "HBoxModel",
          "state": {
            "_view_name": "HBoxView",
            "_dom_classes": [],
            "_model_name": "HBoxModel",
            "_view_module": "@jupyter-widgets/controls",
            "_model_module_version": "1.5.0",
            "_view_count": null,
            "_view_module_version": "1.5.0",
            "box_style": "",
            "layout": "IPY_MODEL_f2a11b36ca204caca5a302b375276d71",
            "_model_module": "@jupyter-widgets/controls",
            "children": [
              "IPY_MODEL_f582703e4d35461693207a95629005a2",
              "IPY_MODEL_e842118bb86e453ab50ccc43716eb872"
            ]
          }
        },
        "f2a11b36ca204caca5a302b375276d71": {
          "model_module": "@jupyter-widgets/base",
          "model_name": "LayoutModel",
          "state": {
            "_view_name": "LayoutView",
            "grid_template_rows": null,
            "right": null,
            "justify_content": null,
            "_view_module": "@jupyter-widgets/base",
            "overflow": null,
            "_model_module_version": "1.2.0",
            "_view_count": null,
            "flex_flow": null,
            "width": null,
            "min_width": null,
            "border": null,
            "align_items": null,
            "bottom": null,
            "_model_module": "@jupyter-widgets/base",
            "top": null,
            "grid_column": null,
            "overflow_y": null,
            "overflow_x": null,
            "grid_auto_flow": null,
            "grid_area": null,
            "grid_template_columns": null,
            "flex": null,
            "_model_name": "LayoutModel",
            "justify_items": null,
            "grid_row": null,
            "max_height": null,
            "align_content": null,
            "visibility": null,
            "align_self": null,
            "height": null,
            "min_height": null,
            "padding": null,
            "grid_auto_rows": null,
            "grid_gap": null,
            "max_width": null,
            "order": null,
            "_view_module_version": "1.2.0",
            "grid_template_areas": null,
            "object_position": null,
            "object_fit": null,
            "grid_auto_columns": null,
            "margin": null,
            "display": null,
            "left": null
          }
        },
        "f582703e4d35461693207a95629005a2": {
          "model_module": "@jupyter-widgets/controls",
          "model_name": "FloatProgressModel",
          "state": {
            "_view_name": "ProgressView",
            "style": "IPY_MODEL_2aa41483d7ed4048b44009c1f50e9c9b",
            "_dom_classes": [],
            "description": "Downloading: 100%",
            "_model_name": "FloatProgressModel",
            "bar_style": "success",
            "max": 435779157,
            "_view_module": "@jupyter-widgets/controls",
            "_model_module_version": "1.5.0",
            "value": 435779157,
            "_view_count": null,
            "_view_module_version": "1.5.0",
            "orientation": "horizontal",
            "min": 0,
            "description_tooltip": null,
            "_model_module": "@jupyter-widgets/controls",
            "layout": "IPY_MODEL_2c399283318e4bce9ff5f1416bbce71d"
          }
        },
        "e842118bb86e453ab50ccc43716eb872": {
          "model_module": "@jupyter-widgets/controls",
          "model_name": "HTMLModel",
          "state": {
            "_view_name": "HTMLView",
            "style": "IPY_MODEL_c89f23da4a964ec3a326d4b6bca15f12",
            "_dom_classes": [],
            "description": "",
            "_model_name": "HTMLModel",
            "placeholder": "​",
            "_view_module": "@jupyter-widgets/controls",
            "_model_module_version": "1.5.0",
            "value": " 436M/436M [00:10&lt;00:00, 42.6MB/s]",
            "_view_count": null,
            "_view_module_version": "1.5.0",
            "description_tooltip": null,
            "_model_module": "@jupyter-widgets/controls",
            "layout": "IPY_MODEL_7dcf99fe99c94f70b0ce84c40a600b13"
          }
        },
        "2aa41483d7ed4048b44009c1f50e9c9b": {
          "model_module": "@jupyter-widgets/controls",
          "model_name": "ProgressStyleModel",
          "state": {
            "_view_name": "StyleView",
            "_model_name": "ProgressStyleModel",
            "description_width": "initial",
            "_view_module": "@jupyter-widgets/base",
            "_model_module_version": "1.5.0",
            "_view_count": null,
            "_view_module_version": "1.2.0",
            "bar_color": null,
            "_model_module": "@jupyter-widgets/controls"
          }
        },
        "2c399283318e4bce9ff5f1416bbce71d": {
          "model_module": "@jupyter-widgets/base",
          "model_name": "LayoutModel",
          "state": {
            "_view_name": "LayoutView",
            "grid_template_rows": null,
            "right": null,
            "justify_content": null,
            "_view_module": "@jupyter-widgets/base",
            "overflow": null,
            "_model_module_version": "1.2.0",
            "_view_count": null,
            "flex_flow": null,
            "width": null,
            "min_width": null,
            "border": null,
            "align_items": null,
            "bottom": null,
            "_model_module": "@jupyter-widgets/base",
            "top": null,
            "grid_column": null,
            "overflow_y": null,
            "overflow_x": null,
            "grid_auto_flow": null,
            "grid_area": null,
            "grid_template_columns": null,
            "flex": null,
            "_model_name": "LayoutModel",
            "justify_items": null,
            "grid_row": null,
            "max_height": null,
            "align_content": null,
            "visibility": null,
            "align_self": null,
            "height": null,
            "min_height": null,
            "padding": null,
            "grid_auto_rows": null,
            "grid_gap": null,
            "max_width": null,
            "order": null,
            "_view_module_version": "1.2.0",
            "grid_template_areas": null,
            "object_position": null,
            "object_fit": null,
            "grid_auto_columns": null,
            "margin": null,
            "display": null,
            "left": null
          }
        },
        "c89f23da4a964ec3a326d4b6bca15f12": {
          "model_module": "@jupyter-widgets/controls",
          "model_name": "DescriptionStyleModel",
          "state": {
            "_view_name": "StyleView",
            "_model_name": "DescriptionStyleModel",
            "description_width": "",
            "_view_module": "@jupyter-widgets/base",
            "_model_module_version": "1.5.0",
            "_view_count": null,
            "_view_module_version": "1.2.0",
            "_model_module": "@jupyter-widgets/controls"
          }
        },
        "7dcf99fe99c94f70b0ce84c40a600b13": {
          "model_module": "@jupyter-widgets/base",
          "model_name": "LayoutModel",
          "state": {
            "_view_name": "LayoutView",
            "grid_template_rows": null,
            "right": null,
            "justify_content": null,
            "_view_module": "@jupyter-widgets/base",
            "overflow": null,
            "_model_module_version": "1.2.0",
            "_view_count": null,
            "flex_flow": null,
            "width": null,
            "min_width": null,
            "border": null,
            "align_items": null,
            "bottom": null,
            "_model_module": "@jupyter-widgets/base",
            "top": null,
            "grid_column": null,
            "overflow_y": null,
            "overflow_x": null,
            "grid_auto_flow": null,
            "grid_area": null,
            "grid_template_columns": null,
            "flex": null,
            "_model_name": "LayoutModel",
            "justify_items": null,
            "grid_row": null,
            "max_height": null,
            "align_content": null,
            "visibility": null,
            "align_self": null,
            "height": null,
            "min_height": null,
            "padding": null,
            "grid_auto_rows": null,
            "grid_gap": null,
            "max_width": null,
            "order": null,
            "_view_module_version": "1.2.0",
            "grid_template_areas": null,
            "object_position": null,
            "object_fit": null,
            "grid_auto_columns": null,
            "margin": null,
            "display": null,
            "left": null
          }
        },
        "4a84b391a2ea4bb5b31d33f52ac98fb0": {
          "model_module": "@jupyter-widgets/controls",
          "model_name": "HBoxModel",
          "state": {
            "_view_name": "HBoxView",
            "_dom_classes": [],
            "_model_name": "HBoxModel",
            "_view_module": "@jupyter-widgets/controls",
            "_model_module_version": "1.5.0",
            "_view_count": null,
            "_view_module_version": "1.5.0",
            "box_style": "",
            "layout": "IPY_MODEL_fbe260dd3f734d2eac6d639a70a06525",
            "_model_module": "@jupyter-widgets/controls",
            "children": [
              "IPY_MODEL_649dd863823b4240a787197b6e0b728c",
              "IPY_MODEL_19fab6cee9824338bc576c2c7918ac7e"
            ]
          }
        },
        "fbe260dd3f734d2eac6d639a70a06525": {
          "model_module": "@jupyter-widgets/base",
          "model_name": "LayoutModel",
          "state": {
            "_view_name": "LayoutView",
            "grid_template_rows": null,
            "right": null,
            "justify_content": null,
            "_view_module": "@jupyter-widgets/base",
            "overflow": null,
            "_model_module_version": "1.2.0",
            "_view_count": null,
            "flex_flow": null,
            "width": null,
            "min_width": null,
            "border": null,
            "align_items": null,
            "bottom": null,
            "_model_module": "@jupyter-widgets/base",
            "top": null,
            "grid_column": null,
            "overflow_y": null,
            "overflow_x": null,
            "grid_auto_flow": null,
            "grid_area": null,
            "grid_template_columns": null,
            "flex": null,
            "_model_name": "LayoutModel",
            "justify_items": null,
            "grid_row": null,
            "max_height": null,
            "align_content": null,
            "visibility": null,
            "align_self": null,
            "height": null,
            "min_height": null,
            "padding": null,
            "grid_auto_rows": null,
            "grid_gap": null,
            "max_width": null,
            "order": null,
            "_view_module_version": "1.2.0",
            "grid_template_areas": null,
            "object_position": null,
            "object_fit": null,
            "grid_auto_columns": null,
            "margin": null,
            "display": null,
            "left": null
          }
        },
        "649dd863823b4240a787197b6e0b728c": {
          "model_module": "@jupyter-widgets/controls",
          "model_name": "FloatProgressModel",
          "state": {
            "_view_name": "ProgressView",
            "style": "IPY_MODEL_7291a5e2c7d94f549f3796682965342a",
            "_dom_classes": [],
            "description": "Downloading: 100%",
            "_model_name": "FloatProgressModel",
            "bar_style": "success",
            "max": 213450,
            "_view_module": "@jupyter-widgets/controls",
            "_model_module_version": "1.5.0",
            "value": 213450,
            "_view_count": null,
            "_view_module_version": "1.5.0",
            "orientation": "horizontal",
            "min": 0,
            "description_tooltip": null,
            "_model_module": "@jupyter-widgets/controls",
            "layout": "IPY_MODEL_5bc791b52ea849d2b9709994a18a5392"
          }
        },
        "19fab6cee9824338bc576c2c7918ac7e": {
          "model_module": "@jupyter-widgets/controls",
          "model_name": "HTMLModel",
          "state": {
            "_view_name": "HTMLView",
            "style": "IPY_MODEL_f0e4836ca435483e9e5efad44a06dd2d",
            "_dom_classes": [],
            "description": "",
            "_model_name": "HTMLModel",
            "placeholder": "​",
            "_view_module": "@jupyter-widgets/controls",
            "_model_module_version": "1.5.0",
            "value": " 213k/213k [00:00&lt;00:00, 310kB/s]",
            "_view_count": null,
            "_view_module_version": "1.5.0",
            "description_tooltip": null,
            "_model_module": "@jupyter-widgets/controls",
            "layout": "IPY_MODEL_6fb08ba7b33e4af7a318bff8cf33425d"
          }
        },
        "7291a5e2c7d94f549f3796682965342a": {
          "model_module": "@jupyter-widgets/controls",
          "model_name": "ProgressStyleModel",
          "state": {
            "_view_name": "StyleView",
            "_model_name": "ProgressStyleModel",
            "description_width": "initial",
            "_view_module": "@jupyter-widgets/base",
            "_model_module_version": "1.5.0",
            "_view_count": null,
            "_view_module_version": "1.2.0",
            "bar_color": null,
            "_model_module": "@jupyter-widgets/controls"
          }
        },
        "5bc791b52ea849d2b9709994a18a5392": {
          "model_module": "@jupyter-widgets/base",
          "model_name": "LayoutModel",
          "state": {
            "_view_name": "LayoutView",
            "grid_template_rows": null,
            "right": null,
            "justify_content": null,
            "_view_module": "@jupyter-widgets/base",
            "overflow": null,
            "_model_module_version": "1.2.0",
            "_view_count": null,
            "flex_flow": null,
            "width": null,
            "min_width": null,
            "border": null,
            "align_items": null,
            "bottom": null,
            "_model_module": "@jupyter-widgets/base",
            "top": null,
            "grid_column": null,
            "overflow_y": null,
            "overflow_x": null,
            "grid_auto_flow": null,
            "grid_area": null,
            "grid_template_columns": null,
            "flex": null,
            "_model_name": "LayoutModel",
            "justify_items": null,
            "grid_row": null,
            "max_height": null,
            "align_content": null,
            "visibility": null,
            "align_self": null,
            "height": null,
            "min_height": null,
            "padding": null,
            "grid_auto_rows": null,
            "grid_gap": null,
            "max_width": null,
            "order": null,
            "_view_module_version": "1.2.0",
            "grid_template_areas": null,
            "object_position": null,
            "object_fit": null,
            "grid_auto_columns": null,
            "margin": null,
            "display": null,
            "left": null
          }
        },
        "f0e4836ca435483e9e5efad44a06dd2d": {
          "model_module": "@jupyter-widgets/controls",
          "model_name": "DescriptionStyleModel",
          "state": {
            "_view_name": "StyleView",
            "_model_name": "DescriptionStyleModel",
            "description_width": "",
            "_view_module": "@jupyter-widgets/base",
            "_model_module_version": "1.5.0",
            "_view_count": null,
            "_view_module_version": "1.2.0",
            "_model_module": "@jupyter-widgets/controls"
          }
        },
        "6fb08ba7b33e4af7a318bff8cf33425d": {
          "model_module": "@jupyter-widgets/base",
          "model_name": "LayoutModel",
          "state": {
            "_view_name": "LayoutView",
            "grid_template_rows": null,
            "right": null,
            "justify_content": null,
            "_view_module": "@jupyter-widgets/base",
            "overflow": null,
            "_model_module_version": "1.2.0",
            "_view_count": null,
            "flex_flow": null,
            "width": null,
            "min_width": null,
            "border": null,
            "align_items": null,
            "bottom": null,
            "_model_module": "@jupyter-widgets/base",
            "top": null,
            "grid_column": null,
            "overflow_y": null,
            "overflow_x": null,
            "grid_auto_flow": null,
            "grid_area": null,
            "grid_template_columns": null,
            "flex": null,
            "_model_name": "LayoutModel",
            "justify_items": null,
            "grid_row": null,
            "max_height": null,
            "align_content": null,
            "visibility": null,
            "align_self": null,
            "height": null,
            "min_height": null,
            "padding": null,
            "grid_auto_rows": null,
            "grid_gap": null,
            "max_width": null,
            "order": null,
            "_view_module_version": "1.2.0",
            "grid_template_areas": null,
            "object_position": null,
            "object_fit": null,
            "grid_auto_columns": null,
            "margin": null,
            "display": null,
            "left": null
          }
        },
        "ceb7594227b7414881b98bf7ed4ff325": {
          "model_module": "@jupyter-widgets/controls",
          "model_name": "HBoxModel",
          "state": {
            "_view_name": "HBoxView",
            "_dom_classes": [],
            "_model_name": "HBoxModel",
            "_view_module": "@jupyter-widgets/controls",
            "_model_module_version": "1.5.0",
            "_view_count": null,
            "_view_module_version": "1.5.0",
            "box_style": "",
            "layout": "IPY_MODEL_f01d6670707042b895952d26b9ae671d",
            "_model_module": "@jupyter-widgets/controls",
            "children": [
              "IPY_MODEL_027519dc5c9e42e78bc6171327ce6225",
              "IPY_MODEL_83444984fd3e4016bb27ebbf3831708a"
            ]
          }
        },
        "f01d6670707042b895952d26b9ae671d": {
          "model_module": "@jupyter-widgets/base",
          "model_name": "LayoutModel",
          "state": {
            "_view_name": "LayoutView",
            "grid_template_rows": null,
            "right": null,
            "justify_content": null,
            "_view_module": "@jupyter-widgets/base",
            "overflow": null,
            "_model_module_version": "1.2.0",
            "_view_count": null,
            "flex_flow": null,
            "width": null,
            "min_width": null,
            "border": null,
            "align_items": null,
            "bottom": null,
            "_model_module": "@jupyter-widgets/base",
            "top": null,
            "grid_column": null,
            "overflow_y": null,
            "overflow_x": null,
            "grid_auto_flow": null,
            "grid_area": null,
            "grid_template_columns": null,
            "flex": null,
            "_model_name": "LayoutModel",
            "justify_items": null,
            "grid_row": null,
            "max_height": null,
            "align_content": null,
            "visibility": null,
            "align_self": null,
            "height": null,
            "min_height": null,
            "padding": null,
            "grid_auto_rows": null,
            "grid_gap": null,
            "max_width": null,
            "order": null,
            "_view_module_version": "1.2.0",
            "grid_template_areas": null,
            "object_position": null,
            "object_fit": null,
            "grid_auto_columns": null,
            "margin": null,
            "display": null,
            "left": null
          }
        },
        "027519dc5c9e42e78bc6171327ce6225": {
          "model_module": "@jupyter-widgets/controls",
          "model_name": "FloatProgressModel",
          "state": {
            "_view_name": "ProgressView",
            "style": "IPY_MODEL_51547f88d0fd4c7aa5eb231371ec75c9",
            "_dom_classes": [],
            "description": "Downloading: 100%",
            "_model_name": "FloatProgressModel",
            "bar_style": "success",
            "max": 435797,
            "_view_module": "@jupyter-widgets/controls",
            "_model_module_version": "1.5.0",
            "value": 435797,
            "_view_count": null,
            "_view_module_version": "1.5.0",
            "orientation": "horizontal",
            "min": 0,
            "description_tooltip": null,
            "_model_module": "@jupyter-widgets/controls",
            "layout": "IPY_MODEL_d2d93967592d4b3d8ed989966b055e30"
          }
        },
        "83444984fd3e4016bb27ebbf3831708a": {
          "model_module": "@jupyter-widgets/controls",
          "model_name": "HTMLModel",
          "state": {
            "_view_name": "HTMLView",
            "style": "IPY_MODEL_0b1ccc7ce43f48fba98e3e1aaf273e1b",
            "_dom_classes": [],
            "description": "",
            "_model_name": "HTMLModel",
            "placeholder": "​",
            "_view_module": "@jupyter-widgets/controls",
            "_model_module_version": "1.5.0",
            "value": " 436k/436k [00:00&lt;00:00, 986kB/s]",
            "_view_count": null,
            "_view_module_version": "1.5.0",
            "description_tooltip": null,
            "_model_module": "@jupyter-widgets/controls",
            "layout": "IPY_MODEL_7491bc4cf1aa4094a47e69c660b28b08"
          }
        },
        "51547f88d0fd4c7aa5eb231371ec75c9": {
          "model_module": "@jupyter-widgets/controls",
          "model_name": "ProgressStyleModel",
          "state": {
            "_view_name": "StyleView",
            "_model_name": "ProgressStyleModel",
            "description_width": "initial",
            "_view_module": "@jupyter-widgets/base",
            "_model_module_version": "1.5.0",
            "_view_count": null,
            "_view_module_version": "1.2.0",
            "bar_color": null,
            "_model_module": "@jupyter-widgets/controls"
          }
        },
        "d2d93967592d4b3d8ed989966b055e30": {
          "model_module": "@jupyter-widgets/base",
          "model_name": "LayoutModel",
          "state": {
            "_view_name": "LayoutView",
            "grid_template_rows": null,
            "right": null,
            "justify_content": null,
            "_view_module": "@jupyter-widgets/base",
            "overflow": null,
            "_model_module_version": "1.2.0",
            "_view_count": null,
            "flex_flow": null,
            "width": null,
            "min_width": null,
            "border": null,
            "align_items": null,
            "bottom": null,
            "_model_module": "@jupyter-widgets/base",
            "top": null,
            "grid_column": null,
            "overflow_y": null,
            "overflow_x": null,
            "grid_auto_flow": null,
            "grid_area": null,
            "grid_template_columns": null,
            "flex": null,
            "_model_name": "LayoutModel",
            "justify_items": null,
            "grid_row": null,
            "max_height": null,
            "align_content": null,
            "visibility": null,
            "align_self": null,
            "height": null,
            "min_height": null,
            "padding": null,
            "grid_auto_rows": null,
            "grid_gap": null,
            "max_width": null,
            "order": null,
            "_view_module_version": "1.2.0",
            "grid_template_areas": null,
            "object_position": null,
            "object_fit": null,
            "grid_auto_columns": null,
            "margin": null,
            "display": null,
            "left": null
          }
        },
        "0b1ccc7ce43f48fba98e3e1aaf273e1b": {
          "model_module": "@jupyter-widgets/controls",
          "model_name": "DescriptionStyleModel",
          "state": {
            "_view_name": "StyleView",
            "_model_name": "DescriptionStyleModel",
            "description_width": "",
            "_view_module": "@jupyter-widgets/base",
            "_model_module_version": "1.5.0",
            "_view_count": null,
            "_view_module_version": "1.2.0",
            "_model_module": "@jupyter-widgets/controls"
          }
        },
        "7491bc4cf1aa4094a47e69c660b28b08": {
          "model_module": "@jupyter-widgets/base",
          "model_name": "LayoutModel",
          "state": {
            "_view_name": "LayoutView",
            "grid_template_rows": null,
            "right": null,
            "justify_content": null,
            "_view_module": "@jupyter-widgets/base",
            "overflow": null,
            "_model_module_version": "1.2.0",
            "_view_count": null,
            "flex_flow": null,
            "width": null,
            "min_width": null,
            "border": null,
            "align_items": null,
            "bottom": null,
            "_model_module": "@jupyter-widgets/base",
            "top": null,
            "grid_column": null,
            "overflow_y": null,
            "overflow_x": null,
            "grid_auto_flow": null,
            "grid_area": null,
            "grid_template_columns": null,
            "flex": null,
            "_model_name": "LayoutModel",
            "justify_items": null,
            "grid_row": null,
            "max_height": null,
            "align_content": null,
            "visibility": null,
            "align_self": null,
            "height": null,
            "min_height": null,
            "padding": null,
            "grid_auto_rows": null,
            "grid_gap": null,
            "max_width": null,
            "order": null,
            "_view_module_version": "1.2.0",
            "grid_template_areas": null,
            "object_position": null,
            "object_fit": null,
            "grid_auto_columns": null,
            "margin": null,
            "display": null,
            "left": null
          }
        },
        "380ffba81bc74b0b838dc7a257fa1ea3": {
          "model_module": "@jupyter-widgets/controls",
          "model_name": "HBoxModel",
          "state": {
            "_view_name": "HBoxView",
            "_dom_classes": [],
            "_model_name": "HBoxModel",
            "_view_module": "@jupyter-widgets/controls",
            "_model_module_version": "1.5.0",
            "_view_count": null,
            "_view_module_version": "1.5.0",
            "box_style": "",
            "layout": "IPY_MODEL_b9cca149dbba447a9273c65ed6c66569",
            "_model_module": "@jupyter-widgets/controls",
            "children": [
              "IPY_MODEL_d854312df7ca401ea8fabd66387fe45c",
              "IPY_MODEL_db3ba6cc9d3c47139fe7d8e65a68a75e"
            ]
          }
        },
        "b9cca149dbba447a9273c65ed6c66569": {
          "model_module": "@jupyter-widgets/base",
          "model_name": "LayoutModel",
          "state": {
            "_view_name": "LayoutView",
            "grid_template_rows": null,
            "right": null,
            "justify_content": null,
            "_view_module": "@jupyter-widgets/base",
            "overflow": null,
            "_model_module_version": "1.2.0",
            "_view_count": null,
            "flex_flow": null,
            "width": null,
            "min_width": null,
            "border": null,
            "align_items": null,
            "bottom": null,
            "_model_module": "@jupyter-widgets/base",
            "top": null,
            "grid_column": null,
            "overflow_y": null,
            "overflow_x": null,
            "grid_auto_flow": null,
            "grid_area": null,
            "grid_template_columns": null,
            "flex": null,
            "_model_name": "LayoutModel",
            "justify_items": null,
            "grid_row": null,
            "max_height": null,
            "align_content": null,
            "visibility": null,
            "align_self": null,
            "height": null,
            "min_height": null,
            "padding": null,
            "grid_auto_rows": null,
            "grid_gap": null,
            "max_width": null,
            "order": null,
            "_view_module_version": "1.2.0",
            "grid_template_areas": null,
            "object_position": null,
            "object_fit": null,
            "grid_auto_columns": null,
            "margin": null,
            "display": null,
            "left": null
          }
        },
        "d854312df7ca401ea8fabd66387fe45c": {
          "model_module": "@jupyter-widgets/controls",
          "model_name": "FloatProgressModel",
          "state": {
            "_view_name": "ProgressView",
            "style": "IPY_MODEL_d015572c59144762ba5a50f1332911c0",
            "_dom_classes": [],
            "description": "Downloading: 100%",
            "_model_name": "FloatProgressModel",
            "bar_style": "success",
            "max": 29,
            "_view_module": "@jupyter-widgets/controls",
            "_model_module_version": "1.5.0",
            "value": 29,
            "_view_count": null,
            "_view_module_version": "1.5.0",
            "orientation": "horizontal",
            "min": 0,
            "description_tooltip": null,
            "_model_module": "@jupyter-widgets/controls",
            "layout": "IPY_MODEL_f8bf496a78dc440b8da081eed1016270"
          }
        },
        "db3ba6cc9d3c47139fe7d8e65a68a75e": {
          "model_module": "@jupyter-widgets/controls",
          "model_name": "HTMLModel",
          "state": {
            "_view_name": "HTMLView",
            "style": "IPY_MODEL_61a914ad9009474881e20814f2340f78",
            "_dom_classes": [],
            "description": "",
            "_model_name": "HTMLModel",
            "placeholder": "​",
            "_view_module": "@jupyter-widgets/controls",
            "_model_module_version": "1.5.0",
            "value": " 29.0/29.0 [00:00&lt;00:00, 51.9B/s]",
            "_view_count": null,
            "_view_module_version": "1.5.0",
            "description_tooltip": null,
            "_model_module": "@jupyter-widgets/controls",
            "layout": "IPY_MODEL_5397fd345d5f4850855ee10d068ceaee"
          }
        },
        "d015572c59144762ba5a50f1332911c0": {
          "model_module": "@jupyter-widgets/controls",
          "model_name": "ProgressStyleModel",
          "state": {
            "_view_name": "StyleView",
            "_model_name": "ProgressStyleModel",
            "description_width": "initial",
            "_view_module": "@jupyter-widgets/base",
            "_model_module_version": "1.5.0",
            "_view_count": null,
            "_view_module_version": "1.2.0",
            "bar_color": null,
            "_model_module": "@jupyter-widgets/controls"
          }
        },
        "f8bf496a78dc440b8da081eed1016270": {
          "model_module": "@jupyter-widgets/base",
          "model_name": "LayoutModel",
          "state": {
            "_view_name": "LayoutView",
            "grid_template_rows": null,
            "right": null,
            "justify_content": null,
            "_view_module": "@jupyter-widgets/base",
            "overflow": null,
            "_model_module_version": "1.2.0",
            "_view_count": null,
            "flex_flow": null,
            "width": null,
            "min_width": null,
            "border": null,
            "align_items": null,
            "bottom": null,
            "_model_module": "@jupyter-widgets/base",
            "top": null,
            "grid_column": null,
            "overflow_y": null,
            "overflow_x": null,
            "grid_auto_flow": null,
            "grid_area": null,
            "grid_template_columns": null,
            "flex": null,
            "_model_name": "LayoutModel",
            "justify_items": null,
            "grid_row": null,
            "max_height": null,
            "align_content": null,
            "visibility": null,
            "align_self": null,
            "height": null,
            "min_height": null,
            "padding": null,
            "grid_auto_rows": null,
            "grid_gap": null,
            "max_width": null,
            "order": null,
            "_view_module_version": "1.2.0",
            "grid_template_areas": null,
            "object_position": null,
            "object_fit": null,
            "grid_auto_columns": null,
            "margin": null,
            "display": null,
            "left": null
          }
        },
        "61a914ad9009474881e20814f2340f78": {
          "model_module": "@jupyter-widgets/controls",
          "model_name": "DescriptionStyleModel",
          "state": {
            "_view_name": "StyleView",
            "_model_name": "DescriptionStyleModel",
            "description_width": "",
            "_view_module": "@jupyter-widgets/base",
            "_model_module_version": "1.5.0",
            "_view_count": null,
            "_view_module_version": "1.2.0",
            "_model_module": "@jupyter-widgets/controls"
          }
        },
        "5397fd345d5f4850855ee10d068ceaee": {
          "model_module": "@jupyter-widgets/base",
          "model_name": "LayoutModel",
          "state": {
            "_view_name": "LayoutView",
            "grid_template_rows": null,
            "right": null,
            "justify_content": null,
            "_view_module": "@jupyter-widgets/base",
            "overflow": null,
            "_model_module_version": "1.2.0",
            "_view_count": null,
            "flex_flow": null,
            "width": null,
            "min_width": null,
            "border": null,
            "align_items": null,
            "bottom": null,
            "_model_module": "@jupyter-widgets/base",
            "top": null,
            "grid_column": null,
            "overflow_y": null,
            "overflow_x": null,
            "grid_auto_flow": null,
            "grid_area": null,
            "grid_template_columns": null,
            "flex": null,
            "_model_name": "LayoutModel",
            "justify_items": null,
            "grid_row": null,
            "max_height": null,
            "align_content": null,
            "visibility": null,
            "align_self": null,
            "height": null,
            "min_height": null,
            "padding": null,
            "grid_auto_rows": null,
            "grid_gap": null,
            "max_width": null,
            "order": null,
            "_view_module_version": "1.2.0",
            "grid_template_areas": null,
            "object_position": null,
            "object_fit": null,
            "grid_auto_columns": null,
            "margin": null,
            "display": null,
            "left": null
          }
        },
        "20e48b50edb44c57a1456d66cdc8ff48": {
          "model_module": "@jupyter-widgets/controls",
          "model_name": "HBoxModel",
          "state": {
            "_view_name": "HBoxView",
            "_dom_classes": [],
            "_model_name": "HBoxModel",
            "_view_module": "@jupyter-widgets/controls",
            "_model_module_version": "1.5.0",
            "_view_count": null,
            "_view_module_version": "1.5.0",
            "box_style": "",
            "layout": "IPY_MODEL_9d85c3e2fc5247818e02879aa962801b",
            "_model_module": "@jupyter-widgets/controls",
            "children": [
              "IPY_MODEL_1544a20f53864bd295dea6e27f68981a",
              "IPY_MODEL_0e7f30020617454c885d8a68fbc9a47e"
            ]
          }
        },
        "9d85c3e2fc5247818e02879aa962801b": {
          "model_module": "@jupyter-widgets/base",
          "model_name": "LayoutModel",
          "state": {
            "_view_name": "LayoutView",
            "grid_template_rows": null,
            "right": null,
            "justify_content": null,
            "_view_module": "@jupyter-widgets/base",
            "overflow": null,
            "_model_module_version": "1.2.0",
            "_view_count": null,
            "flex_flow": null,
            "width": null,
            "min_width": null,
            "border": null,
            "align_items": null,
            "bottom": null,
            "_model_module": "@jupyter-widgets/base",
            "top": null,
            "grid_column": null,
            "overflow_y": null,
            "overflow_x": null,
            "grid_auto_flow": null,
            "grid_area": null,
            "grid_template_columns": null,
            "flex": null,
            "_model_name": "LayoutModel",
            "justify_items": null,
            "grid_row": null,
            "max_height": null,
            "align_content": null,
            "visibility": null,
            "align_self": null,
            "height": null,
            "min_height": null,
            "padding": null,
            "grid_auto_rows": null,
            "grid_gap": null,
            "max_width": null,
            "order": null,
            "_view_module_version": "1.2.0",
            "grid_template_areas": null,
            "object_position": null,
            "object_fit": null,
            "grid_auto_columns": null,
            "margin": null,
            "display": null,
            "left": null
          }
        },
        "1544a20f53864bd295dea6e27f68981a": {
          "model_module": "@jupyter-widgets/controls",
          "model_name": "FloatProgressModel",
          "state": {
            "_view_name": "ProgressView",
            "style": "IPY_MODEL_55491c6a6f994b3eb63448ee1bf70265",
            "_dom_classes": [],
            "description": "Downloading: 100%",
            "_model_name": "FloatProgressModel",
            "bar_style": "success",
            "max": 411,
            "_view_module": "@jupyter-widgets/controls",
            "_model_module_version": "1.5.0",
            "value": 411,
            "_view_count": null,
            "_view_module_version": "1.5.0",
            "orientation": "horizontal",
            "min": 0,
            "description_tooltip": null,
            "_model_module": "@jupyter-widgets/controls",
            "layout": "IPY_MODEL_7752308032b44ce1ae799e3649b6179a"
          }
        },
        "0e7f30020617454c885d8a68fbc9a47e": {
          "model_module": "@jupyter-widgets/controls",
          "model_name": "HTMLModel",
          "state": {
            "_view_name": "HTMLView",
            "style": "IPY_MODEL_d5734c8ee9ef47b5bf30c4b009e68685",
            "_dom_classes": [],
            "description": "",
            "_model_name": "HTMLModel",
            "placeholder": "​",
            "_view_module": "@jupyter-widgets/controls",
            "_model_module_version": "1.5.0",
            "value": " 411/411 [34:15&lt;00:00, 5.00s/B]",
            "_view_count": null,
            "_view_module_version": "1.5.0",
            "description_tooltip": null,
            "_model_module": "@jupyter-widgets/controls",
            "layout": "IPY_MODEL_9260061d23cf403990f3647747bb66c4"
          }
        },
        "55491c6a6f994b3eb63448ee1bf70265": {
          "model_module": "@jupyter-widgets/controls",
          "model_name": "ProgressStyleModel",
          "state": {
            "_view_name": "StyleView",
            "_model_name": "ProgressStyleModel",
            "description_width": "initial",
            "_view_module": "@jupyter-widgets/base",
            "_model_module_version": "1.5.0",
            "_view_count": null,
            "_view_module_version": "1.2.0",
            "bar_color": null,
            "_model_module": "@jupyter-widgets/controls"
          }
        },
        "7752308032b44ce1ae799e3649b6179a": {
          "model_module": "@jupyter-widgets/base",
          "model_name": "LayoutModel",
          "state": {
            "_view_name": "LayoutView",
            "grid_template_rows": null,
            "right": null,
            "justify_content": null,
            "_view_module": "@jupyter-widgets/base",
            "overflow": null,
            "_model_module_version": "1.2.0",
            "_view_count": null,
            "flex_flow": null,
            "width": null,
            "min_width": null,
            "border": null,
            "align_items": null,
            "bottom": null,
            "_model_module": "@jupyter-widgets/base",
            "top": null,
            "grid_column": null,
            "overflow_y": null,
            "overflow_x": null,
            "grid_auto_flow": null,
            "grid_area": null,
            "grid_template_columns": null,
            "flex": null,
            "_model_name": "LayoutModel",
            "justify_items": null,
            "grid_row": null,
            "max_height": null,
            "align_content": null,
            "visibility": null,
            "align_self": null,
            "height": null,
            "min_height": null,
            "padding": null,
            "grid_auto_rows": null,
            "grid_gap": null,
            "max_width": null,
            "order": null,
            "_view_module_version": "1.2.0",
            "grid_template_areas": null,
            "object_position": null,
            "object_fit": null,
            "grid_auto_columns": null,
            "margin": null,
            "display": null,
            "left": null
          }
        },
        "d5734c8ee9ef47b5bf30c4b009e68685": {
          "model_module": "@jupyter-widgets/controls",
          "model_name": "DescriptionStyleModel",
          "state": {
            "_view_name": "StyleView",
            "_model_name": "DescriptionStyleModel",
            "description_width": "",
            "_view_module": "@jupyter-widgets/base",
            "_model_module_version": "1.5.0",
            "_view_count": null,
            "_view_module_version": "1.2.0",
            "_model_module": "@jupyter-widgets/controls"
          }
        },
        "9260061d23cf403990f3647747bb66c4": {
          "model_module": "@jupyter-widgets/base",
          "model_name": "LayoutModel",
          "state": {
            "_view_name": "LayoutView",
            "grid_template_rows": null,
            "right": null,
            "justify_content": null,
            "_view_module": "@jupyter-widgets/base",
            "overflow": null,
            "_model_module_version": "1.2.0",
            "_view_count": null,
            "flex_flow": null,
            "width": null,
            "min_width": null,
            "border": null,
            "align_items": null,
            "bottom": null,
            "_model_module": "@jupyter-widgets/base",
            "top": null,
            "grid_column": null,
            "overflow_y": null,
            "overflow_x": null,
            "grid_auto_flow": null,
            "grid_area": null,
            "grid_template_columns": null,
            "flex": null,
            "_model_name": "LayoutModel",
            "justify_items": null,
            "grid_row": null,
            "max_height": null,
            "align_content": null,
            "visibility": null,
            "align_self": null,
            "height": null,
            "min_height": null,
            "padding": null,
            "grid_auto_rows": null,
            "grid_gap": null,
            "max_width": null,
            "order": null,
            "_view_module_version": "1.2.0",
            "grid_template_areas": null,
            "object_position": null,
            "object_fit": null,
            "grid_auto_columns": null,
            "margin": null,
            "display": null,
            "left": null
          }
        },
        "b7556f32b0754865b03da76affa01336": {
          "model_module": "@jupyter-widgets/controls",
          "model_name": "HBoxModel",
          "state": {
            "_view_name": "HBoxView",
            "_dom_classes": [],
            "_model_name": "HBoxModel",
            "_view_module": "@jupyter-widgets/controls",
            "_model_module_version": "1.5.0",
            "_view_count": null,
            "_view_module_version": "1.5.0",
            "box_style": "",
            "layout": "IPY_MODEL_c55b0b6dcfd141cb855ecfaf334c85d2",
            "_model_module": "@jupyter-widgets/controls",
            "children": [
              "IPY_MODEL_bbbc60ab11094bedbe36f1bddbce1f75",
              "IPY_MODEL_7c815805c2d0417fa5d264ea4b8d8199"
            ]
          }
        },
        "c55b0b6dcfd141cb855ecfaf334c85d2": {
          "model_module": "@jupyter-widgets/base",
          "model_name": "LayoutModel",
          "state": {
            "_view_name": "LayoutView",
            "grid_template_rows": null,
            "right": null,
            "justify_content": null,
            "_view_module": "@jupyter-widgets/base",
            "overflow": null,
            "_model_module_version": "1.2.0",
            "_view_count": null,
            "flex_flow": null,
            "width": null,
            "min_width": null,
            "border": null,
            "align_items": null,
            "bottom": null,
            "_model_module": "@jupyter-widgets/base",
            "top": null,
            "grid_column": null,
            "overflow_y": null,
            "overflow_x": null,
            "grid_auto_flow": null,
            "grid_area": null,
            "grid_template_columns": null,
            "flex": null,
            "_model_name": "LayoutModel",
            "justify_items": null,
            "grid_row": null,
            "max_height": null,
            "align_content": null,
            "visibility": null,
            "align_self": null,
            "height": null,
            "min_height": null,
            "padding": null,
            "grid_auto_rows": null,
            "grid_gap": null,
            "max_width": null,
            "order": null,
            "_view_module_version": "1.2.0",
            "grid_template_areas": null,
            "object_position": null,
            "object_fit": null,
            "grid_auto_columns": null,
            "margin": null,
            "display": null,
            "left": null
          }
        },
        "bbbc60ab11094bedbe36f1bddbce1f75": {
          "model_module": "@jupyter-widgets/controls",
          "model_name": "FloatProgressModel",
          "state": {
            "_view_name": "ProgressView",
            "style": "IPY_MODEL_b0d688c695254f0c8d19b6164cffa9d4",
            "_dom_classes": [],
            "description": "Downloading: 100%",
            "_model_name": "FloatProgressModel",
            "bar_style": "success",
            "max": 263273408,
            "_view_module": "@jupyter-widgets/controls",
            "_model_module_version": "1.5.0",
            "value": 263273408,
            "_view_count": null,
            "_view_module_version": "1.5.0",
            "orientation": "horizontal",
            "min": 0,
            "description_tooltip": null,
            "_model_module": "@jupyter-widgets/controls",
            "layout": "IPY_MODEL_2495ea50d3944b01bc405812f49fdd72"
          }
        },
        "7c815805c2d0417fa5d264ea4b8d8199": {
          "model_module": "@jupyter-widgets/controls",
          "model_name": "HTMLModel",
          "state": {
            "_view_name": "HTMLView",
            "style": "IPY_MODEL_1eb098fdcd084999abd1acf4a1f259d5",
            "_dom_classes": [],
            "description": "",
            "_model_name": "HTMLModel",
            "placeholder": "​",
            "_view_module": "@jupyter-widgets/controls",
            "_model_module_version": "1.5.0",
            "value": " 263M/263M [00:06&lt;00:00, 42.5MB/s]",
            "_view_count": null,
            "_view_module_version": "1.5.0",
            "description_tooltip": null,
            "_model_module": "@jupyter-widgets/controls",
            "layout": "IPY_MODEL_d671003047ce4dedacafa6e6018361a9"
          }
        },
        "b0d688c695254f0c8d19b6164cffa9d4": {
          "model_module": "@jupyter-widgets/controls",
          "model_name": "ProgressStyleModel",
          "state": {
            "_view_name": "StyleView",
            "_model_name": "ProgressStyleModel",
            "description_width": "initial",
            "_view_module": "@jupyter-widgets/base",
            "_model_module_version": "1.5.0",
            "_view_count": null,
            "_view_module_version": "1.2.0",
            "bar_color": null,
            "_model_module": "@jupyter-widgets/controls"
          }
        },
        "2495ea50d3944b01bc405812f49fdd72": {
          "model_module": "@jupyter-widgets/base",
          "model_name": "LayoutModel",
          "state": {
            "_view_name": "LayoutView",
            "grid_template_rows": null,
            "right": null,
            "justify_content": null,
            "_view_module": "@jupyter-widgets/base",
            "overflow": null,
            "_model_module_version": "1.2.0",
            "_view_count": null,
            "flex_flow": null,
            "width": null,
            "min_width": null,
            "border": null,
            "align_items": null,
            "bottom": null,
            "_model_module": "@jupyter-widgets/base",
            "top": null,
            "grid_column": null,
            "overflow_y": null,
            "overflow_x": null,
            "grid_auto_flow": null,
            "grid_area": null,
            "grid_template_columns": null,
            "flex": null,
            "_model_name": "LayoutModel",
            "justify_items": null,
            "grid_row": null,
            "max_height": null,
            "align_content": null,
            "visibility": null,
            "align_self": null,
            "height": null,
            "min_height": null,
            "padding": null,
            "grid_auto_rows": null,
            "grid_gap": null,
            "max_width": null,
            "order": null,
            "_view_module_version": "1.2.0",
            "grid_template_areas": null,
            "object_position": null,
            "object_fit": null,
            "grid_auto_columns": null,
            "margin": null,
            "display": null,
            "left": null
          }
        },
        "1eb098fdcd084999abd1acf4a1f259d5": {
          "model_module": "@jupyter-widgets/controls",
          "model_name": "DescriptionStyleModel",
          "state": {
            "_view_name": "StyleView",
            "_model_name": "DescriptionStyleModel",
            "description_width": "",
            "_view_module": "@jupyter-widgets/base",
            "_model_module_version": "1.5.0",
            "_view_count": null,
            "_view_module_version": "1.2.0",
            "_model_module": "@jupyter-widgets/controls"
          }
        },
        "d671003047ce4dedacafa6e6018361a9": {
          "model_module": "@jupyter-widgets/base",
          "model_name": "LayoutModel",
          "state": {
            "_view_name": "LayoutView",
            "grid_template_rows": null,
            "right": null,
            "justify_content": null,
            "_view_module": "@jupyter-widgets/base",
            "overflow": null,
            "_model_module_version": "1.2.0",
            "_view_count": null,
            "flex_flow": null,
            "width": null,
            "min_width": null,
            "border": null,
            "align_items": null,
            "bottom": null,
            "_model_module": "@jupyter-widgets/base",
            "top": null,
            "grid_column": null,
            "overflow_y": null,
            "overflow_x": null,
            "grid_auto_flow": null,
            "grid_area": null,
            "grid_template_columns": null,
            "flex": null,
            "_model_name": "LayoutModel",
            "justify_items": null,
            "grid_row": null,
            "max_height": null,
            "align_content": null,
            "visibility": null,
            "align_self": null,
            "height": null,
            "min_height": null,
            "padding": null,
            "grid_auto_rows": null,
            "grid_gap": null,
            "max_width": null,
            "order": null,
            "_view_module_version": "1.2.0",
            "grid_template_areas": null,
            "object_position": null,
            "object_fit": null,
            "grid_auto_columns": null,
            "margin": null,
            "display": null,
            "left": null
          }
        }
      }
    }
  },
  "cells": [
    {
      "cell_type": "markdown",
      "metadata": {
        "id": "GQjIFjOkKyz4"
      },
      "source": [
        "# Preparation"
      ]
    },
    {
      "cell_type": "markdown",
      "metadata": {
        "id": "F0HiliRmDK-y"
      },
      "source": [
        "## Pip Install"
      ]
    },
    {
      "cell_type": "code",
      "metadata": {
        "colab": {
          "base_uri": "https://localhost:8080/"
        },
        "id": "FCJLt6ZsNIJ-",
        "outputId": "22cd8ba9-4d09-4c6f-9490-41c5dd6fce54"
      },
      "source": [
        "!pip install transformers"
      ],
      "execution_count": null,
      "outputs": [
        {
          "output_type": "stream",
          "text": [
            "Requirement already satisfied: transformers in /usr/local/lib/python3.7/dist-packages (4.5.1)\n",
            "Requirement already satisfied: regex!=2019.12.17 in /usr/local/lib/python3.7/dist-packages (from transformers) (2019.12.20)\n",
            "Requirement already satisfied: sacremoses in /usr/local/lib/python3.7/dist-packages (from transformers) (0.0.45)\n",
            "Requirement already satisfied: tokenizers<0.11,>=0.10.1 in /usr/local/lib/python3.7/dist-packages (from transformers) (0.10.2)\n",
            "Requirement already satisfied: packaging in /usr/local/lib/python3.7/dist-packages (from transformers) (20.9)\n",
            "Requirement already satisfied: filelock in /usr/local/lib/python3.7/dist-packages (from transformers) (3.0.12)\n",
            "Requirement already satisfied: tqdm>=4.27 in /usr/local/lib/python3.7/dist-packages (from transformers) (4.41.1)\n",
            "Requirement already satisfied: importlib-metadata; python_version < \"3.8\" in /usr/local/lib/python3.7/dist-packages (from transformers) (3.10.1)\n",
            "Requirement already satisfied: numpy>=1.17 in /usr/local/lib/python3.7/dist-packages (from transformers) (1.19.5)\n",
            "Requirement already satisfied: requests in /usr/local/lib/python3.7/dist-packages (from transformers) (2.23.0)\n",
            "Requirement already satisfied: six in /usr/local/lib/python3.7/dist-packages (from sacremoses->transformers) (1.15.0)\n",
            "Requirement already satisfied: click in /usr/local/lib/python3.7/dist-packages (from sacremoses->transformers) (7.1.2)\n",
            "Requirement already satisfied: joblib in /usr/local/lib/python3.7/dist-packages (from sacremoses->transformers) (1.0.1)\n",
            "Requirement already satisfied: pyparsing>=2.0.2 in /usr/local/lib/python3.7/dist-packages (from packaging->transformers) (2.4.7)\n",
            "Requirement already satisfied: zipp>=0.5 in /usr/local/lib/python3.7/dist-packages (from importlib-metadata; python_version < \"3.8\"->transformers) (3.4.1)\n",
            "Requirement already satisfied: typing-extensions>=3.6.4; python_version < \"3.8\" in /usr/local/lib/python3.7/dist-packages (from importlib-metadata; python_version < \"3.8\"->transformers) (3.7.4.3)\n",
            "Requirement already satisfied: idna<3,>=2.5 in /usr/local/lib/python3.7/dist-packages (from requests->transformers) (2.10)\n",
            "Requirement already satisfied: certifi>=2017.4.17 in /usr/local/lib/python3.7/dist-packages (from requests->transformers) (2020.12.5)\n",
            "Requirement already satisfied: urllib3!=1.25.0,!=1.25.1,<1.26,>=1.21.1 in /usr/local/lib/python3.7/dist-packages (from requests->transformers) (1.24.3)\n",
            "Requirement already satisfied: chardet<4,>=3.0.2 in /usr/local/lib/python3.7/dist-packages (from requests->transformers) (3.0.4)\n"
          ],
          "name": "stdout"
        }
      ]
    },
    {
      "cell_type": "code",
      "metadata": {
        "colab": {
          "base_uri": "https://localhost:8080/"
        },
        "id": "sgSxnyxnhwvM",
        "outputId": "20fb8748-2836-4226-9597-1be9eb6ba853"
      },
      "source": [
        "!pip install tokenizers"
      ],
      "execution_count": null,
      "outputs": [
        {
          "output_type": "stream",
          "text": [
            "Requirement already satisfied: tokenizers in /usr/local/lib/python3.7/dist-packages (0.10.2)\n"
          ],
          "name": "stdout"
        }
      ]
    },
    {
      "cell_type": "code",
      "metadata": {
        "colab": {
          "base_uri": "https://localhost:8080/"
        },
        "id": "zeIcyncPdMa5",
        "outputId": "f76f2058-d4ce-4f74-fa43-76c9832f8f05"
      },
      "source": [
        "!pip install Sentencepiece"
      ],
      "execution_count": null,
      "outputs": [
        {
          "output_type": "stream",
          "text": [
            "Requirement already satisfied: Sentencepiece in /usr/local/lib/python3.7/dist-packages (0.1.91)\n"
          ],
          "name": "stdout"
        }
      ]
    },
    {
      "cell_type": "markdown",
      "metadata": {
        "id": "o9113Ah7DWx9"
      },
      "source": [
        "## Basic Modules"
      ]
    },
    {
      "cell_type": "code",
      "metadata": {
        "id": "WGQpAwZjDbQF"
      },
      "source": [
        "import numpy as np\n",
        "from transformers import pipeline"
      ],
      "execution_count": null,
      "outputs": []
    },
    {
      "cell_type": "markdown",
      "metadata": {
        "id": "UJrCMYVwDEjm"
      },
      "source": [
        "## Load Data\n"
      ]
    },
    {
      "cell_type": "code",
      "metadata": {
        "colab": {
          "base_uri": "https://localhost:8080/"
        },
        "id": "p59aNkftDdbu",
        "outputId": "fe644df8-4ee9-44d3-856e-a385ce45ed48"
      },
      "source": [
        "!wget https://raw.githubusercontent.com/dscape/spell/master/test/resources/big.txt"
      ],
      "execution_count": null,
      "outputs": [
        {
          "output_type": "stream",
          "text": [
            "--2021-05-05 03:18:28--  https://raw.githubusercontent.com/dscape/spell/master/test/resources/big.txt\n",
            "Resolving raw.githubusercontent.com (raw.githubusercontent.com)... 185.199.109.133, 185.199.111.133, 185.199.108.133, ...\n",
            "Connecting to raw.githubusercontent.com (raw.githubusercontent.com)|185.199.109.133|:443... connected.\n",
            "HTTP request sent, awaiting response... 200 OK\n",
            "Length: 6488666 (6.2M) [text/plain]\n",
            "Saving to: ‘big.txt.2’\n",
            "\n",
            "big.txt.2           100%[===================>]   6.19M  14.4MB/s    in 0.4s    \n",
            "\n",
            "2021-05-05 03:18:29 (14.4 MB/s) - ‘big.txt.2’ saved [6488666/6488666]\n",
            "\n"
          ],
          "name": "stdout"
        }
      ]
    },
    {
      "cell_type": "code",
      "metadata": {
        "id": "rzEZezsEJM2O"
      },
      "source": [
        "sample_message = 'Simple input to be tokenized and processed'\n",
        "longer_sample_message = 'Simple input to be tokenized and processed so that it can be analysed'\n",
        "sample_msg_ger = \"Hugging Face ist eine französische Firma mit Sitz in New-York.\"\n",
        "sample_self_intro = 'My Name is Alvin. I work at Naluri in Malaysia and I love sashimi'"
      ],
      "execution_count": null,
      "outputs": []
    },
    {
      "cell_type": "code",
      "metadata": {
        "id": "txadf3WADs8M"
      },
      "source": [
        "# Extracted from http://www.gutenberg.org/files/1661/1661-h/1661-h.htm\n",
        "sample_paragraph = 'To Sherlock Holmes she is always the woman. I have seldom heard him mention her under any other name. In his eyes she eclipses and predominates the whole of her sex. It was not that he felt any emotion akin to love for Irene Adler. All emotions, and that one particularly, were abhorrent to his cold, precise but admirably balanced mind. He was, I take it, the most perfect reasoning and observing machine that the world has seen, but as a lover he would have placed himself in a false position. He never spoke of the softer passions, save with a gibe and a sneer. They were admirable things for the observer—excellent for drawing the veil from men’s motives and actions. But for the trained reasoner to admit such intrusions into his own delicate and finely adjusted temperament was to introduce a distracting factor which might throw a doubt upon all his mental results. Grit in a sensitive instrument, or a crack in one of his own high-power lenses, would not be more disturbing than a strong emotion in a nature such as his. And yet there was but one woman to him, and that woman was the late Irene Adler, of dubious and questionable memory.'"
      ],
      "execution_count": null,
      "outputs": []
    },
    {
      "cell_type": "markdown",
      "metadata": {
        "id": "2P1QWvERC9n7"
      },
      "source": [
        "# Tokenization"
      ]
    },
    {
      "cell_type": "code",
      "metadata": {
        "id": "DlvRd_RZm79K"
      },
      "source": [
        "from tokenizers import Tokenizer\n",
        "\n",
        "from tokenizers.decoders import ByteLevel as ByteLevelDecoder\n",
        "from tokenizers.models import BPE                                   # Byte-Pair Encoding\n",
        "from tokenizers.normalizers import Lowercase, NFKC, Sequence        # lower-casing and unicode-normalization; Sequence combines multiple Normalizer and execute in order\n",
        "from tokenizers.pre_tokenizers import ByteLevel\n",
        "\n",
        "from tokenizers.trainers import BpeTrainer                          # to train with byte-pair encoder"
      ],
      "execution_count": null,
      "outputs": []
    },
    {
      "cell_type": "code",
      "metadata": {
        "id": "rqy8XPIBDyf9"
      },
      "source": [
        "tokenizer = Tokenizer(BPE())            # create an empty Byte-Pair Encoding model\n",
        "tokenizer.normalizer = Sequence([       # normalize in sequnced order\n",
        "    NFKC(),                             # unicode normalization\n",
        "    Lowercase()\n",
        "])\n",
        "tokenizer.pre_tokenizer = ByteLevel()   # pre-tokenizer converts inputs to a ByteLevel representation\n",
        "tokenizer.decoder = ByteLevelDecoder()  # decode tokenized text to original text"
      ],
      "execution_count": null,
      "outputs": []
    },
    {
      "cell_type": "code",
      "metadata": {
        "colab": {
          "base_uri": "https://localhost:8080/"
        },
        "id": "LVHbZmvWFa6W",
        "outputId": "2f02a154-9f49-49ce-937e-48d73bcec068"
      },
      "source": [
        "trainer = BpeTrainer(vocab_size=30000, show_progress=True, initial_alphabet=ByteLevel.alphabet())  \n",
        "tokenizer.train(files=[\"big.txt\"], trainer=trainer)\n",
        "tokenizer.get_vocab_size()"
      ],
      "execution_count": null,
      "outputs": [
        {
          "output_type": "execute_result",
          "data": {
            "text/plain": [
              "30000"
            ]
          },
          "metadata": {
            "tags": []
          },
          "execution_count": 9
        }
      ]
    },
    {
      "cell_type": "code",
      "metadata": {
        "id": "U2nFmgP3GTxO"
      },
      "source": [
        "# tokenizer.model.save('.')                             # Export tokenization model - 2 files\n",
        "# tokenizer.model = BPE('vocab.json', 'merges.txt')     # Import saved tokenization model locally"
      ],
      "execution_count": null,
      "outputs": []
    },
    {
      "cell_type": "code",
      "metadata": {
        "colab": {
          "base_uri": "https://localhost:8080/"
        },
        "id": "CGVYaFCFHOma",
        "outputId": "d7025784-8299-4c05-d61b-95e35ed927bb"
      },
      "source": [
        "# Try Model! \n",
        "\n",
        "encoding = tokenizer.encode(sample_message)\n",
        "print(sample_message)\n",
        "print(encoding.tokens)\n",
        "# Note that 'in-put', 'token-ized' and 'process-ed' are each split into simpler tokens"
      ],
      "execution_count": null,
      "outputs": [
        {
          "output_type": "stream",
          "text": [
            "Simple input to be tokenized and processed\n",
            "['Ġsimple', 'Ġin', 'put', 'Ġto', 'Ġbe', 'Ġtoken', 'ized', 'Ġand', 'Ġprocess', 'ed']\n"
          ],
          "name": "stdout"
        }
      ]
    },
    {
      "cell_type": "code",
      "metadata": {
        "colab": {
          "base_uri": "https://localhost:8080/",
          "height": 35
        },
        "id": "4vdFfwhoIv32",
        "outputId": "3bc7405d-bd31-498c-a323-cfd761125112"
      },
      "source": [
        "tokenizer.decode(encoding.ids)"
      ],
      "execution_count": null,
      "outputs": [
        {
          "output_type": "execute_result",
          "data": {
            "application/vnd.google.colaboratory.intrinsic+json": {
              "type": "string"
            },
            "text/plain": [
              "' simple input to be tokenized and processed'"
            ]
          },
          "metadata": {
            "tags": []
          },
          "execution_count": 12
        }
      ]
    },
    {
      "cell_type": "markdown",
      "metadata": {
        "id": "-U3czT_nLNIt"
      },
      "source": [
        "# Transformers"
      ]
    },
    {
      "cell_type": "code",
      "metadata": {
        "id": "H2hBwx-sLOwP"
      },
      "source": [
        "# RNN (sequential processing with NN) is commonly used before Transformers\n",
        "# Good for task involving sequential dependency but has issue with long range dependencies & bad parallelization capabilities\n",
        "\n",
        "# Transformer is non-sequencial attention\n",
        "# Hence it can look at every position in a sequence at the same time\n",
        "# More details : https://nlp.seas.harvard.edu/2018/04/03/attention.html#encoder-and-decoder-stacks\n",
        "\n",
        "# BERT - Bidirectional Encoder Representations from Transformers\n",
        "# More details : https://arxiv.org/abs/1810.04805"
      ],
      "execution_count": null,
      "outputs": []
    },
    {
      "cell_type": "code",
      "metadata": {
        "id": "kCEFNi-mM0KQ"
      },
      "source": [
        "import torch\n",
        "from transformers import AutoModel, AutoTokenizer   # To Import pre-trained model from HuggingFace\n",
        "from transformers import BertTokenizer\n",
        "from transformers import TFBertModel, BertModel     # BertModel for TensorFlow and Pytorch (default)\n",
        "from transformers import DistilBertModel            # distilled from large-scale language model, much faster & lighter with 97% of BERT's performance; More info: https://medium.com/huggingface/distilbert-8cf3380435b5\n",
        "\n",
        "torch.set_grad_enabled(False); # computational graph clean up for gradient calculation to avoid out of memory error"
      ],
      "execution_count": null,
      "outputs": []
    },
    {
      "cell_type": "code",
      "metadata": {
        "id": "FU6RfJGyOZbE"
      },
      "source": [
        "MODEL_NAME = \"bert-base-cased\""
      ],
      "execution_count": null,
      "outputs": []
    },
    {
      "cell_type": "code",
      "metadata": {
        "colab": {
          "base_uri": "https://localhost:8080/",
          "height": 262,
          "referenced_widgets": [
            "4342c167acea47fe916957b7b750f242",
            "7a6d9aa1bfc14eb0b5de52c795a16781",
            "2069974ed2c846c597ed4b336d10f56f",
            "2dda0cb65ebe4824b82c7b59afaef378",
            "034e823f59594c1e913e0877830a044f",
            "c04847e8e9ac4491b271976f996556ab",
            "b0437ef1515345959ff9f19c9aa656d1",
            "e2039c83dd364099a49cbe0d1009063b",
            "596dc4d03cb0423ea8a5dfbdfc3a7558",
            "f2a11b36ca204caca5a302b375276d71",
            "f582703e4d35461693207a95629005a2",
            "e842118bb86e453ab50ccc43716eb872",
            "2aa41483d7ed4048b44009c1f50e9c9b",
            "2c399283318e4bce9ff5f1416bbce71d",
            "c89f23da4a964ec3a326d4b6bca15f12",
            "7dcf99fe99c94f70b0ce84c40a600b13",
            "4a84b391a2ea4bb5b31d33f52ac98fb0",
            "fbe260dd3f734d2eac6d639a70a06525",
            "649dd863823b4240a787197b6e0b728c",
            "19fab6cee9824338bc576c2c7918ac7e",
            "7291a5e2c7d94f549f3796682965342a",
            "5bc791b52ea849d2b9709994a18a5392",
            "f0e4836ca435483e9e5efad44a06dd2d",
            "6fb08ba7b33e4af7a318bff8cf33425d",
            "ceb7594227b7414881b98bf7ed4ff325",
            "f01d6670707042b895952d26b9ae671d",
            "027519dc5c9e42e78bc6171327ce6225",
            "83444984fd3e4016bb27ebbf3831708a",
            "51547f88d0fd4c7aa5eb231371ec75c9",
            "d2d93967592d4b3d8ed989966b055e30",
            "0b1ccc7ce43f48fba98e3e1aaf273e1b",
            "7491bc4cf1aa4094a47e69c660b28b08",
            "380ffba81bc74b0b838dc7a257fa1ea3",
            "b9cca149dbba447a9273c65ed6c66569",
            "d854312df7ca401ea8fabd66387fe45c",
            "db3ba6cc9d3c47139fe7d8e65a68a75e",
            "d015572c59144762ba5a50f1332911c0",
            "f8bf496a78dc440b8da081eed1016270",
            "61a914ad9009474881e20814f2340f78",
            "5397fd345d5f4850855ee10d068ceaee"
          ]
        },
        "id": "y7tDETj9NU-m",
        "outputId": "42b1e487-6938-428f-ca5b-cdb8e94a8611"
      },
      "source": [
        "model = AutoModel.from_pretrained(MODEL_NAME)\n",
        "tokenizer = AutoTokenizer.from_pretrained(MODEL_NAME)"
      ],
      "execution_count": null,
      "outputs": [
        {
          "output_type": "display_data",
          "data": {
            "application/vnd.jupyter.widget-view+json": {
              "model_id": "4342c167acea47fe916957b7b750f242",
              "version_minor": 0,
              "version_major": 2
            },
            "text/plain": [
              "HBox(children=(FloatProgress(value=0.0, description='Downloading', max=570.0, style=ProgressStyle(description_…"
            ]
          },
          "metadata": {
            "tags": []
          }
        },
        {
          "output_type": "stream",
          "text": [
            "\n"
          ],
          "name": "stdout"
        },
        {
          "output_type": "display_data",
          "data": {
            "application/vnd.jupyter.widget-view+json": {
              "model_id": "596dc4d03cb0423ea8a5dfbdfc3a7558",
              "version_minor": 0,
              "version_major": 2
            },
            "text/plain": [
              "HBox(children=(FloatProgress(value=0.0, description='Downloading', max=435779157.0, style=ProgressStyle(descri…"
            ]
          },
          "metadata": {
            "tags": []
          }
        },
        {
          "output_type": "stream",
          "text": [
            "\n"
          ],
          "name": "stdout"
        },
        {
          "output_type": "display_data",
          "data": {
            "application/vnd.jupyter.widget-view+json": {
              "model_id": "4a84b391a2ea4bb5b31d33f52ac98fb0",
              "version_minor": 0,
              "version_major": 2
            },
            "text/plain": [
              "HBox(children=(FloatProgress(value=0.0, description='Downloading', max=213450.0, style=ProgressStyle(descripti…"
            ]
          },
          "metadata": {
            "tags": []
          }
        },
        {
          "output_type": "stream",
          "text": [
            "\n"
          ],
          "name": "stdout"
        },
        {
          "output_type": "display_data",
          "data": {
            "application/vnd.jupyter.widget-view+json": {
              "model_id": "ceb7594227b7414881b98bf7ed4ff325",
              "version_minor": 0,
              "version_major": 2
            },
            "text/plain": [
              "HBox(children=(FloatProgress(value=0.0, description='Downloading', max=435797.0, style=ProgressStyle(descripti…"
            ]
          },
          "metadata": {
            "tags": []
          }
        },
        {
          "output_type": "stream",
          "text": [
            "\n"
          ],
          "name": "stdout"
        },
        {
          "output_type": "display_data",
          "data": {
            "application/vnd.jupyter.widget-view+json": {
              "model_id": "380ffba81bc74b0b838dc7a257fa1ea3",
              "version_minor": 0,
              "version_major": 2
            },
            "text/plain": [
              "HBox(children=(FloatProgress(value=0.0, description='Downloading', max=29.0, style=ProgressStyle(description_w…"
            ]
          },
          "metadata": {
            "tags": []
          }
        },
        {
          "output_type": "stream",
          "text": [
            "\n"
          ],
          "name": "stdout"
        }
      ]
    },
    {
      "cell_type": "code",
      "metadata": {
        "colab": {
          "base_uri": "https://localhost:8080/"
        },
        "id": "hnaEhTwfO5R0",
        "outputId": "6f14d20b-4ddd-4d7f-ca92-433393c70ac2"
      },
      "source": [
        "tokens_pt = tokenizer(sample_message, sample_message, return_tensors=\"pt\")      # Input 2 sentences/sequences, return PyTorch Tensor\n",
        "print(sample_message)\n",
        "print(tokens_pt)\n",
        "# token_type_ids: map tokens to their belonging sentnence/sequence to understand the start and end of each sentence/sequence\n",
        "# attention_mask: \"mask\" padded values; 0 = padded = model will not attend"
      ],
      "execution_count": null,
      "outputs": [
        {
          "output_type": "stream",
          "text": [
            "Simple input to be tokenized and processed\n",
            "{'input_ids': tensor([[  101, 16896,  7758,  1106,  1129, 22559,  2200,  1105, 14659,   102,\n",
            "         16896,  7758,  1106,  1129, 22559,  2200,  1105, 14659,   102]]), 'token_type_ids': tensor([[0, 0, 0, 0, 0, 0, 0, 0, 0, 0, 1, 1, 1, 1, 1, 1, 1, 1, 1]]), 'attention_mask': tensor([[1, 1, 1, 1, 1, 1, 1, 1, 1, 1, 1, 1, 1, 1, 1, 1, 1, 1, 1]])}\n"
          ],
          "name": "stdout"
        }
      ]
    },
    {
      "cell_type": "code",
      "metadata": {
        "colab": {
          "base_uri": "https://localhost:8080/"
        },
        "id": "gezLzvqVPKvO",
        "outputId": "b9bc069e-70b6-4c70-ff22-b7f92dea1193"
      },
      "source": [
        "outputs = model(**tokens_pt)    \n",
        "last_hidden_state = outputs.last_hidden_state       # best with Named Entity Recognition / Question-Answering.\n",
        "pooler_output = outputs.pooler_output               # best with Sentiment-Analysis / Information Retrieval (doesnt require token level info).\n",
        "print(last_hidden_state.shape)  # generated representation for each token in input (1, NB_TOKENS, REPRESENTATION_SIZE)\n",
        "print(pooler_output.shape)      # aggregated representation for the whole input (1, REPRESENTATION_SIZE)"
      ],
      "execution_count": null,
      "outputs": [
        {
          "output_type": "stream",
          "text": [
            "torch.Size([1, 19, 768])\n",
            "torch.Size([1, 768])\n"
          ],
          "name": "stdout"
        }
      ]
    },
    {
      "cell_type": "code",
      "metadata": {
        "colab": {
          "base_uri": "https://localhost:8080/"
        },
        "id": "xH0XautJRcag",
        "outputId": "4f45a5b3-9a07-4bf4-8def-a4433ba67e15"
      },
      "source": [
        "tokens = tokenizer(sample_message, sample_message)              # Input 2 sentences/sequences, return as dictionary of arrays\n",
        "print(tokens)\n",
        "print(tokenizer.convert_ids_to_tokens(tokens['input_ids']))     # tokens from index to string format"
      ],
      "execution_count": null,
      "outputs": [
        {
          "output_type": "stream",
          "text": [
            "{'input_ids': [101, 16896, 7758, 1106, 1129, 22559, 2200, 1105, 14659, 102, 16896, 7758, 1106, 1129, 22559, 2200, 1105, 14659, 102], 'token_type_ids': [0, 0, 0, 0, 0, 0, 0, 0, 0, 0, 1, 1, 1, 1, 1, 1, 1, 1, 1], 'attention_mask': [1, 1, 1, 1, 1, 1, 1, 1, 1, 1, 1, 1, 1, 1, 1, 1, 1, 1, 1]}\n",
            "['[CLS]', 'Simple', 'input', 'to', 'be', 'token', '##ized', 'and', 'processed', '[SEP]', 'Simple', 'input', 'to', 'be', 'token', '##ized', 'and', 'processed', '[SEP]']\n"
          ],
          "name": "stdout"
        }
      ]
    },
    {
      "cell_type": "code",
      "metadata": {
        "colab": {
          "base_uri": "https://localhost:8080/"
        },
        "id": "gY3dtyKP7X0z",
        "outputId": "6fb42d8c-6d44-42c8-827c-9329d530b5ae"
      },
      "source": [
        "# Padding - to match the length of words across all sentence/sequence\n",
        "tokens = tokenizer(\n",
        "    [sample_message, longer_sample_message], \n",
        "    padding=True  # First sentence will have some PADDED tokens to match second sequence length\n",
        ")\n",
        "print(sample_message)\n",
        "print(tokens[0])\n",
        "print([tokenizer.convert_ids_to_tokens(s) for s in tokens['input_ids'][0]])     # tokens from index to string format\n",
        "print()\n",
        "print(longer_sample_message)\n",
        "print(tokens[1])\n",
        "print([tokenizer.convert_ids_to_tokens(s) for s in tokens['input_ids'][1]])     # tokens from index to string format"
      ],
      "execution_count": null,
      "outputs": [
        {
          "output_type": "stream",
          "text": [
            "Simple input to be tokenized and processed\n",
            "Encoding(num_tokens=18, attributes=[ids, type_ids, tokens, offsets, attention_mask, special_tokens_mask, overflowing])\n",
            "['[CLS]', 'Simple', 'input', 'to', 'be', 'token', '##ized', 'and', 'processed', '[SEP]', '[PAD]', '[PAD]', '[PAD]', '[PAD]', '[PAD]', '[PAD]', '[PAD]', '[PAD]']\n",
            "\n",
            "Simple input to be tokenized and processed so that it can be analysed\n",
            "Encoding(num_tokens=18, attributes=[ids, type_ids, tokens, offsets, attention_mask, special_tokens_mask, overflowing])\n",
            "['[CLS]', 'Simple', 'input', 'to', 'be', 'token', '##ized', 'and', 'processed', 'so', 'that', 'it', 'can', 'be', 'anal', '##ys', '##ed', '[SEP]']\n"
          ],
          "name": "stdout"
        }
      ]
    },
    {
      "cell_type": "code",
      "metadata": {
        "id": "YbVIa30q9oqD"
      },
      "source": [
        "# # TensorFlow\n",
        "# model_tf = TFBertModel.from_pretrained('bert-base-cased')\n",
        "# input_tf = tokenizer(\"This is a sample input\", return_tensors=\"tf\")\n",
        "\n",
        "# # PyTorch\n",
        "# model_pt = BertModel.from_pretrained('bert-base-cased')\n",
        "# input_pt = tokenizer(\"This is a sample input\", return_tensors=\"pt\")\n",
        "\n",
        "\n",
        "# # Compare outputs\n",
        "# output_tf, output_pt = model_tf(input_tf), model_pt(**input_pt)\n",
        "# for name in [\"last_hidden_state\", \"pooler_output\"]:\n",
        "#     print(\"{} differences: {:.5}\".format(name, (output_tf[name].numpy() - output_pt[name].numpy()).sum()))"
      ],
      "execution_count": null,
      "outputs": []
    },
    {
      "cell_type": "code",
      "metadata": {
        "colab": {
          "base_uri": "https://localhost:8080/",
          "height": 183,
          "referenced_widgets": [
            "20e48b50edb44c57a1456d66cdc8ff48",
            "9d85c3e2fc5247818e02879aa962801b",
            "1544a20f53864bd295dea6e27f68981a",
            "0e7f30020617454c885d8a68fbc9a47e",
            "55491c6a6f994b3eb63448ee1bf70265",
            "7752308032b44ce1ae799e3649b6179a",
            "d5734c8ee9ef47b5bf30c4b009e68685",
            "9260061d23cf403990f3647747bb66c4",
            "b7556f32b0754865b03da76affa01336",
            "c55b0b6dcfd141cb855ecfaf334c85d2",
            "bbbc60ab11094bedbe36f1bddbce1f75",
            "7c815805c2d0417fa5d264ea4b8d8199",
            "b0d688c695254f0c8d19b6164cffa9d4",
            "2495ea50d3944b01bc405812f49fdd72",
            "1eb098fdcd084999abd1acf4a1f259d5",
            "d671003047ce4dedacafa6e6018361a9"
          ]
        },
        "id": "H_ZktXQAFRG4",
        "outputId": "60d9f010-8db0-4acc-ea9f-8e415faaf349"
      },
      "source": [
        "# Distilled BERT Modeling\n",
        "model_dbert = DistilBertModel.from_pretrained('distilbert-base-cased')\n",
        "model_bert = BertModel.from_pretrained('bert-base-cased')\n",
        "tokens = tokenizer(longer_sample_message, return_tensors=\"pt\")\n",
        "\n",
        "%time _ = model_dbert(tokens['input_ids'])\n",
        "%time _ = model_bert(tokens['input_ids'])\n",
        "\n",
        "# distilled BERT almost halfed the CPU time"
      ],
      "execution_count": null,
      "outputs": [
        {
          "output_type": "display_data",
          "data": {
            "application/vnd.jupyter.widget-view+json": {
              "model_id": "20e48b50edb44c57a1456d66cdc8ff48",
              "version_minor": 0,
              "version_major": 2
            },
            "text/plain": [
              "HBox(children=(FloatProgress(value=0.0, description='Downloading', max=411.0, style=ProgressStyle(description_…"
            ]
          },
          "metadata": {
            "tags": []
          }
        },
        {
          "output_type": "stream",
          "text": [
            "\n"
          ],
          "name": "stdout"
        },
        {
          "output_type": "display_data",
          "data": {
            "application/vnd.jupyter.widget-view+json": {
              "model_id": "b7556f32b0754865b03da76affa01336",
              "version_minor": 0,
              "version_major": 2
            },
            "text/plain": [
              "HBox(children=(FloatProgress(value=0.0, description='Downloading', max=263273408.0, style=ProgressStyle(descri…"
            ]
          },
          "metadata": {
            "tags": []
          }
        },
        {
          "output_type": "stream",
          "text": [
            "\n",
            "CPU times: user 55.7 ms, sys: 2.74 ms, total: 58.5 ms\n",
            "Wall time: 76.3 ms\n",
            "CPU times: user 110 ms, sys: 0 ns, total: 110 ms\n",
            "Wall time: 106 ms\n"
          ],
          "name": "stdout"
        }
      ]
    },
    {
      "cell_type": "code",
      "metadata": {
        "colab": {
          "base_uri": "https://localhost:8080/"
        },
        "id": "uao4fFLYFNji",
        "outputId": "d9a0db6f-565a-46f4-ac52-5fa99f066bba"
      },
      "source": [
        "# Example on German language with \"Community Provided Model\"\n",
        "model_bert_ger= BertModel.from_pretrained(\"dbmdz/bert-base-german-cased\")\n",
        "tokenizer_ger = BertTokenizer.from_pretrained(\"dbmdz/bert-base-german-cased\")\n",
        "\n",
        "tokens_ger = tokenizer_ger(\n",
        "    sample_msg_ger,\n",
        "    return_tensors=\"pt\"\n",
        ")\n",
        "print(sample_msg_ger)\n",
        "print(tokens_ger)\n",
        "print([tokenizer_ger.convert_ids_to_tokens(s) for s in tokens_ger['input_ids'].tolist()[0]])"
      ],
      "execution_count": null,
      "outputs": [
        {
          "output_type": "stream",
          "text": [
            "Hugging Face ist eine französische Firma mit Sitz in New-York.\n",
            "{'input_ids': tensor([[  102, 12272,  9355,  5746, 30881,   215,   261,  5945,  4118,   212,\n",
            "          2414,   153,  1942,   232,  3532,   566,   103]]), 'token_type_ids': tensor([[0, 0, 0, 0, 0, 0, 0, 0, 0, 0, 0, 0, 0, 0, 0, 0, 0]]), 'attention_mask': tensor([[1, 1, 1, 1, 1, 1, 1, 1, 1, 1, 1, 1, 1, 1, 1, 1, 1]])}\n",
            "['[CLS]', 'Hug', '##ging', 'Fac', '##e', 'ist', 'eine', 'französische', 'Firma', 'mit', 'Sitz', 'in', 'New', '-', 'York', '.', '[SEP]']\n"
          ],
          "name": "stdout"
        }
      ]
    },
    {
      "cell_type": "markdown",
      "metadata": {
        "id": "4PmrhBdsKRmr"
      },
      "source": [
        "# Pipelines"
      ]
    },
    {
      "cell_type": "markdown",
      "metadata": {
        "id": "zaL05LVWLRXV"
      },
      "source": [
        "Source: [link](https://huggingface.co/transformers/main_classes/pipelines.html?highlight=pipeline#the-pipeline-abstraction)<br><br>\n",
        "Downstream-tasks, including: \n",
        "\n",
        "- ***Sentiment Analysis***\n",
        "- ***Named Entity Recognition***\n",
        "- ***Question-Answering***\n",
        "- ***Mask-Filling***\n",
        "- ***Summarization***\n",
        "- ***Translation***\n",
        "- ***Feature Extraction***\n",
        "\n",
        "Pipelines encapsulate tokenization, inference & decoding.\n",
        "\n",
        "API structure:\n",
        "\n",
        "```python\n",
        "from transformers import pipeline\n",
        "\n",
        "# Using default model and tokenizer for the task\n",
        "pipeline(\"<task-name>\")\n",
        "\n",
        "# Using a user-specified model\n",
        "pipeline(\"<task-name>\", model=\"<model_name>\")\n",
        "\n",
        "# Using custom model/tokenizer as str\n",
        "pipeline('<task-name>', model='<model name>', tokenizer='<tokenizer_name>')\n",
        "```"
      ]
    },
    {
      "cell_type": "markdown",
      "metadata": {
        "id": "2tIa5tpIMgR4"
      },
      "source": [
        "## Sentimental Analysis"
      ]
    },
    {
      "cell_type": "code",
      "metadata": {
        "colab": {
          "base_uri": "https://localhost:8080/"
        },
        "id": "23mMaUAHI3v9",
        "outputId": "8b4640fe-a4d1-431d-b533-88c7fe94c333"
      },
      "source": [
        "model = pipeline('sentiment-analysis')\n",
        "print(model(r\"I don't hate speaking with him\"))\n",
        "print(model(r\"His attitude is horrible\"))"
      ],
      "execution_count": null,
      "outputs": [
        {
          "output_type": "stream",
          "text": [
            "[{'label': 'POSITIVE', 'score': 0.9988293051719666}]\n",
            "[{'label': 'NEGATIVE', 'score': 0.9996873736381531}]\n"
          ],
          "name": "stdout"
        }
      ]
    },
    {
      "cell_type": "markdown",
      "metadata": {
        "id": "y57aFc3wOlv6"
      },
      "source": [
        "## Named Entity Recognition"
      ]
    },
    {
      "cell_type": "code",
      "metadata": {
        "colab": {
          "base_uri": "https://localhost:8080/"
        },
        "id": "Uy-bo3Fbael4",
        "outputId": "da895dcf-e20c-4546-d54b-5a1646139883"
      },
      "source": [
        "model = pipeline('ner')\n",
        "print(sample_self_intro)\n",
        "model(sample_self_intro)"
      ],
      "execution_count": null,
      "outputs": [
        {
          "output_type": "stream",
          "text": [
            "My Name is Alvin. I work at Naluri in Malaysia and I love sashimi\n"
          ],
          "name": "stdout"
        },
        {
          "output_type": "execute_result",
          "data": {
            "text/plain": [
              "[{'end': 16,\n",
              "  'entity': 'I-PER',\n",
              "  'index': 4,\n",
              "  'score': 0.9981746673583984,\n",
              "  'start': 11,\n",
              "  'word': 'Alvin'},\n",
              " {'end': 30,\n",
              "  'entity': 'I-ORG',\n",
              "  'index': 9,\n",
              "  'score': 0.9940113425254822,\n",
              "  'start': 28,\n",
              "  'word': 'Na'},\n",
              " {'end': 32,\n",
              "  'entity': 'I-ORG',\n",
              "  'index': 10,\n",
              "  'score': 0.9317202568054199,\n",
              "  'start': 30,\n",
              "  'word': '##lu'},\n",
              " {'end': 34,\n",
              "  'entity': 'I-ORG',\n",
              "  'index': 11,\n",
              "  'score': 0.9865034818649292,\n",
              "  'start': 32,\n",
              "  'word': '##ri'},\n",
              " {'end': 46,\n",
              "  'entity': 'I-LOC',\n",
              "  'index': 13,\n",
              "  'score': 0.9998395442962646,\n",
              "  'start': 38,\n",
              "  'word': 'Malaysia'},\n",
              " {'end': 63,\n",
              "  'entity': 'I-MISC',\n",
              "  'index': 18,\n",
              "  'score': 0.7182899117469788,\n",
              "  'start': 60,\n",
              "  'word': '##shi'}]"
            ]
          },
          "metadata": {
            "tags": []
          },
          "execution_count": 26
        }
      ]
    },
    {
      "cell_type": "markdown",
      "metadata": {
        "id": "ht_pp1GCPQM-"
      },
      "source": [
        "## Question Answering"
      ]
    },
    {
      "cell_type": "code",
      "metadata": {
        "colab": {
          "base_uri": "https://localhost:8080/"
        },
        "id": "77vNwSrcOxhC",
        "outputId": "c01e9295-737f-4ad0-e19c-684a647816ba"
      },
      "source": [
        "model = pipeline('question-answering')\n",
        "print(sample_self_intro)\n",
        "model(context=sample_self_intro, question='Where Alvin works ?')"
      ],
      "execution_count": null,
      "outputs": [
        {
          "output_type": "stream",
          "text": [
            "My Name is Alvin. I work at Naluri in Malaysia and I love sashimi\n"
          ],
          "name": "stdout"
        },
        {
          "output_type": "execute_result",
          "data": {
            "text/plain": [
              "{'answer': 'Naluri', 'end': 34, 'score': 0.527121365070343, 'start': 28}"
            ]
          },
          "metadata": {
            "tags": []
          },
          "execution_count": 28
        }
      ]
    },
    {
      "cell_type": "markdown",
      "metadata": {
        "id": "QMTFWRQpPvEH"
      },
      "source": [
        "## Mask Filling"
      ]
    },
    {
      "cell_type": "code",
      "metadata": {
        "colab": {
          "base_uri": "https://localhost:8080/"
        },
        "id": "dIc8M_ovPk6z",
        "outputId": "43b54707-2b34-4791-82c3-afe3dd81e09d"
      },
      "source": [
        "model = pipeline('fill-mask')\n",
        "model('Alvin is feeling ' + model.tokenizer.mask_token + ' this morning')"
      ],
      "execution_count": null,
      "outputs": [
        {
          "output_type": "execute_result",
          "data": {
            "text/plain": [
              "[{'score': 0.1295562982559204,\n",
              "  'sequence': 'Alvin is feeling better this morning',\n",
              "  'token': 357,\n",
              "  'token_str': ' better'},\n",
              " {'score': 0.06868993490934372,\n",
              "  'sequence': 'Alvin is feeling great this morning',\n",
              "  'token': 372,\n",
              "  'token_str': ' great'},\n",
              " {'score': 0.05671766772866249,\n",
              "  'sequence': 'Alvin is feeling fine this morning',\n",
              "  'token': 2051,\n",
              "  'token_str': ' fine'},\n",
              " {'score': 0.053356777876615524,\n",
              "  'sequence': 'Alvin is feeling good this morning',\n",
              "  'token': 205,\n",
              "  'token_str': ' good'},\n",
              " {'score': 0.03130243346095085,\n",
              "  'sequence': 'Alvin is feeling OK this morning',\n",
              "  'token': 4954,\n",
              "  'token_str': ' OK'}]"
            ]
          },
          "metadata": {
            "tags": []
          },
          "execution_count": 54
        }
      ]
    },
    {
      "cell_type": "markdown",
      "metadata": {
        "id": "p0VoRphzQo9X"
      },
      "source": [
        "## Summarization"
      ]
    },
    {
      "cell_type": "code",
      "metadata": {
        "colab": {
          "base_uri": "https://localhost:8080/"
        },
        "id": "-9kD5U6fRZji",
        "outputId": "ebcf39bb-fb4b-414f-a461-93a26d5c8f20"
      },
      "source": [
        "sample_biography = r\"Sherlock Holmes is a fictional detective of the late 19th and early 20th centuries, who first appeared in publication in 1887. He was devised by British author and physician Sir Arthur Conan Doyle. A brilliant London-based detective, Holmes is famous for his prowess at using logic and astute observation to solve cases. He is perhaps the most famous fictional detective, and indeed one of the best known and most universally recognizable literary characters. Sir Arthur Conan Doyle wrote four novels and fifty-six short-stories featuring his creation. Almost all were narrated by Holmes' friend and biographer, Dr John H. Watson, with the exception of two narrated by Holmes himself and two more written in the third person. The stories first appeared in magazine serialization, notably in The Strand Magazine, over a period of forty years. This was a common form of publication at the time: Charles Dickens' works were issued in a similar fashion. The stories cover a period from around 1878 up to 1903, with a final case in 1914. They are read as much for their characterization and the stylised late-Victorian era in which they take place as for the mysteries themselves. More actors have portrayed Sherlock Holmes than any other character, and by 1964, according to a report in The Times, the worldwide sales of the stories were running second only to the Bible\"\n",
        "model = pipeline('summarization')\n",
        "model(sample_biography, min_length=5, max_length=30)"
      ],
      "execution_count": null,
      "outputs": [
        {
          "output_type": "execute_result",
          "data": {
            "text/plain": [
              "[{'summary_text': ' Sherlock Holmes is a fictional detective of the late 19th and early 20th centuries . He was devised by British author Sir Arthur Conan Doyle'}]"
            ]
          },
          "metadata": {
            "tags": []
          },
          "execution_count": 60
        }
      ]
    },
    {
      "cell_type": "markdown",
      "metadata": {
        "id": "zuGsazr6SR6n"
      },
      "source": [
        "## Translation\n",
        "Packages: https://huggingface.co/models?pipeline_tag=translation <br>\n",
        "More about Helsinki-NLP Packages : https://github.com/Helsinki-NLP/Opus-MT"
      ]
    },
    {
      "cell_type": "markdown",
      "metadata": {
        "id": "86M16xlimbHO"
      },
      "source": [
        "### Eng to Ger"
      ]
    },
    {
      "cell_type": "code",
      "metadata": {
        "id": "oNYVhr_iSLFA",
        "colab": {
          "base_uri": "https://localhost:8080/"
        },
        "outputId": "2265279f-b4c7-4080-a22c-b769ee0e21fa"
      },
      "source": [
        "# English to German (via pipeline)\n",
        "model = pipeline('translation_en_to_de')\n",
        "print(sample_self_intro)\n",
        "model(sample_self_intro)"
      ],
      "execution_count": null,
      "outputs": [
        {
          "output_type": "stream",
          "text": [
            "My Name is Alvin. I work at Naluri in Malaysia and I love sashimi\n"
          ],
          "name": "stdout"
        },
        {
          "output_type": "execute_result",
          "data": {
            "text/plain": [
              "[{'translation_text': 'Mein Name ist Alvin, ich arbeite bei Naluri in Malaysia und liebe Sashimi.'}]"
            ]
          },
          "metadata": {
            "tags": []
          },
          "execution_count": 30
        }
      ]
    },
    {
      "cell_type": "markdown",
      "metadata": {
        "id": "wSVjL83jmmRl"
      },
      "source": [
        "### Eng to Chi"
      ]
    },
    {
      "cell_type": "code",
      "metadata": {
        "id": "STZQ47HbmlmU"
      },
      "source": [
        "# English to Chinese \n",
        "from transformers import AutoTokenizer, AutoModelForSeq2SeqLM\n",
        "from transformers import MarianTokenizer, MarianMTModel\n",
        "\n",
        "src_lang = 'en'     # English\n",
        "tgt_lang = 'zh'     # Chinese\n",
        "\n",
        "pretrained_model = f'Helsinki-NLP/opus-mt-{src_lang}-{tgt_lang}'"
      ],
      "execution_count": null,
      "outputs": []
    },
    {
      "cell_type": "markdown",
      "metadata": {
        "id": "iWWxczXmmr_U"
      },
      "source": [
        "**When default model pipeline is not available**"
      ]
    },
    {
      "cell_type": "code",
      "metadata": {
        "colab": {
          "base_uri": "https://localhost:8080/"
        },
        "id": "34_fIppslVOv",
        "outputId": "210d8cdf-03d7-4e3b-ef62-d812baf70cb6"
      },
      "source": [
        "model = pipeline(\"translation_en_to_zh\", model=pretrained_model)\n",
        "model(sample_self_intro)"
      ],
      "execution_count": null,
      "outputs": [
        {
          "output_type": "execute_result",
          "data": {
            "text/plain": [
              "[{'translation_text': '我叫阿尔文,我在马来西亚的纳鲁里工作,我喜欢生鱼鱼'}]"
            ]
          },
          "metadata": {
            "tags": []
          },
          "execution_count": 32
        }
      ]
    },
    {
      "cell_type": "markdown",
      "metadata": {
        "id": "_3Zjf3AImwOT"
      },
      "source": [
        "**Manual way when pipeline is not available**"
      ]
    },
    {
      "cell_type": "code",
      "metadata": {
        "colab": {
          "base_uri": "https://localhost:8080/"
        },
        "id": "TUtP4RcDikQD",
        "outputId": "31a486ff-b100-4781-c0e6-9901db7974ff"
      },
      "source": [
        "tokenizer = AutoTokenizer.from_pretrained(pretrained_model)\n",
        "model = AutoModelForSeq2SeqLM.from_pretrained(pretrained_model)\n",
        "type(tokenizer)"
      ],
      "execution_count": null,
      "outputs": [
        {
          "output_type": "execute_result",
          "data": {
            "text/plain": [
              "transformers.models.marian.tokenization_marian.MarianTokenizer"
            ]
          },
          "metadata": {
            "tags": []
          },
          "execution_count": 21
        }
      ]
    },
    {
      "cell_type": "code",
      "metadata": {
        "colab": {
          "base_uri": "https://localhost:8080/",
          "height": 35
        },
        "id": "MK3EXq8KkmgC",
        "outputId": "b3fbb77b-62f0-4ad9-9d68-84b9a5e67531"
      },
      "source": [
        "tokens = tokenizer([sample_self_intro], return_tensors='pt')\n",
        "translation = model.generate(**tokens)\n",
        "translated_text = tokenizer.batch_decode(translation, skip_special_tokens=True)[0]\n",
        "translated_text"
      ],
      "execution_count": null,
      "outputs": [
        {
          "output_type": "execute_result",
          "data": {
            "application/vnd.google.colaboratory.intrinsic+json": {
              "type": "string"
            },
            "text/plain": [
              "'我叫阿尔文,我在马来西亚的纳鲁里工作,我喜欢生鱼鱼'"
            ]
          },
          "metadata": {
            "tags": []
          },
          "execution_count": 24
        }
      ]
    },
    {
      "cell_type": "markdown",
      "metadata": {
        "id": "mQNccpsitffc"
      },
      "source": [
        "## Text Generation"
      ]
    },
    {
      "cell_type": "code",
      "metadata": {
        "colab": {
          "base_uri": "https://localhost:8080/"
        },
        "id": "B5Wum2wTmkUV",
        "outputId": "f2d78578-e65b-4928-ec05-e3d66e7e720c"
      },
      "source": [
        "model = pipeline(\"text-generation\")\n",
        "model(sample_self_intro)"
      ],
      "execution_count": null,
      "outputs": [
        {
          "output_type": "stream",
          "text": [
            "Setting `pad_token_id` to `eos_token_id`:50256 for open-end generation.\n"
          ],
          "name": "stderr"
        },
        {
          "output_type": "execute_result",
          "data": {
            "text/plain": [
              "[{'generated_text': 'My Name is Alvin. I work at Naluri in Malaysia and I love sashimi.\"\\n\\nIn January his father, the late actor Ananth Kumar Jhayar, visited his home in New Delhi and asked Ananth to show'}]"
            ]
          },
          "metadata": {
            "tags": []
          },
          "execution_count": 34
        }
      ]
    },
    {
      "cell_type": "markdown",
      "metadata": {
        "id": "37X2TWNHu6Dr"
      },
      "source": [
        "## Feature Extraction"
      ]
    },
    {
      "cell_type": "code",
      "metadata": {
        "colab": {
          "base_uri": "https://localhost:8080/"
        },
        "id": "PJ71_xTzvz4t",
        "outputId": "be96060f-06c7-422f-cfbe-41a97409ccd0"
      },
      "source": [
        "model = pipeline('feature-extraction')\n",
        "output = model([sample_self_intro, sample_message])\n",
        "np.array(output).shape   # (Samples, Tokens, Vector Size)"
      ],
      "execution_count": null,
      "outputs": [
        {
          "output_type": "execute_result",
          "data": {
            "text/plain": [
              "(2, 21, 768)"
            ]
          },
          "metadata": {
            "tags": []
          },
          "execution_count": 41
        }
      ]
    },
    {
      "cell_type": "markdown",
      "metadata": {
        "id": "1dd3_kjdxUlQ"
      },
      "source": [
        "## Zero Shot Classification\n",
        "Gentle Intro : [link](https://huggingface.co/facebook/bart-large-mnli) <br>\n",
        "More about Zero-Shot Learning : [link](https://en.wikipedia.org/wiki/Zero-shot_learning)"
      ]
    },
    {
      "cell_type": "code",
      "metadata": {
        "colab": {
          "base_uri": "https://localhost:8080/"
        },
        "id": "Ozsp9GhwC6jB",
        "outputId": "725e116d-9ef3-4f52-db45-7c1a7282b952"
      },
      "source": [
        "model = pipeline(\"zero-shot-classification\")\n",
        "paragraph = 'A new model offers an explanation for how the Galilean satellites formed around the solar system’s largest world. Konstantin Batygin did not set out to solve one of the solar system’s most puzzling mysteries when he went for a run up a hill in Nice, France. Dr. Batygin, a Caltech researcher, best known for his contributions to the search for the solar system’s missing “Planet Nine,” spotted a beer bottle. At a steep, 20 degree grade, he wondered why it wasn’t rolling down the hill. He realized there was a breeze at his back holding the bottle in place. Then he had a thought that would only pop into the mind of a theoretical astrophysicist: “Oh! This is how Europa formed.” Europa is one of Jupiter’s four large Galilean moons. And in a paper published Monday in the Astrophysical Journal, Dr. Batygin and a co-author, Alessandro Morbidelli, a planetary scientist at the Côte d’Azur Observatory in France, present a theory explaining how some moons form around gas giants like Jupiter and Saturn, suggesting that millimeter-sized grains of hail produced during the solar system’s formation became trapped around these massive worlds, taking shape one at a time into the potentially habitable moons we know today.'\n",
        "label_candidates = ['space & cosmos', 'scientific discovery', 'microbiology', 'robots', 'archeology']\n",
        "model(paragraph, label_candidates, multi_label=False)"
      ],
      "execution_count": null,
      "outputs": [
        {
          "output_type": "execute_result",
          "data": {
            "text/plain": [
              "{'labels': ['scientific discovery',\n",
              "  'space & cosmos',\n",
              "  'archeology',\n",
              "  'microbiology',\n",
              "  'robots'],\n",
              " 'scores': [0.6726154685020447,\n",
              "  0.2543172240257263,\n",
              "  0.028822265565395355,\n",
              "  0.02705550193786621,\n",
              "  0.017189569771289825],\n",
              " 'sequence': 'A new model offers an explanation for how the Galilean satellites formed around the solar system’s largest world. Konstantin Batygin did not set out to solve one of the solar system’s most puzzling mysteries when he went for a run up a hill in Nice, France. Dr. Batygin, a Caltech researcher, best known for his contributions to the search for the solar system’s missing “Planet Nine,” spotted a beer bottle. At a steep, 20 degree grade, he wondered why it wasn’t rolling down the hill. He realized there was a breeze at his back holding the bottle in place. Then he had a thought that would only pop into the mind of a theoretical astrophysicist: “Oh! This is how Europa formed.” Europa is one of Jupiter’s four large Galilean moons. And in a paper published Monday in the Astrophysical Journal, Dr. Batygin and a co-author, Alessandro Morbidelli, a planetary scientist at the Côte d’Azur Observatory in France, present a theory explaining how some moons form around gas giants like Jupiter and Saturn, suggesting that millimeter-sized grains of hail produced during the solar system’s formation became trapped around these massive worlds, taking shape one at a time into the potentially habitable moons we know today.'}"
            ]
          },
          "metadata": {
            "tags": []
          },
          "execution_count": 71
        }
      ]
    },
    {
      "cell_type": "markdown",
      "metadata": {
        "id": "-5DfXrC51972"
      },
      "source": [
        "## Conversational\n",
        "More details : [link](https://medium.com/huggingface/how-to-build-a-state-of-the-art-conversational-ai-with-transfer-learning-2d818ac26313)"
      ]
    },
    {
      "cell_type": "code",
      "metadata": {
        "id": "me3RVYKh3HrG"
      },
      "source": [
        "from transformers import Conversation\n",
        "model = pipeline(\"conversational\")"
      ],
      "execution_count": null,
      "outputs": []
    },
    {
      "cell_type": "code",
      "metadata": {
        "colab": {
          "base_uri": "https://localhost:8080/"
        },
        "id": "qYaunJlC35zy",
        "outputId": "bd5249d2-3051-46c8-d777-08d2e1e83577"
      },
      "source": [
        "# Initiate a conversation\n",
        "conversation = Conversation(\"Tell me a joke.\")\n",
        "model([conversation])"
      ],
      "execution_count": null,
      "outputs": [
        {
          "output_type": "stream",
          "text": [
            "Setting `pad_token_id` to `eos_token_id`:50256 for open-end generation.\n"
          ],
          "name": "stderr"
        },
        {
          "output_type": "execute_result",
          "data": {
            "text/plain": [
              "Conversation id: 687c2efc-faf0-480e-9262-d04bad416403 \n",
              "user >> Tell me a joke. \n",
              "bot >> What's the heaviest soup in Asia? One ton. "
            ]
          },
          "metadata": {
            "tags": []
          },
          "execution_count": 53
        }
      ]
    },
    {
      "cell_type": "code",
      "metadata": {
        "colab": {
          "base_uri": "https://localhost:8080/"
        },
        "id": "2o6076N44Qgr",
        "outputId": "dc559be3-7e08-4aea-938f-8b86afb93dd8"
      },
      "source": [
        "# Initiate another conversation\n",
        "conversation_2 = Conversation(\"What is your name?\")\n",
        "model([conversation_2])"
      ],
      "execution_count": null,
      "outputs": [
        {
          "output_type": "stream",
          "text": [
            "Setting `pad_token_id` to `eos_token_id`:50256 for open-end generation.\n"
          ],
          "name": "stderr"
        },
        {
          "output_type": "execute_result",
          "data": {
            "text/plain": [
              "Conversation id: 8de1efc5-d273-44fe-8c0d-86a14ab2c5c4 \n",
              "user >> What is your name? \n",
              "bot >> I'm not sure, but I think it's a reference to the movie The Big Lebowski. "
            ]
          },
          "metadata": {
            "tags": []
          },
          "execution_count": 66
        }
      ]
    },
    {
      "cell_type": "code",
      "metadata": {
        "colab": {
          "base_uri": "https://localhost:8080/"
        },
        "id": "Ad_TX2NA4e4S",
        "outputId": "5eaba165-1c68-437b-b726-c2490e4d55dc"
      },
      "source": [
        "# Apppend new dialog\n",
        "conversation_2.add_user_input(\"How are you doing today?\")\n",
        "model([conversation_2])"
      ],
      "execution_count": null,
      "outputs": [
        {
          "output_type": "stream",
          "text": [
            "Setting `pad_token_id` to `eos_token_id`:50256 for open-end generation.\n"
          ],
          "name": "stderr"
        },
        {
          "output_type": "execute_result",
          "data": {
            "text/plain": [
              "Conversation id: 8de1efc5-d273-44fe-8c0d-86a14ab2c5c4 \n",
              "user >> What is your name? \n",
              "bot >> I'm not sure, but I think it's a reference to the movie The Big Lebowski. \n",
              "user >> How are you doing today? \n",
              "bot >> I'm doing well, how are you? "
            ]
          },
          "metadata": {
            "tags": []
          },
          "execution_count": 67
        }
      ]
    },
    {
      "cell_type": "code",
      "metadata": {
        "colab": {
          "base_uri": "https://localhost:8080/"
        },
        "id": "0vh-Rjqa5l5Y",
        "outputId": "9eb538c4-9601-420a-a8fd-9394a1c02db0"
      },
      "source": [
        "# Overwrite bot's answer\n",
        "conversation_2.add_user_input(\"Where do you live?\")\n",
        "conversation_2.append_response('I  live in Malaysia')  # to overwrite bot's answer\n",
        "model([conversation_2]) "
      ],
      "execution_count": null,
      "outputs": [
        {
          "output_type": "stream",
          "text": [
            "Setting `pad_token_id` to `eos_token_id`:50256 for open-end generation.\n"
          ],
          "name": "stderr"
        },
        {
          "output_type": "execute_result",
          "data": {
            "text/plain": [
              "Conversation id: 8de1efc5-d273-44fe-8c0d-86a14ab2c5c4 \n",
              "user >> What is your name? \n",
              "bot >> I'm not sure, but I think it's a reference to the movie The Big Lebowski. \n",
              "user >> How are you doing today? \n",
              "bot >> I'm doing well, how are you? \n",
              "user >> Where do you live? \n",
              "bot >> I  live in Malaysia "
            ]
          },
          "metadata": {
            "tags": []
          },
          "execution_count": 68
        }
      ]
    },
    {
      "cell_type": "markdown",
      "metadata": {
        "id": "sjGEU_uPzXJW"
      },
      "source": [
        "## Text2Text Generator"
      ]
    },
    {
      "cell_type": "code",
      "metadata": {
        "colab": {
          "base_uri": "https://localhost:8080/"
        },
        "id": "97PCrdUExX38",
        "outputId": "64c7689f-1c53-4c0d-e481-7e2cabbee662"
      },
      "source": [
        "text2text_generator = pipeline(\"text2text-generation\")\n",
        "text2text_generator(\"question: What is 42 ? context: 42 is the answer to life, the universe and everything\")"
      ],
      "execution_count": null,
      "outputs": [
        {
          "output_type": "execute_result",
          "data": {
            "text/plain": [
              "[{'generated_text': 'the answer to life, the universe and everything'}]"
            ]
          },
          "metadata": {
            "tags": []
          },
          "execution_count": 42
        }
      ]
    }
  ]
}