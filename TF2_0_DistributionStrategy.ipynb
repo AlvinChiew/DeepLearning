{
  "nbformat": 4,
  "nbformat_minor": 0,
  "metadata": {
    "colab": {
      "name": "TF2.0_DistributionStrategy.ipynb",
      "provenance": [],
      "collapsed_sections": [],
      "authorship_tag": "ABX9TyNXfyiSFjvI/Ut2rTemMBe9"
    },
    "kernelspec": {
      "name": "python3",
      "display_name": "Python 3"
    },
    "language_info": {
      "name": "python"
    },
    "accelerator": "GPU"
  },
  "cells": [
    {
      "cell_type": "code",
      "metadata": {
        "id": "BoxaKaYNARJd"
      },
      "source": [
        "import numpy as np\n",
        "import matplotlib.pyplot as plt\n",
        "from tensorflow.keras.layers import Input, Conv2D, Dense, Flatten, Dropout, GlobalMaxPooling2D, MaxPooling2D, BatchNormalization\n",
        "from tensorflow.keras.models import Model\n",
        "from tensorflow.keras.datasets import cifar10\n",
        "from tensorflow import distribute"
      ],
      "execution_count": 7,
      "outputs": []
    },
    {
      "cell_type": "code",
      "metadata": {
        "colab": {
          "base_uri": "https://localhost:8080/"
        },
        "id": "euNilBbfAfJM",
        "outputId": "8e93fc9a-b5b1-4b54-8a14-8e9573eaee70"
      },
      "source": [
        "(X_train, y_train), (X_test, y_test) = cifar10.load_data()\n",
        "X_train, X_test = X_train / 255.0, X_test / 255.0\n",
        "y_train, y_test = y_train.flatten(), y_test.flatten()\n",
        "\n",
        "K = len(set(y_train))\n",
        "\n",
        "print(\"X_train.shape:\", X_train.shape)\n",
        "print(\"y_train.shape\", y_train.shape)"
      ],
      "execution_count": 3,
      "outputs": [
        {
          "output_type": "stream",
          "text": [
            "Downloading data from https://www.cs.toronto.edu/~kriz/cifar-10-python.tar.gz\n",
            "170500096/170498071 [==============================] - 4s 0us/step\n",
            "X_train.shape: (50000, 32, 32, 3)\n",
            "y_train.shape (50000,)\n"
          ],
          "name": "stdout"
        }
      ]
    },
    {
      "cell_type": "code",
      "metadata": {
        "id": "ZVsAELtGAtcJ"
      },
      "source": [
        "# Build the model using the functional API\n",
        "def create_model():\n",
        "  i = Input(shape=X_train[0].shape)\n",
        "\n",
        "  x = Conv2D(32, (3, 3), activation='relu', padding='same')(i)\n",
        "  x = BatchNormalization()(x)\n",
        "  x = Conv2D(32, (3, 3), activation='relu', padding='same')(x)\n",
        "  x = BatchNormalization()(x)\n",
        "  x = MaxPooling2D((2, 2))(x)\n",
        "  x = Conv2D(64, (3, 3), activation='relu', padding='same')(x)\n",
        "  x = BatchNormalization()(x)\n",
        "  x = Conv2D(64, (3, 3), activation='relu', padding='same')(x)\n",
        "  x = BatchNormalization()(x)\n",
        "  x = MaxPooling2D((2, 2))(x)\n",
        "  x = Conv2D(128, (3, 3), activation='relu', padding='same')(x)\n",
        "  x = BatchNormalization()(x)\n",
        "  x = Conv2D(128, (3, 3), activation='relu', padding='same')(x)\n",
        "  x = BatchNormalization()(x)\n",
        "  x = MaxPooling2D((2, 2))(x)\n",
        "\n",
        "  x = Flatten()(x)\n",
        "  x = Dropout(0.2)(x)\n",
        "  x = Dense(1024, activation='relu')(x)\n",
        "  x = Dropout(0.2)(x)\n",
        "  x = Dense(K, activation='softmax')(x)\n",
        "\n",
        "  model = Model(i, x)\n",
        "  return model"
      ],
      "execution_count": 12,
      "outputs": []
    },
    {
      "cell_type": "code",
      "metadata": {
        "colab": {
          "base_uri": "https://localhost:8080/"
        },
        "id": "jxe-2tnAAy2g",
        "outputId": "2384e80c-fd65-4403-cef5-fec2847fffd2"
      },
      "source": [
        "strategy = distribute.MirroredStrategy()\n",
        "# strategy = distribute.experimental.CentralStorageStrategy()\n",
        "print(f'Number of devices: {strategy.num_replicas_in_sync}')\n",
        "\n",
        "# Only 1 GPU for this instance"
      ],
      "execution_count": 10,
      "outputs": [
        {
          "output_type": "stream",
          "text": [
            "WARNING:tensorflow:Collective ops is not configured at program startup. Some performance features may not be enabled.\n",
            "INFO:tensorflow:Using MirroredStrategy with devices ('/job:localhost/replica:0/task:0/device:GPU:0',)\n",
            "Number of devices: 1\n"
          ],
          "name": "stdout"
        }
      ]
    },
    {
      "cell_type": "code",
      "metadata": {
        "colab": {
          "base_uri": "https://localhost:8080/"
        },
        "id": "ptqIZHkeA4kw",
        "outputId": "7ab8ab10-53e2-46a0-def7-5c39f0b0b95b"
      },
      "source": [
        "with strategy.scope():\n",
        "  model = create_model()\n",
        "\n",
        "  model.compile(loss='sparse_categorical_crossentropy',\n",
        "                optimizer='adam',\n",
        "                metrics=['accuracy'])"
      ],
      "execution_count": 13,
      "outputs": [
        {
          "output_type": "stream",
          "text": [
            "INFO:tensorflow:Reduce to /job:localhost/replica:0/task:0/device:CPU:0 then broadcast to ('/job:localhost/replica:0/task:0/device:CPU:0',).\n",
            "INFO:tensorflow:Reduce to /job:localhost/replica:0/task:0/device:CPU:0 then broadcast to ('/job:localhost/replica:0/task:0/device:CPU:0',).\n",
            "INFO:tensorflow:Reduce to /job:localhost/replica:0/task:0/device:CPU:0 then broadcast to ('/job:localhost/replica:0/task:0/device:CPU:0',).\n",
            "INFO:tensorflow:Reduce to /job:localhost/replica:0/task:0/device:CPU:0 then broadcast to ('/job:localhost/replica:0/task:0/device:CPU:0',).\n",
            "INFO:tensorflow:Reduce to /job:localhost/replica:0/task:0/device:CPU:0 then broadcast to ('/job:localhost/replica:0/task:0/device:CPU:0',).\n",
            "INFO:tensorflow:Reduce to /job:localhost/replica:0/task:0/device:CPU:0 then broadcast to ('/job:localhost/replica:0/task:0/device:CPU:0',).\n",
            "INFO:tensorflow:Reduce to /job:localhost/replica:0/task:0/device:CPU:0 then broadcast to ('/job:localhost/replica:0/task:0/device:CPU:0',).\n",
            "INFO:tensorflow:Reduce to /job:localhost/replica:0/task:0/device:CPU:0 then broadcast to ('/job:localhost/replica:0/task:0/device:CPU:0',).\n",
            "INFO:tensorflow:Reduce to /job:localhost/replica:0/task:0/device:CPU:0 then broadcast to ('/job:localhost/replica:0/task:0/device:CPU:0',).\n",
            "INFO:tensorflow:Reduce to /job:localhost/replica:0/task:0/device:CPU:0 then broadcast to ('/job:localhost/replica:0/task:0/device:CPU:0',).\n"
          ],
          "name": "stdout"
        }
      ]
    },
    {
      "cell_type": "code",
      "metadata": {
        "colab": {
          "base_uri": "https://localhost:8080/"
        },
        "id": "mMyXPeT5BZWQ",
        "outputId": "eeed2768-a9f3-4ab8-8c3a-fc022bff7253"
      },
      "source": [
        "r = model.fit(X_train, y_train, validation_data=(X_test, y_test), batch_size=128, epochs=5)\n",
        "# training process can be speed up with higher batch_size, more GPU or machine instances"
      ],
      "execution_count": 14,
      "outputs": [
        {
          "output_type": "stream",
          "text": [
            "Epoch 1/5\n",
            "391/391 [==============================] - 43s 22ms/step - loss: 1.4775 - accuracy: 0.5112 - val_loss: 3.1886 - val_accuracy: 0.1792\n",
            "Epoch 2/5\n",
            "391/391 [==============================] - 7s 18ms/step - loss: 0.8882 - accuracy: 0.6852 - val_loss: 0.8917 - val_accuracy: 0.6858\n",
            "Epoch 3/5\n",
            "391/391 [==============================] - 7s 18ms/step - loss: 0.6891 - accuracy: 0.7568 - val_loss: 0.7681 - val_accuracy: 0.7346\n",
            "Epoch 4/5\n",
            "391/391 [==============================] - 7s 18ms/step - loss: 0.5696 - accuracy: 0.8008 - val_loss: 0.8562 - val_accuracy: 0.7216\n",
            "Epoch 5/5\n",
            "391/391 [==============================] - 7s 18ms/step - loss: 0.4746 - accuracy: 0.8320 - val_loss: 0.7745 - val_accuracy: 0.7445\n"
          ],
          "name": "stdout"
        }
      ]
    }
  ]
}