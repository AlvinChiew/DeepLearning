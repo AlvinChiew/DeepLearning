{
  "nbformat": 4,
  "nbformat_minor": 0,
  "metadata": {
    "colab": {
      "name": "TF2.0_RNN_LSTM_ImageClassification.ipynb",
      "provenance": [],
      "collapsed_sections": [],
      "toc_visible": true,
      "authorship_tag": "ABX9TyN6WsGMePba1Xo3T7RFQ13l"
    },
    "kernelspec": {
      "name": "python3",
      "display_name": "Python 3"
    },
    "language_info": {
      "name": "python"
    },
    "accelerator": "GPU"
  },
  "cells": [
    {
      "cell_type": "markdown",
      "metadata": {
        "id": "gcAg5i-NPmWO"
      },
      "source": [
        "# Import Modules"
      ]
    },
    {
      "cell_type": "code",
      "metadata": {
        "id": "Gryww51MPas8"
      },
      "source": [
        "import itertools\n",
        "import numpy as np\n",
        "import pandas as pd\n",
        "import matplotlib.pyplot as plt\n",
        "\n",
        "from tensorflow.keras.layers import Input, SimpleRNN, GRU, LSTM, Dense, Flatten\n",
        "from tensorflow.keras.models import Model\n",
        "from tensorflow.keras.optimizers import SGD, Adam\n",
        "from tensorflow.keras.callbacks import EarlyStopping\n",
        "from tensorflow.keras.datasets import mnist\n",
        "\n",
        "from sklearn.metrics import confusion_matrix"
      ],
      "execution_count": 15,
      "outputs": []
    },
    {
      "cell_type": "markdown",
      "metadata": {
        "id": "wMp7M4n5PsLt"
      },
      "source": [
        "# Load Dataset"
      ]
    },
    {
      "cell_type": "code",
      "metadata": {
        "colab": {
          "base_uri": "https://localhost:8080/"
        },
        "id": "jurMWPNkPrmu",
        "outputId": "38890bdc-1390-443b-c6f8-749c1d66b8d7"
      },
      "source": [
        "(X_train, y_train), (X_test, y_test) = mnist.load_data()\n",
        "X_train, X_test = X_train / 255.0, X_test / 255.0\n",
        "print(X_train.shape, X_test.shape)"
      ],
      "execution_count": 6,
      "outputs": [
        {
          "output_type": "stream",
          "text": [
            "(60000, 28, 28) (10000, 28, 28)\n"
          ],
          "name": "stdout"
        }
      ]
    },
    {
      "cell_type": "markdown",
      "metadata": {
        "id": "46I3fGFhQkDZ"
      },
      "source": [
        "# Train Model"
      ]
    },
    {
      "cell_type": "code",
      "metadata": {
        "colab": {
          "base_uri": "https://localhost:8080/"
        },
        "id": "XQHDUsIhPnSb",
        "outputId": "cfc29b8e-522f-4da1-8395-a046e97613c6"
      },
      "source": [
        "i = Input(shape=X_train[0].shape)\n",
        "x = LSTM(128)(i)\n",
        "x = Dense(10, activation='softmax')(x)\n",
        "\n",
        "model = Model(i, x)\n",
        "model.summary()"
      ],
      "execution_count": 8,
      "outputs": [
        {
          "output_type": "stream",
          "text": [
            "Model: \"model\"\n",
            "_________________________________________________________________\n",
            "Layer (type)                 Output Shape              Param #   \n",
            "=================================================================\n",
            "input_1 (InputLayer)         [(None, 28, 28)]          0         \n",
            "_________________________________________________________________\n",
            "lstm (LSTM)                  (None, 128)               80384     \n",
            "_________________________________________________________________\n",
            "dense (Dense)                (None, 10)                1290      \n",
            "=================================================================\n",
            "Total params: 81,674\n",
            "Trainable params: 81,674\n",
            "Non-trainable params: 0\n",
            "_________________________________________________________________\n"
          ],
          "name": "stdout"
        }
      ]
    },
    {
      "cell_type": "code",
      "metadata": {
        "colab": {
          "base_uri": "https://localhost:8080/"
        },
        "id": "7IuhkfQrQptJ",
        "outputId": "e2146733-5d59-4540-b8d8-80da0c37b613"
      },
      "source": [
        "es = EarlyStopping(\n",
        "    monitor='val_accuracy', \n",
        "    patience=8, \n",
        "    min_delta=0.001, \n",
        "    mode='max'\n",
        ")\n",
        "\n",
        "model.compile(optimizer='adam',\n",
        "              loss='sparse_categorical_crossentropy',\n",
        "              metrics=['accuracy'])\n",
        "r = model.fit(X_train, y_train, \n",
        "              validation_data=(X_test, y_test), \n",
        "              epochs=50, callbacks=[es])"
      ],
      "execution_count": 10,
      "outputs": [
        {
          "output_type": "stream",
          "text": [
            "Epoch 1/50\n",
            "1875/1875 [==============================] - 65s 34ms/step - loss: 0.3373 - accuracy: 0.8915 - val_loss: 0.1361 - val_accuracy: 0.9585\n",
            "Epoch 2/50\n",
            "1875/1875 [==============================] - 62s 33ms/step - loss: 0.1075 - accuracy: 0.9677 - val_loss: 0.0863 - val_accuracy: 0.9741\n",
            "Epoch 3/50\n",
            "1875/1875 [==============================] - 62s 33ms/step - loss: 0.0743 - accuracy: 0.9769 - val_loss: 0.0674 - val_accuracy: 0.9794\n",
            "Epoch 4/50\n",
            "1875/1875 [==============================] - 62s 33ms/step - loss: 0.0563 - accuracy: 0.9828 - val_loss: 0.0580 - val_accuracy: 0.9827\n",
            "Epoch 5/50\n",
            "1875/1875 [==============================] - 63s 34ms/step - loss: 0.0456 - accuracy: 0.9858 - val_loss: 0.0529 - val_accuracy: 0.9849\n",
            "Epoch 6/50\n",
            "1875/1875 [==============================] - 63s 33ms/step - loss: 0.0387 - accuracy: 0.9880 - val_loss: 0.0574 - val_accuracy: 0.9825\n",
            "Epoch 7/50\n",
            "1875/1875 [==============================] - 62s 33ms/step - loss: 0.0310 - accuracy: 0.9902 - val_loss: 0.0499 - val_accuracy: 0.9868\n",
            "Epoch 8/50\n",
            "1875/1875 [==============================] - 62s 33ms/step - loss: 0.0275 - accuracy: 0.9917 - val_loss: 0.0456 - val_accuracy: 0.9861\n",
            "Epoch 9/50\n",
            "1875/1875 [==============================] - 63s 33ms/step - loss: 0.0253 - accuracy: 0.9923 - val_loss: 0.0501 - val_accuracy: 0.9851\n",
            "Epoch 10/50\n",
            "1875/1875 [==============================] - 63s 33ms/step - loss: 0.0209 - accuracy: 0.9934 - val_loss: 0.0394 - val_accuracy: 0.9881\n",
            "Epoch 11/50\n",
            "1875/1875 [==============================] - 62s 33ms/step - loss: 0.0219 - accuracy: 0.9933 - val_loss: 0.0511 - val_accuracy: 0.9855\n",
            "Epoch 12/50\n",
            "1875/1875 [==============================] - 62s 33ms/step - loss: 0.0164 - accuracy: 0.9949 - val_loss: 0.0375 - val_accuracy: 0.9890\n",
            "Epoch 13/50\n",
            "1875/1875 [==============================] - 62s 33ms/step - loss: 0.0149 - accuracy: 0.9954 - val_loss: 0.0556 - val_accuracy: 0.9854\n",
            "Epoch 14/50\n",
            "1875/1875 [==============================] - 63s 34ms/step - loss: 0.0166 - accuracy: 0.9944 - val_loss: 0.0399 - val_accuracy: 0.9888\n",
            "Epoch 15/50\n",
            "1875/1875 [==============================] - 63s 33ms/step - loss: 0.0120 - accuracy: 0.9962 - val_loss: 0.0505 - val_accuracy: 0.9866\n",
            "Epoch 16/50\n",
            "1875/1875 [==============================] - 63s 33ms/step - loss: 0.0115 - accuracy: 0.9962 - val_loss: 0.0470 - val_accuracy: 0.9878\n",
            "Epoch 17/50\n",
            "1875/1875 [==============================] - 63s 33ms/step - loss: 0.0132 - accuracy: 0.9958 - val_loss: 0.0396 - val_accuracy: 0.9891\n",
            "Epoch 18/50\n",
            "1875/1875 [==============================] - 63s 33ms/step - loss: 0.0109 - accuracy: 0.9967 - val_loss: 0.0574 - val_accuracy: 0.9861\n",
            "Epoch 19/50\n",
            "1875/1875 [==============================] - 63s 33ms/step - loss: 0.0098 - accuracy: 0.9971 - val_loss: 0.0468 - val_accuracy: 0.9886\n",
            "Epoch 20/50\n",
            "1875/1875 [==============================] - 63s 34ms/step - loss: 0.0095 - accuracy: 0.9969 - val_loss: 0.0427 - val_accuracy: 0.9877\n",
            "Epoch 21/50\n",
            "1875/1875 [==============================] - 63s 34ms/step - loss: 0.0102 - accuracy: 0.9967 - val_loss: 0.0431 - val_accuracy: 0.9882\n",
            "Epoch 22/50\n",
            "1875/1875 [==============================] - 63s 34ms/step - loss: 0.0081 - accuracy: 0.9975 - val_loss: 0.0425 - val_accuracy: 0.9903\n",
            "Epoch 23/50\n",
            "1875/1875 [==============================] - 63s 34ms/step - loss: 0.0091 - accuracy: 0.9973 - val_loss: 0.0430 - val_accuracy: 0.9890\n",
            "Epoch 24/50\n",
            "1875/1875 [==============================] - 65s 34ms/step - loss: 0.0064 - accuracy: 0.9980 - val_loss: 0.0450 - val_accuracy: 0.9892\n",
            "Epoch 25/50\n",
            "1875/1875 [==============================] - 64s 34ms/step - loss: 0.0077 - accuracy: 0.9976 - val_loss: 0.0521 - val_accuracy: 0.9874\n",
            "Epoch 26/50\n",
            "1875/1875 [==============================] - 63s 34ms/step - loss: 0.0074 - accuracy: 0.9976 - val_loss: 0.0484 - val_accuracy: 0.9870\n",
            "Epoch 27/50\n",
            "1875/1875 [==============================] - 63s 34ms/step - loss: 0.0079 - accuracy: 0.9974 - val_loss: 0.0376 - val_accuracy: 0.9906\n",
            "Epoch 28/50\n",
            "1875/1875 [==============================] - 63s 33ms/step - loss: 0.0055 - accuracy: 0.9983 - val_loss: 0.0500 - val_accuracy: 0.9895\n",
            "Epoch 29/50\n",
            "1875/1875 [==============================] - 64s 34ms/step - loss: 0.0068 - accuracy: 0.9979 - val_loss: 0.0495 - val_accuracy: 0.9893\n",
            "Epoch 30/50\n",
            "1875/1875 [==============================] - 64s 34ms/step - loss: 0.0060 - accuracy: 0.9980 - val_loss: 0.0539 - val_accuracy: 0.9877\n"
          ],
          "name": "stdout"
        }
      ]
    },
    {
      "cell_type": "code",
      "metadata": {
        "colab": {
          "base_uri": "https://localhost:8080/",
          "height": 266
        },
        "id": "xSWg6HpoROU6",
        "outputId": "eea5cde8-1841-4ea5-86de-a74b38f29ca9"
      },
      "source": [
        "plt.plot(r.history['loss'], label='loss')\n",
        "plt.plot(r.history['val_loss'], label='val_loss')\n",
        "plt.legend()\n",
        "plt.show();"
      ],
      "execution_count": 12,
      "outputs": [
        {
          "output_type": "display_data",
          "data": {
            "image/png": "[encoded data removed]",
            "text/plain": [
              "<Figure size 432x288 with 1 Axes>"
            ]
          },
          "metadata": {
            "tags": [],
            "needs_background": "light"
          }
        }
      ]
    },
    {
      "cell_type": "code",
      "metadata": {
        "colab": {
          "base_uri": "https://localhost:8080/",
          "height": 264
        },
        "id": "OV_y7Q68a42r",
        "outputId": "b36e81b9-d506-4179-ace7-c42aee00393a"
      },
      "source": [
        "plt.plot(r.history['accuracy'], label='acc')\n",
        "plt.plot(r.history['val_accuracy'], label='val_acc')\n",
        "plt.legend()\n",
        "plt.show();"
      ],
      "execution_count": 13,
      "outputs": [
        {
          "output_type": "display_data",
          "data": {
            "image/png": "[encoded data removed]",
            "text/plain": [
              "<Figure size 432x288 with 1 Axes>"
            ]
          },
          "metadata": {
            "tags": [],
            "needs_background": "light"
          }
        }
      ]
    },
    {
      "cell_type": "markdown",
      "metadata": {
        "id": "_iRPI2NWbW1y"
      },
      "source": [
        "# Evaluation"
      ]
    },
    {
      "cell_type": "code",
      "metadata": {
        "id": "pBKp3QIDa8cn"
      },
      "source": [
        "def plot_confusion_matrix(cm, classes,\n",
        "                          normalize=False,\n",
        "                          title='Confusion matrix',\n",
        "                          cmap=plt.cm.Blues):\n",
        "    if normalize:\n",
        "        cm = cm.astype('float') / cm.sum(axis=1)[:, np.newaxis]\n",
        "        print(\"Normalized confusion matrix\")\n",
        "    else:\n",
        "        print('Confusion matrix, without normalization')\n",
        "\n",
        "    # print(cm)\n",
        "\n",
        "    plt.imshow(cm, interpolation='nearest', cmap=cmap)\n",
        "    plt.title(title)\n",
        "    plt.colorbar()\n",
        "    tick_marks = np.arange(len(classes))\n",
        "    plt.xticks(tick_marks, classes, rotation=45)\n",
        "    plt.yticks(tick_marks, classes)\n",
        "\n",
        "    fmt = '.2f' if normalize else 'd'\n",
        "    thresh = cm.max() / 2.\n",
        "    for i, j in itertools.product(range(cm.shape[0]), range(cm.shape[1])):\n",
        "        plt.text(j, i, format(cm[i, j], fmt),\n",
        "                horizontalalignment=\"center\",\n",
        "                color=\"white\" if cm[i, j] > thresh else \"black\")\n",
        "\n",
        "    plt.tight_layout()\n",
        "    plt.ylabel('True label')\n",
        "    plt.xlabel('Predicted label')\n",
        "    plt.show()"
      ],
      "execution_count": 17,
      "outputs": []
    },
    {
      "cell_type": "code",
      "metadata": {
        "colab": {
          "base_uri": "https://localhost:8080/",
          "height": 328
        },
        "id": "XmhFcHsybpjP",
        "outputId": "a288b17f-8eef-45b6-a904-973c413bbc2b"
      },
      "source": [
        "y_pred = model.predict(X_test).argmax(axis=1)\n",
        "cm = confusion_matrix(y_test, y_pred)\n",
        "plot_confusion_matrix(cm, list(range(10)))"
      ],
      "execution_count": 19,
      "outputs": [
        {
          "output_type": "stream",
          "text": [
            "Confusion matrix, without normalization\n"
          ],
          "name": "stdout"
        },
        {
          "output_type": "display_data",
          "data": {
            "image/png": "[encoded data removed]",
            "text/plain": [
              "<Figure size 432x288 with 2 Axes>"
            ]
          },
          "metadata": {
            "tags": [],
            "needs_background": "light"
          }
        }
      ]
    },
    {
      "cell_type": "code",
      "metadata": {
        "colab": {
          "base_uri": "https://localhost:8080/",
          "height": 281
        },
        "id": "_EVRAzljbvs2",
        "outputId": "0692a269-cdb3-45ff-e823-b59aa0caa0bd"
      },
      "source": [
        "misclassified_idx = np.where(y_pred != y_test)[0]\n",
        "i = np.random.choice(misclassified_idx)\n",
        "plt.imshow(X_test[i], cmap='gray')\n",
        "plt.title(\"True label: %s Predicted: %s\" % (y_test[i], y_pred[i]));"
      ],
      "execution_count": 25,
      "outputs": [
        {
          "output_type": "display_data",
          "data": {
            "image/png": "[encoded data removed]",
            "text/plain": [
              "<Figure size 432x288 with 1 Axes>"
            ]
          },
          "metadata": {
            "tags": [],
            "needs_background": "light"
          }
        }
      ]
    }
  ]
}