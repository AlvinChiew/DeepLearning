{
  "nbformat": 4,
  "nbformat_minor": 0,
  "metadata": {
    "colab": {
      "name": "PyTorch_Classification.ipynb",
      "provenance": [],
      "collapsed_sections": [],
      "toc_visible": true,
      "authorship_tag": "ABX9TyOVHx9TkEhAPqhdGx4HZpGH"
    },
    "kernelspec": {
      "name": "python3",
      "display_name": "Python 3"
    },
    "language_info": {
      "name": "python"
    },
    "accelerator": "GPU"
  },
  "cells": [
    {
      "cell_type": "markdown",
      "metadata": {
        "id": "4C-IigwCLtUp"
      },
      "source": [
        "# Import Modules"
      ]
    },
    {
      "cell_type": "code",
      "metadata": {
        "id": "hTQBlO-8Lusr"
      },
      "source": [
        "import os\n",
        "import pandas as pd\n",
        "import matplotlib.pyplot as plt\n",
        "from matplotlib.image import imread\n",
        "from IPython.display import display\n",
        "\n",
        "import torch\n",
        "from torch import nn\n",
        "from torch.optim import SGD\n",
        "\n",
        "from sklearn.preprocessing import LabelEncoder\n",
        "from sklearn.model_selection import train_test_split\n",
        "\n",
        "from torchvision.io import read_image\n",
        "from torchvision.transforms import ToTensor, Lambda, Compose\n",
        "from torch.utils.data import DataLoader, Dataset"
      ],
      "execution_count": 1,
      "outputs": []
    },
    {
      "cell_type": "markdown",
      "metadata": {
        "id": "R4W7HJDqNpS1"
      },
      "source": [
        "# Classes & Functions"
      ]
    },
    {
      "cell_type": "code",
      "metadata": {
        "id": "0KqlCdPvNr8l"
      },
      "source": [
        "class CustomImageDataset(Dataset):\n",
        "    def __init__(self, dataset_dir, annotations_file, anno_y_col, anno_x_col, transform=None, target_transform=None):\n",
        "        self.label_encoder = LabelEncoder()\n",
        "\n",
        "        def preproc_index(annotations_file):\n",
        "            df = pd.read_csv(annotations_file)\n",
        "            df[anno_x_col] = df[anno_x_col].apply(lambda x : dataset_dir + x)\n",
        "            return df\n",
        "\n",
        "        self.img_labels = preproc_index(annotations_file)     #  encode_label(annotations_file)\n",
        "        self.anno_x_col = anno_x_col\n",
        "        self.anno_y_col = anno_y_col\n",
        "        self.transform = transform\n",
        "        self.target_transform = target_transform\n",
        "\n",
        "\n",
        "    def __len__(self):        \n",
        "        return len(self.img_labels)\n",
        "\n",
        "    def show_img(self, idx):        \n",
        "        img_path = self.img_labels.loc[idx, self.anno_x_col]        \n",
        "        label = self.img_labels.loc[idx, self.anno_y_col]\n",
        "        print(label, img_path)\n",
        "        img = imread(img_path)\n",
        "        plt.imshow(img, cmap=\"gray\");\n",
        "        plt.show();\n",
        "\n",
        "    def __getitem__(self, idx):        \n",
        "        img_path = self.img_labels.loc[idx, self.anno_x_col]\n",
        "        image = read_image(img_path).type(torch.float)\n",
        "        label = self.img_labels.loc[idx, self.anno_y_col]\n",
        "        if self.transform:\n",
        "            image = self.transform(image)        \n",
        "        if self.target_transform:\n",
        "            label = self.target_transform([label])[0]\n",
        "        return image, label"
      ],
      "execution_count": 2,
      "outputs": []
    },
    {
      "cell_type": "markdown",
      "metadata": {
        "id": "3i8-nECzMdQn"
      },
      "source": [
        "# Load Data"
      ]
    },
    {
      "cell_type": "code",
      "metadata": {
        "colab": {
          "base_uri": "https://localhost:8080/"
        },
        "id": "n64YPmpFTPCP",
        "outputId": "69888041-aba2-47e5-bf82-73c3144e57e2"
      },
      "source": [
        "from google.colab import drive\n",
        "drive.mount('/content/gdrive')\n",
        "\n",
        "!unzip -q -o gdrive/MyDrive/Dataset/fashion_mnist.zip -d ./data/"
      ],
      "execution_count": 3,
      "outputs": [
        {
          "output_type": "stream",
          "text": [
            "Mounted at /content/gdrive\n"
          ],
          "name": "stdout"
        }
      ]
    },
    {
      "cell_type": "code",
      "metadata": {
        "colab": {
          "base_uri": "https://localhost:8080/",
          "height": 398
        },
        "id": "r9KeA-bZhjeu",
        "outputId": "551b3ca3-4c02-49d4-ff5c-00f3bfe6263c"
      },
      "source": [
        "# split index into train and test\n",
        "df = pd.read_csv('data/fashion/index.csv')\n",
        "df_train, df_test = train_test_split(df, test_size=0.2, stratify=df['category'], random_state=42)\n",
        "df_train.to_csv('data/fashion/index_train.csv')\n",
        "df_test.to_csv('data/fashion/index_test.csv')\n",
        "display(df_train['category'].value_counts())\n",
        "display(df_test['category'].value_counts())"
      ],
      "execution_count": 4,
      "outputs": [
        {
          "output_type": "display_data",
          "data": {
            "text/plain": [
              "Coat          4800\n",
              "Shirt         4800\n",
              "T-shirt       4800\n",
              "Sneaker       4800\n",
              "Bag           4800\n",
              "Trouser       4800\n",
              "Ankle boot    4800\n",
              "Pullover      4800\n",
              "Dress         4800\n",
              "Sandal        4800\n",
              "Name: category, dtype: int64"
            ]
          },
          "metadata": {
            "tags": []
          }
        },
        {
          "output_type": "display_data",
          "data": {
            "text/plain": [
              "T-shirt       1200\n",
              "Pullover      1200\n",
              "Trouser       1200\n",
              "Dress         1200\n",
              "Coat          1200\n",
              "Sneaker       1200\n",
              "Shirt         1200\n",
              "Ankle boot    1200\n",
              "Bag           1200\n",
              "Sandal        1200\n",
              "Name: category, dtype: int64"
            ]
          },
          "metadata": {
            "tags": []
          }
        }
      ]
    },
    {
      "cell_type": "code",
      "metadata": {
        "colab": {
          "base_uri": "https://localhost:8080/"
        },
        "id": "4rXdZubZmdOZ",
        "outputId": "48290bfa-95db-47e4-b71f-64304205331b"
      },
      "source": [
        "le = LabelEncoder()\n",
        "le = le.fit(df_train['category'])\n",
        "le.classes_"
      ],
      "execution_count": 5,
      "outputs": [
        {
          "output_type": "execute_result",
          "data": {
            "text/plain": [
              "array(['Ankle boot', 'Bag', 'Coat', 'Dress', 'Pullover', 'Sandal',\n",
              "       'Shirt', 'Sneaker', 'T-shirt', 'Trouser'], dtype=object)"
            ]
          },
          "metadata": {
            "tags": []
          },
          "execution_count": 5
        }
      ]
    },
    {
      "cell_type": "code",
      "metadata": {
        "colab": {
          "base_uri": "https://localhost:8080/"
        },
        "id": "MNIVE5ZPnIok",
        "outputId": "0674afa4-2de2-4cbc-d574-b7121a011e23"
      },
      "source": [
        "le.transform(['Shirt'])"
      ],
      "execution_count": 6,
      "outputs": [
        {
          "output_type": "execute_result",
          "data": {
            "text/plain": [
              "array([6])"
            ]
          },
          "metadata": {
            "tags": []
          },
          "execution_count": 6
        }
      ]
    },
    {
      "cell_type": "code",
      "metadata": {
        "colab": {
          "base_uri": "https://localhost:8080/",
          "height": 1000
        },
        "id": "x-9UsHeISBAm",
        "outputId": "2863f211-6c49-4cca-cd77-3fd3574ae2ab"
      },
      "source": [
        "train_data = CustomImageDataset(\"./data/fashion/\", \"./data/fashion/index_train.csv\", 'category', 'image', target_transform=le.transform)\n",
        "test_data = CustomImageDataset(\"./data/fashion/\", \"./data/fashion/index_test.csv\", 'category', 'image', target_transform=le.transform)\n",
        "\n",
        "print(train_data.__len__(), test_data.__len__())\n",
        "\n",
        "# show first data\n",
        "train_data.show_img(0)    \n",
        "train_data.__getitem__(0)"
      ],
      "execution_count": 7,
      "outputs": [
        {
          "output_type": "stream",
          "text": [
            "48000 12000\n",
            "Shirt ./data/fashion/img/fashion50398.png\n"
          ],
          "name": "stdout"
        },
        {
          "output_type": "display_data",
          "data": {
            "image/png": "[encoded data removed]",
            "text/plain": [
              "<Figure size 432x288 with 1 Axes>"
            ]
          },
          "metadata": {
            "tags": [],
            "needs_background": "light"
          }
        },
        {
          "output_type": "execute_result",
          "data": {
            "text/plain": [
              "(tensor([[[  0.,   0.,   0.,   0.,   1.,   1.,   0.,   0.,   0.,  25.,  55.,\n",
              "             0.,   0.,   0.,   0.,   0.,   0.,  43.,  24.,   0.,   0.,   0.,\n",
              "             1.,   0.,   0.,   0.,   0.,   0.],\n",
              "          [  0.,   0.,   0.,   1.,   1.,   1.,   0.,  25., 147., 189., 181.,\n",
              "            96.,  51.,  49.,  55.,  37.,  76., 217., 172., 125.,  20.,   0.,\n",
              "             2.,   1.,   0.,   0.,   0.,   0.],\n",
              "          [  0.,   0.,   0.,   1.,   3.,   0.,  82., 206., 202., 190., 178.,\n",
              "           188., 239., 152.,  99., 199., 201., 162., 176., 192., 185.,  71.,\n",
              "             0.,   2.,   0.,   0.,   0.,   0.],\n",
              "          [  0.,   0.,   0.,   1.,   0.,   0., 202., 196., 181., 188., 183.,\n",
              "           169., 179., 160., 107., 198., 166., 167., 178., 170., 183., 166.,\n",
              "             0.,   0.,   1.,   0.,   0.,   0.],\n",
              "          [  0.,   0.,   0.,   1.,   0.,  48., 216., 184., 185., 185., 190.,\n",
              "           175., 164., 188., 198., 188., 157., 183., 176., 171., 167., 175.,\n",
              "            26.,   0.,   2.,   0.,   0.,   0.],\n",
              "          [  0.,   0.,   0.,   0.,   0.,  90., 224., 183., 185., 184., 183.,\n",
              "           190., 164., 169., 193., 158., 170., 174., 176., 175., 165., 180.,\n",
              "            62.,   0.,   0.,   0.,   0.,   0.],\n",
              "          [  0.,   0.,   0.,   0.,   0., 123., 228., 184., 180., 183., 178.,\n",
              "           183., 172., 172., 172., 161., 179., 170., 174., 175., 165., 181.,\n",
              "           106.,   0.,   0.,   0.,   0.,   0.],\n",
              "          [  0.,   0.,   0.,   0.,   0., 156., 229., 188., 175., 178., 175.,\n",
              "           175., 190., 157., 157., 180., 169., 169., 172., 171., 161., 179.,\n",
              "           143.,   0.,   0.,   0.,   0.,   0.],\n",
              "          [  0.,   0.,   0.,   0.,   0., 181., 228., 190., 174., 174., 176.,\n",
              "           175., 197., 167., 167., 183., 166., 169., 171., 170., 162., 175.,\n",
              "           172.,   0.,   0.,   0.,   0.,   0.],\n",
              "          [  0.,   0.,   0.,   0.,   6., 175., 221., 192., 170., 174., 176.,\n",
              "           175., 193., 176., 172., 175., 167., 169., 169., 167., 160., 169.,\n",
              "           196.,   0.,   0.,   0.,   0.,   0.],\n",
              "          [  0.,   0.,   0.,   0.,  23., 184., 216., 206., 164., 175., 176.,\n",
              "           175., 192., 178., 175., 174., 167., 166., 169., 169., 165., 169.,\n",
              "           175.,   6.,   0.,   0.,   0.,   0.],\n",
              "          [  0.,   0.,   0.,   0.,  53., 189., 208., 219., 161., 176., 176.,\n",
              "           175., 190., 181., 178., 172., 169., 165., 170., 169., 166., 167.,\n",
              "           183.,  26.,   0.,   0.,   0.,   0.],\n",
              "          [  0.,   0.,   0.,   0.,  84., 194., 207., 216., 157., 176., 175.,\n",
              "           176., 193., 183., 180., 172., 167., 167., 166., 170., 165., 167.,\n",
              "           185.,  61.,   0.,   0.,   0.,   0.],\n",
              "          [  0.,   0.,   0.,   0., 114., 193., 211., 207., 157., 175., 175.,\n",
              "           176., 196., 183., 181., 172., 166., 166., 165., 170., 164., 169.,\n",
              "           187.,  88.,   0.,   0.,   0.,   0.],\n",
              "          [  0.,   0.,   0.,   0., 155., 192., 219., 194., 161., 172., 178.,\n",
              "           176., 197., 185., 181., 169., 166., 165., 165., 171., 164., 171.,\n",
              "           184., 108.,   0.,   0.,   0.,   0.],\n",
              "          [  0.,   0.,   0.,   0., 181., 192., 225., 185., 162., 172., 179.,\n",
              "           176., 199., 185., 183., 169., 166., 164., 164., 172., 161., 170.,\n",
              "           184., 135.,   0.,   0.,   0.,   0.],\n",
              "          [  0.,   0.,   0.,   0., 210., 189., 233., 180., 161., 171., 179.,\n",
              "           179., 201., 185., 190., 166., 166., 164., 164., 176., 158., 171.,\n",
              "           183., 155.,   0.,   0.,   0.,   0.],\n",
              "          [  0.,   0.,   0.,   0., 229., 184., 234., 176., 164., 169., 180.,\n",
              "           183., 198., 185., 193., 166., 167., 164., 165., 179., 157., 176.,\n",
              "           179., 174.,   0.,   0.,   0.,   0.],\n",
              "          [  0.,   0.,   0.,   2., 237., 183., 237., 171., 166., 167., 178.,\n",
              "           188., 196., 187., 196., 164., 166., 165., 166., 179., 157., 178.,\n",
              "           176., 185.,   2.,   0.,   0.,   0.],\n",
              "          [  0.,   0.,   0.,  24., 246., 184., 255., 172., 166., 169., 180.,\n",
              "           192., 196., 189., 201., 161., 164., 165., 165., 181., 161., 181.,\n",
              "           176., 189.,  17.,   0.,   0.,   0.],\n",
              "          [  0.,   0.,   0.,  52., 247., 187., 238., 166., 170., 170., 180.,\n",
              "           198., 193., 189., 207., 160., 165., 165., 164., 180., 162., 187.,\n",
              "           175., 192.,  52.,   0.,   0.,   0.],\n",
              "          [  0.,   0.,   0.,  82., 215., 192., 239., 158., 169., 174., 179.,\n",
              "           207., 189., 187., 213., 160., 167., 166., 165., 181., 169., 190.,\n",
              "           170., 192.,  73.,   0.,   0.,   0.],\n",
              "          [  0.,   0.,   0., 102., 212., 201., 212., 166., 169., 171., 179.,\n",
              "           217., 189., 187., 217., 157., 170., 167., 166., 178., 171., 196.,\n",
              "           169., 171.,  84.,   0.,   0.,   0.],\n",
              "          [  0.,   0.,   0., 166., 211., 213., 193., 164., 170., 170., 180.,\n",
              "           226., 181., 187., 228., 157., 167., 167., 158., 188., 196., 128.,\n",
              "           170., 179., 128.,   0.,   0.,   0.],\n",
              "          [  0.,   0.,   0.,  35.,  92., 129., 199., 184., 171., 179., 187.,\n",
              "           246., 170., 189., 240., 156., 170., 174., 166., 190., 230., 139.,\n",
              "           102., 139.,  89.,   0.,   0.,   0.],\n",
              "          [  0.,   0.,   0.,   0.,   0.,   0., 142., 213., 166., 151., 178.,\n",
              "           235., 190., 162., 244., 179., 183., 160., 142., 164., 208., 125.,\n",
              "             0.,   0.,   0.,   0.,   0.,   0.],\n",
              "          [  0.,   0.,   0.,   0.,   1.,   2.,   0.,  96., 181., 179., 178.,\n",
              "           178., 185., 160., 208., 171., 167., 167., 184., 174., 105.,   0.,\n",
              "             1.,   2.,   1.,   0.,   0.,   0.],\n",
              "          [  0.,   0.,   0.,   0.,   0.,   0.,   2.,   0.,   1.,  52.,  83.,\n",
              "            98., 112., 134., 146., 105.,  89.,  73.,  49.,   0.,   0.,   0.,\n",
              "             0.,   0.,   0.,   0.,   0.,   0.]]]), 6)"
            ]
          },
          "metadata": {
            "tags": []
          },
          "execution_count": 7
        }
      ]
    },
    {
      "cell_type": "code",
      "metadata": {
        "colab": {
          "base_uri": "https://localhost:8080/"
        },
        "id": "gcVm9umBfCdM",
        "outputId": "d2108170-3d37-480e-9880-66b2410153b5"
      },
      "source": [
        "batch_size = 64\n",
        "\n",
        "train_dataloader = DataLoader(train_data, batch_size=batch_size)\n",
        "test_dataloader = DataLoader(test_data, batch_size=batch_size)\n",
        "\n",
        "for X, y in test_dataloader:\n",
        "    print(type(X[0][0][0][0]), y)\n",
        "    print(\"Shape of X [N, C, H, W]: \", X.shape)\n",
        "    print(\"Shape of y: \", y.shape, y.dtype)\n",
        "    break"
      ],
      "execution_count": 8,
      "outputs": [
        {
          "output_type": "stream",
          "text": [
            "<class 'torch.Tensor'> tensor([5, 4, 5, 2, 1, 5, 0, 1, 2, 0, 2, 5, 3, 6, 0, 3, 4, 1, 5, 8, 9, 9, 2, 6,\n",
            "        2, 0, 6, 8, 1, 7, 3, 7, 2, 8, 2, 1, 8, 7, 5, 5, 9, 4, 6, 9, 0, 8, 5, 2,\n",
            "        5, 2, 3, 6, 7, 1, 9, 1, 8, 9, 9, 1, 0, 0, 4, 2])\n",
            "Shape of X [N, C, H, W]:  torch.Size([64, 1, 28, 28])\n",
            "Shape of y:  torch.Size([64]) torch.int64\n"
          ],
          "name": "stdout"
        }
      ]
    },
    {
      "cell_type": "markdown",
      "metadata": {
        "id": "msy3qecQnwVg"
      },
      "source": [
        "# Create Model"
      ]
    },
    {
      "cell_type": "code",
      "metadata": {
        "colab": {
          "base_uri": "https://localhost:8080/"
        },
        "id": "mMMvYsxpkTF4",
        "outputId": "a15ae938-20a0-4a77-d0c6-70aa6b40ddd9"
      },
      "source": [
        "device = \"cuda\" if torch.cuda.is_available() else \"cpu\"\n",
        "print(\"Using {} device\".format(device))\n",
        "\n",
        "class NeuralNetwork(nn.Module):\n",
        "    def __init__(self):\n",
        "        super(NeuralNetwork, self).__init__()\n",
        "        self.flatten = nn.Flatten()\n",
        "        self.linear_relu_stack = nn.Sequential(\n",
        "            nn.Linear(28*28, 512),\n",
        "            nn.ReLU(),\n",
        "            nn.Linear(512, 512),\n",
        "            nn.ReLU(),\n",
        "            nn.Linear(512, 10),\n",
        "            nn.ReLU()\n",
        "        )\n",
        "\n",
        "    def forward(self, x):\n",
        "        x = self.flatten(x)\n",
        "        logits = self.linear_relu_stack(x)\n",
        "        return logits\n",
        "\n",
        "\n",
        "epochs = 5\n",
        "model = NeuralNetwork().to(device)\n",
        "print(model)"
      ],
      "execution_count": 9,
      "outputs": [
        {
          "output_type": "stream",
          "text": [
            "Using cpu device\n",
            "NeuralNetwork(\n",
            "  (flatten): Flatten(start_dim=1, end_dim=-1)\n",
            "  (linear_relu_stack): Sequential(\n",
            "    (0): Linear(in_features=784, out_features=512, bias=True)\n",
            "    (1): ReLU()\n",
            "    (2): Linear(in_features=512, out_features=512, bias=True)\n",
            "    (3): ReLU()\n",
            "    (4): Linear(in_features=512, out_features=10, bias=True)\n",
            "    (5): ReLU()\n",
            "  )\n",
            ")\n"
          ],
          "name": "stdout"
        }
      ]
    },
    {
      "cell_type": "code",
      "metadata": {
        "id": "EKLeakr5o7yd"
      },
      "source": [
        "loss_fn = nn.CrossEntropyLoss()\n",
        "optimizer = torch.optim.SGD(model.parameters(), lr=1e-3)\n",
        "\n",
        "def train(dataloader, model, loss_fn, optimizer):\n",
        "    size = len(dataloader.dataset)\n",
        "    for batch, (X, y) in enumerate(dataloader):\n",
        "        X, y = X.to(device), y.to(device)\n",
        "        \n",
        "        # Compute prediction error\n",
        "        pred = model(X)\n",
        "        loss = loss_fn(pred, y)\n",
        "        \n",
        "        # Backpropagation\n",
        "        optimizer.zero_grad()\n",
        "        loss.backward()\n",
        "        optimizer.step()\n",
        "\n",
        "        if batch % 100 == 0:\n",
        "            loss, current = loss.item(), batch * len(X)\n",
        "            print(f\"loss: {loss:>7f}  [{current:>5d}/{size:>5d}]\")\n",
        "\n",
        "def test(dataloader, model, loss_fn):\n",
        "    size = len(dataloader.dataset)\n",
        "    num_batches = len(dataloader)\n",
        "    model.eval()\n",
        "    test_loss, correct = 0, 0\n",
        "    with torch.no_grad():\n",
        "        for X, y in dataloader:\n",
        "            X, y = X.to(device), y.to(device)\n",
        "            pred = model(X)\n",
        "            test_loss += loss_fn(pred, y).item()\n",
        "            correct += (pred.argmax(1) == y).type(torch.float).sum().item()\n",
        "    test_loss /= num_batches\n",
        "    correct /= size\n",
        "    print(f\"Test Error: \\n Accuracy: {(100*correct):>0.1f}%, Avg loss: {test_loss:>8f} \\n\")"
      ],
      "execution_count": 10,
      "outputs": []
    },
    {
      "cell_type": "code",
      "metadata": {
        "colab": {
          "base_uri": "https://localhost:8080/"
        },
        "id": "40vSVcQspJD-",
        "outputId": "8b20f2bf-5f3a-490f-ee00-c2acada85114"
      },
      "source": [
        "epochs = 5\n",
        "for t in range(epochs):\n",
        "    print(f\"Epoch {t+1}\\n-------------------------------\")\n",
        "    train(train_dataloader, model, loss_fn, optimizer)\n",
        "    test(test_dataloader, model, loss_fn)\n",
        "print(\"Done!\")"
      ],
      "execution_count": 11,
      "outputs": [
        {
          "output_type": "stream",
          "text": [
            "Epoch 1\n",
            "-------------------------------\n",
            "loss: 10.263924  [    0/48000]\n",
            "loss: 2.060580  [ 6400/48000]\n",
            "loss: 2.213773  [12800/48000]\n",
            "loss: 2.020173  [19200/48000]\n",
            "loss: 2.006258  [25600/48000]\n",
            "loss: 2.107241  [32000/48000]\n",
            "loss: 2.055953  [38400/48000]\n",
            "loss: 2.171502  [44800/48000]\n",
            "Test Error: \n",
            " Accuracy: 19.2%, Avg loss: 2.107322 \n",
            "\n",
            "Epoch 2\n",
            "-------------------------------\n",
            "loss: 2.104666  [    0/48000]\n",
            "loss: 1.984458  [ 6400/48000]\n",
            "loss: 2.198002  [12800/48000]\n",
            "loss: 1.987593  [19200/48000]\n",
            "loss: 2.002504  [25600/48000]\n",
            "loss: 2.084744  [32000/48000]\n",
            "loss: 2.043664  [38400/48000]\n",
            "loss: 2.144994  [44800/48000]\n",
            "Test Error: \n",
            " Accuracy: 19.4%, Avg loss: 2.101014 \n",
            "\n",
            "Epoch 3\n",
            "-------------------------------\n",
            "loss: 2.098272  [    0/48000]\n",
            "loss: 1.952780  [ 6400/48000]\n",
            "loss: 2.201146  [12800/48000]\n",
            "loss: 1.963513  [19200/48000]\n",
            "loss: 2.005053  [25600/48000]\n",
            "loss: 2.058241  [32000/48000]\n",
            "loss: 2.021533  [38400/48000]\n",
            "loss: 2.128213  [44800/48000]\n",
            "Test Error: \n",
            " Accuracy: 19.5%, Avg loss: 2.098552 \n",
            "\n",
            "Epoch 4\n",
            "-------------------------------\n",
            "loss: 2.092823  [    0/48000]\n",
            "loss: 1.918858  [ 6400/48000]\n",
            "loss: 2.202932  [12800/48000]\n",
            "loss: 1.954544  [19200/48000]\n",
            "loss: 2.010934  [25600/48000]\n",
            "loss: 2.054724  [32000/48000]\n",
            "loss: 2.017109  [38400/48000]\n",
            "loss: 2.119792  [44800/48000]\n",
            "Test Error: \n",
            " Accuracy: 19.5%, Avg loss: 2.097231 \n",
            "\n",
            "Epoch 5\n",
            "-------------------------------\n",
            "loss: 2.090516  [    0/48000]\n",
            "loss: 1.915033  [ 6400/48000]\n",
            "loss: 2.202039  [12800/48000]\n",
            "loss: 1.952052  [19200/48000]\n",
            "loss: 2.010124  [25600/48000]\n",
            "loss: 2.053888  [32000/48000]\n",
            "loss: 2.016054  [38400/48000]\n",
            "loss: 2.114861  [44800/48000]\n",
            "Test Error: \n",
            " Accuracy: 19.5%, Avg loss: 2.096604 \n",
            "\n",
            "Done!\n"
          ],
          "name": "stdout"
        }
      ]
    },
    {
      "cell_type": "markdown",
      "metadata": {
        "id": "QZXxFmEq5kQg"
      },
      "source": [
        "# Export & Import"
      ]
    },
    {
      "cell_type": "code",
      "metadata": {
        "colab": {
          "base_uri": "https://localhost:8080/"
        },
        "id": "NSukh1lF2TYE",
        "outputId": "7d797530-e425-4c32-fa82-9c98f37615be"
      },
      "source": [
        "torch.save(model.state_dict(), \"model.pth\")\n",
        "pretrained_model = NeuralNetwork()\n",
        "pretrained_model.load_state_dict(torch.load(\"model.pth\"))"
      ],
      "execution_count": 12,
      "outputs": [
        {
          "output_type": "execute_result",
          "data": {
            "text/plain": [
              "<All keys matched successfully>"
            ]
          },
          "metadata": {
            "tags": []
          },
          "execution_count": 12
        }
      ]
    },
    {
      "cell_type": "markdown",
      "metadata": {
        "id": "HOK8irbL5-1f"
      },
      "source": [
        "# Prediction"
      ]
    },
    {
      "cell_type": "code",
      "metadata": {
        "colab": {
          "base_uri": "https://localhost:8080/",
          "height": 300
        },
        "id": "rHqdZJkp5713",
        "outputId": "be41f8d2-cdcb-4c8f-99c2-debfdfd3b36e"
      },
      "source": [
        "i = 0\n",
        "\n",
        "model.eval()\n",
        "X, y = test_data[i][0], test_data[i][1]\n",
        "with torch.no_grad():\n",
        "    pred = model(X)\n",
        "    predicted, actual = le.classes_[pred[0].argmax(0)], le.classes_[y]\n",
        "    print(f'Predicted: \"{predicted}\", Actual: \"{actual}\"')\n",
        "    test_data.show_img(i)    "
      ],
      "execution_count": 22,
      "outputs": [
        {
          "output_type": "stream",
          "text": [
            "Predicted: \"Sandal\", Actual: \"Sandal\"\n",
            "Sandal ./data/fashion/img/fashion37343.png\n"
          ],
          "name": "stdout"
        },
        {
          "output_type": "display_data",
          "data": {
            "image/png": "[encoded data removed]",
            "text/plain": [
              "<Figure size 432x288 with 1 Axes>"
            ]
          },
          "metadata": {
            "tags": [],
            "needs_background": "light"
          }
        }
      ]
    }
  ]
}