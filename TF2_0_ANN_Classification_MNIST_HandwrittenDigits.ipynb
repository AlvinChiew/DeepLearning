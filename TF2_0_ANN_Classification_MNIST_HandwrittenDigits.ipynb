{
  "nbformat": 4,
  "nbformat_minor": 0,
  "metadata": {
    "colab": {
      "name": "TF2.0_ANN_Classification_MNIST_HandwrittenDigits.ipynb",
      "provenance": [],
      "collapsed_sections": [],
      "authorship_tag": "ABX9TyM3VEFeegLySI2YnDmMtM/f",
      "include_colab_link": true
    },
    "kernelspec": {
      "name": "python3",
      "display_name": "Python 3"
    }
  },
  "cells": [
    {
      "cell_type": "markdown",
      "metadata": {
        "id": "view-in-github",
        "colab_type": "text"
      },
      "source": [
        "<a href=\"https://colab.research.google.com/github/AlvinChiew/DeepLearning/blob/main/TF2_0_ANN_Classification_MNIST_HandwrittenDigits.ipynb\" target=\"_parent\"><img src=\"https://colab.research.google.com/assets/colab-badge.svg\" alt=\"Open In Colab\"/></a>"
      ]
    },
    {
      "cell_type": "code",
      "metadata": {
        "id": "VNNLwdHa10QR"
      },
      "source": [
        "import tensorflow as tf\n",
        "from sklearn.metrics import confusion_matrix\n",
        "import matplotlib.pyplot as plt\n",
        "import numpy as np\n",
        "import itertools"
      ],
      "execution_count": 2,
      "outputs": []
    },
    {
      "cell_type": "markdown",
      "metadata": {
        "id": "r2LRncLR1sUp"
      },
      "source": [
        "# Load Data & Pre-Processing"
      ]
    },
    {
      "cell_type": "code",
      "metadata": {
        "colab": {
          "base_uri": "https://localhost:8080/"
        },
        "id": "hFeMF-ZiXB85",
        "outputId": "293e1577-fe21-431e-a25b-e3d7bb147e7f"
      },
      "source": [
        "mnist = tf.keras.datasets.mnist.load_data()"
      ],
      "execution_count": 7,
      "outputs": [
        {
          "output_type": "stream",
          "text": [
            "Downloading data from https://storage.googleapis.com/tensorflow/tf-keras-datasets/mnist.npz\n",
            "11493376/11490434 [==============================] - 0s 0us/step\n"
          ],
          "name": "stdout"
        }
      ]
    },
    {
      "cell_type": "code",
      "metadata": {
        "colab": {
          "base_uri": "https://localhost:8080/"
        },
        "id": "nSOOvmFm2EA_",
        "outputId": "390cd04f-5a80-4217-c0bd-2affda7c563a"
      },
      "source": [
        "(X_train,y_train), (X_test,y_test) = mnist\n",
        "X_train, X_test = X_train/255, X_test/255 # Scale X into 0 to 1 for each pixel\n",
        "X_train.shape # 6000 samples, height = 28 px, length = 28 px"
      ],
      "execution_count": 17,
      "outputs": [
        {
          "output_type": "execute_result",
          "data": {
            "text/plain": [
              "(60000, 28, 28)"
            ]
          },
          "metadata": {
            "tags": []
          },
          "execution_count": 17
        }
      ]
    },
    {
      "cell_type": "markdown",
      "metadata": {
        "id": "ehylUBPh8Sv4"
      },
      "source": [
        "# Modeling & Training"
      ]
    },
    {
      "cell_type": "code",
      "metadata": {
        "id": "KlDNOEEK5RU0"
      },
      "source": [
        " ### Multi-Class Logistics Regression ###\n",
        "\n",
        " model = tf.keras.models.Sequential([\n",
        "     tf.keras.layers.Flatten(input_shape=(28,28)), # convert image into N x D 2D input\n",
        "     tf.keras.layers.Dense(128, activation='relu'), # 128 hidden units - trial & error; relu - prevent vanishing gradient\n",
        "     tf.keras.layers.Dropout(0.2), # randomly drop out node with 20% probability - regularization\n",
        "     tf.keras.layers.Dense(10, activation='softmax') # 10 classes (digit 0 to 9), softmax for multi-classes \n",
        "])\n",
        "model.compile(\n",
        "    optimizer = 'adam',\n",
        "    loss='sparse_categorical_crossentropy',\n",
        "    metrics=['accuracy']\n",
        ")"
      ],
      "execution_count": 20,
      "outputs": []
    },
    {
      "cell_type": "code",
      "metadata": {
        "colab": {
          "base_uri": "https://localhost:8080/"
        },
        "id": "Tmv-lKFF8YTH",
        "outputId": "d2750a40-085f-439d-9897-5b07ef1f2c5f"
      },
      "source": [
        "log = model.fit(X_train,y_train, validation_data=(X_test,y_test), epochs=10)"
      ],
      "execution_count": 21,
      "outputs": [
        {
          "output_type": "stream",
          "text": [
            "Epoch 1/10\n",
            "1875/1875 [==============================] - 4s 2ms/step - loss: 0.2930 - accuracy: 0.9143 - val_loss: 0.1336 - val_accuracy: 0.9612\n",
            "Epoch 2/10\n",
            "1875/1875 [==============================] - 3s 2ms/step - loss: 0.1430 - accuracy: 0.9579 - val_loss: 0.1000 - val_accuracy: 0.9705\n",
            "Epoch 3/10\n",
            "1875/1875 [==============================] - 3s 2ms/step - loss: 0.1085 - accuracy: 0.9674 - val_loss: 0.0840 - val_accuracy: 0.9733\n",
            "Epoch 4/10\n",
            "1875/1875 [==============================] - 3s 2ms/step - loss: 0.0881 - accuracy: 0.9725 - val_loss: 0.0788 - val_accuracy: 0.9750\n",
            "Epoch 5/10\n",
            "1875/1875 [==============================] - 3s 2ms/step - loss: 0.0749 - accuracy: 0.9765 - val_loss: 0.0776 - val_accuracy: 0.9761\n",
            "Epoch 6/10\n",
            "1875/1875 [==============================] - 3s 2ms/step - loss: 0.0653 - accuracy: 0.9791 - val_loss: 0.0772 - val_accuracy: 0.9776\n",
            "Epoch 7/10\n",
            "1875/1875 [==============================] - 3s 2ms/step - loss: 0.0575 - accuracy: 0.9814 - val_loss: 0.0704 - val_accuracy: 0.9797\n",
            "Epoch 8/10\n",
            "1875/1875 [==============================] - 3s 2ms/step - loss: 0.0515 - accuracy: 0.9834 - val_loss: 0.0766 - val_accuracy: 0.9773\n",
            "Epoch 9/10\n",
            "1875/1875 [==============================] - 3s 2ms/step - loss: 0.0477 - accuracy: 0.9845 - val_loss: 0.0689 - val_accuracy: 0.9812\n",
            "Epoch 10/10\n",
            "1875/1875 [==============================] - 3s 2ms/step - loss: 0.0428 - accuracy: 0.9854 - val_loss: 0.0731 - val_accuracy: 0.9806\n"
          ],
          "name": "stdout"
        }
      ]
    },
    {
      "cell_type": "markdown",
      "metadata": {
        "id": "7c-1066q9H0G"
      },
      "source": [
        "# Model Evaluation"
      ]
    },
    {
      "cell_type": "code",
      "metadata": {
        "colab": {
          "base_uri": "https://localhost:8080/",
          "height": 282
        },
        "id": "APx8iWjA9P9P",
        "outputId": "8c8b9757-190c-470b-c805-175c5a0d598f"
      },
      "source": [
        "plt.plot(log.history['accuracy'], label='acc')\n",
        "plt.plot(log.history['val_accuracy'], label='val_acc')\n",
        "plt.legend()"
      ],
      "execution_count": 23,
      "outputs": [
        {
          "output_type": "execute_result",
          "data": {
            "text/plain": [
              "<matplotlib.legend.Legend at 0x7fc1fc898080>"
            ]
          },
          "metadata": {
            "tags": []
          },
          "execution_count": 23
        },
        {
          "output_type": "display_data",
          "data": {
            "image/png": "[encoded data removed]",
            "text/plain": [
              "<Figure size 432x288 with 1 Axes>"
            ]
          },
          "metadata": {
            "tags": [],
            "needs_background": "light"
          }
        }
      ]
    },
    {
      "cell_type": "code",
      "metadata": {
        "colab": {
          "base_uri": "https://localhost:8080/"
        },
        "id": "W9aDcsfc9jWS",
        "outputId": "ffd1b6b6-fde9-4caf-f8b6-942fbe4f3de0"
      },
      "source": [
        "model.evaluate(X_test,y_test) # (loss,accuracy)"
      ],
      "execution_count": 25,
      "outputs": [
        {
          "output_type": "stream",
          "text": [
            "313/313 [==============================] - 0s 1ms/step - loss: 0.0731 - accuracy: 0.9806\n"
          ],
          "name": "stdout"
        },
        {
          "output_type": "execute_result",
          "data": {
            "text/plain": [
              "[0.07310576736927032, 0.9805999994277954]"
            ]
          },
          "metadata": {
            "tags": []
          },
          "execution_count": 25
        }
      ]
    },
    {
      "cell_type": "markdown",
      "metadata": {
        "id": "ATefTxm5-B6o"
      },
      "source": [
        "## Confusion Matrix"
      ]
    },
    {
      "cell_type": "code",
      "metadata": {
        "colab": {
          "base_uri": "https://localhost:8080/"
        },
        "id": "IHWVX1x0_Yp7",
        "outputId": "afb9b16a-a3fc-4705-961d-6e519a71fa65"
      },
      "source": [
        "y_predicted = model.predict(X_test).argmax(axis=1)\n",
        "ConfMatrix = confusion_matrix(y_test, y_predicted)\n",
        "ConfMatrix"
      ],
      "execution_count": 27,
      "outputs": [
        {
          "output_type": "execute_result",
          "data": {
            "text/plain": [
              "array([[ 970,    0,    2,    1,    1,    1,    2,    1,    2,    0],\n",
              "       [   0, 1128,    2,    1,    0,    0,    1,    0,    3,    0],\n",
              "       [   1,    3, 1009,    3,    4,    0,    3,    6,    3,    0],\n",
              "       [   1,    0,    2,  991,    0,    4,    0,    7,    3,    2],\n",
              "       [   0,    1,    3,    1,  967,    0,    3,    0,    0,    7],\n",
              "       [   2,    0,    0,    7,    2,  869,    4,    2,    4,    2],\n",
              "       [   2,    3,    2,    1,    3,    3,  943,    0,    1,    0],\n",
              "       [   1,    6,    8,    0,    1,    0,    0, 1005,    1,    6],\n",
              "       [   4,    0,    4,    2,    7,    2,    2,    2,  946,    5],\n",
              "       [   1,    3,    0,    6,   13,    3,    0,    4,    1,  978]])"
            ]
          },
          "metadata": {
            "tags": []
          },
          "execution_count": 27
        }
      ]
    },
    {
      "cell_type": "code",
      "metadata": {
        "id": "Afym1N2t-Dnf"
      },
      "source": [
        "def confusion_matrix_prettify(ConfMatrix, classes, normalize=False, title='Confusion Matrix', cmap=plt.cm.Blues):\n",
        "    if normalize:\n",
        "        ConfMatrix = ConfMatrix.astype('float') / ConfMatrix.sum(axis=1)[:,np.newaxis]\n",
        "        print(\"Ploting Normalized Confusion Matrix\")\n",
        "    else:\n",
        "        print(\"Ploting Confusion Matrix without Normalization\")\n",
        "\n",
        "    plt.imshow(ConfMatrix, interpolation='nearest', cmap=cmap)\n",
        "    plt.title(title)\n",
        "    plt.colorbar()\n",
        "    tick_marks = np.arange(len(classes))\n",
        "    plt.xticks(tick_marks, classes, rotation=45)\n",
        "    plt.yticks(tick_marks, classes)\n",
        "\n",
        "    fmt = '.2f' if normalize else 'd'\n",
        "    thresh = ConfMatrix.max() / 2.\n",
        "\n",
        "    for i, j in itertools.product(range(ConfMatrix.shape[0]), range(ConfMatrix.shape[1])):\n",
        "        plt.text(j, i, format(ConfMatrix[i, j], fmt),\n",
        "                horizontalalignment=\"center\",\n",
        "                color=\"white\" if ConfMatrix[i, j] > thresh else \"black\")\n",
        "\n",
        "    plt.tight_layout()\n",
        "    plt.ylabel('True label')\n",
        "    plt.xlabel('Predicted label')\n",
        "    plt.show()"
      ],
      "execution_count": 33,
      "outputs": []
    },
    {
      "cell_type": "code",
      "metadata": {
        "colab": {
          "base_uri": "https://localhost:8080/",
          "height": 328
        },
        "id": "ZUL_XFCNAiNh",
        "outputId": "8a1a292b-276b-4e00-8c0f-2a2cf4d53116"
      },
      "source": [
        "confusion_matrix_prettify(ConfMatrix, list(range(10)))"
      ],
      "execution_count": 34,
      "outputs": [
        {
          "output_type": "stream",
          "text": [
            "Ploting Confusion Matrix without Normalization\n"
          ],
          "name": "stdout"
        },
        {
          "output_type": "display_data",
          "data": {
            "image/png": "[encoded data removed]",
            "text/plain": [
              "<Figure size 432x288 with 2 Axes>"
            ]
          },
          "metadata": {
            "tags": [],
            "needs_background": "light"
          }
        }
      ]
    },
    {
      "cell_type": "code",
      "metadata": {
        "colab": {
          "base_uri": "https://localhost:8080/",
          "height": 281
        },
        "id": "Fi1-TQcWA2_R",
        "outputId": "12383517-c154-488d-e1fd-1be4cb094ed4"
      },
      "source": [
        "### Show misclassified examples ###\n",
        "\n",
        "idx_misclassified = np.where(y_predicted != y_test)[0]\n",
        "i = np.random.choice(idx_misclassified)\n",
        "plt.imshow(X_test[i], cmap='gray')\n",
        "plt.title(\"True label : \" +  str(y_test[i]) + \"; Predicted : \" +  str(y_predicted[i]));"
      ],
      "execution_count": 43,
      "outputs": [
        {
          "output_type": "display_data",
          "data": {
            "image/png": "[encoded data removed]",
            "text/plain": [
              "<Figure size 432x288 with 1 Axes>"
            ]
          },
          "metadata": {
            "tags": [],
            "needs_background": "light"
          }
        }
      ]
    }
  ]
}